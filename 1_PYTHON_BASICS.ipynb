{
  "nbformat": 4,
  "nbformat_minor": 0,
  "metadata": {
    "colab": {
      "provenance": []
    },
    "kernelspec": {
      "name": "python3",
      "display_name": "Python 3"
    },
    "language_info": {
      "name": "python"
    }
  },
  "cells": [
    {
      "cell_type": "markdown",
      "source": [
        "# Entering Expressions into the Interactive Shell"
      ],
      "metadata": {
        "id": "dUAxz3qdmacA"
      }
    },
    {
      "cell_type": "code",
      "execution_count": null,
      "metadata": {
        "colab": {
          "base_uri": "https://localhost:8080/"
        },
        "id": "SnuvTr14lHrr",
        "outputId": "e1520bf4-5132-418d-9bbd-607ee04321e5"
      },
      "outputs": [
        {
          "output_type": "execute_result",
          "data": {
            "text/plain": [
              "4"
            ]
          },
          "metadata": {},
          "execution_count": 1
        }
      ],
      "source": [
        "2+2"
      ]
    },
    {
      "cell_type": "code",
      "source": [
        "2"
      ],
      "metadata": {
        "colab": {
          "base_uri": "https://localhost:8080/"
        },
        "id": "wxyqCBi-mgDI",
        "outputId": "aa890022-872a-4204-d99a-d62ab51b5966"
      },
      "execution_count": null,
      "outputs": [
        {
          "output_type": "execute_result",
          "data": {
            "text/plain": [
              "2"
            ]
          },
          "metadata": {},
          "execution_count": 2
        }
      ]
    },
    {
      "cell_type": "code",
      "source": [
        "# Exponent\n",
        "2 ** 3"
      ],
      "metadata": {
        "colab": {
          "base_uri": "https://localhost:8080/"
        },
        "id": "qyFQYVzVmj-Q",
        "outputId": "bc500116-76b9-4785-fefb-774f3d824b19"
      },
      "execution_count": null,
      "outputs": [
        {
          "output_type": "execute_result",
          "data": {
            "text/plain": [
              "8"
            ]
          },
          "metadata": {},
          "execution_count": 5
        }
      ]
    },
    {
      "cell_type": "code",
      "source": [
        "# Modulus/remainder\n",
        "22 % 8"
      ],
      "metadata": {
        "colab": {
          "base_uri": "https://localhost:8080/"
        },
        "id": "g3dkDTyLmzT6",
        "outputId": "b11d7b3c-2941-4b77-ecf7-683878a448df"
      },
      "execution_count": null,
      "outputs": [
        {
          "output_type": "execute_result",
          "data": {
            "text/plain": [
              "6"
            ]
          },
          "metadata": {},
          "execution_count": 6
        }
      ]
    },
    {
      "cell_type": "code",
      "source": [
        "# Integer division/floored quotient\n",
        "22 // 8"
      ],
      "metadata": {
        "colab": {
          "base_uri": "https://localhost:8080/"
        },
        "id": "3p7rC5-dm_XY",
        "outputId": "9b7eee5f-470f-479d-d541-dfa8007b4c43"
      },
      "execution_count": null,
      "outputs": [
        {
          "output_type": "execute_result",
          "data": {
            "text/plain": [
              "2"
            ]
          },
          "metadata": {},
          "execution_count": 7
        }
      ]
    },
    {
      "cell_type": "code",
      "source": [
        "# Division\n",
        "22 / 8"
      ],
      "metadata": {
        "colab": {
          "base_uri": "https://localhost:8080/"
        },
        "id": "02FvCg6FnDpF",
        "outputId": "109a777d-e2b6-43cb-f393-88c53905f5e7"
      },
      "execution_count": null,
      "outputs": [
        {
          "output_type": "execute_result",
          "data": {
            "text/plain": [
              "2.75"
            ]
          },
          "metadata": {},
          "execution_count": 8
        }
      ]
    },
    {
      "cell_type": "code",
      "source": [
        "# Multiplication\n",
        "3 * 5"
      ],
      "metadata": {
        "colab": {
          "base_uri": "https://localhost:8080/"
        },
        "id": "e71BC4JMnIwr",
        "outputId": "49e56f42-df41-46e3-dc12-0907188da8f8"
      },
      "execution_count": null,
      "outputs": [
        {
          "output_type": "execute_result",
          "data": {
            "text/plain": [
              "15"
            ]
          },
          "metadata": {},
          "execution_count": 9
        }
      ]
    },
    {
      "cell_type": "code",
      "source": [
        "# Subtraction\n",
        "5 - 2"
      ],
      "metadata": {
        "colab": {
          "base_uri": "https://localhost:8080/"
        },
        "id": "hxzT3k5PnQul",
        "outputId": "e144f3e0-d118-4e1b-dc7a-0501888bbb6b"
      },
      "execution_count": null,
      "outputs": [
        {
          "output_type": "execute_result",
          "data": {
            "text/plain": [
              "3"
            ]
          },
          "metadata": {},
          "execution_count": 10
        }
      ]
    },
    {
      "cell_type": "code",
      "source": [
        "# Addition\n",
        "2 + 2"
      ],
      "metadata": {
        "colab": {
          "base_uri": "https://localhost:8080/"
        },
        "id": "Nh0xlwN2nUG_",
        "outputId": "3e7fedf9-967a-4bad-c840-b8e70d06eb65"
      },
      "execution_count": null,
      "outputs": [
        {
          "output_type": "execute_result",
          "data": {
            "text/plain": [
              "4"
            ]
          },
          "metadata": {},
          "execution_count": 11
        }
      ]
    },
    {
      "cell_type": "code",
      "source": [
        "2 + 3 * 6"
      ],
      "metadata": {
        "colab": {
          "base_uri": "https://localhost:8080/"
        },
        "id": "2IetBLvEnXYp",
        "outputId": "694851c3-7cdb-40d3-9db4-e219bdda3843"
      },
      "execution_count": null,
      "outputs": [
        {
          "output_type": "execute_result",
          "data": {
            "text/plain": [
              "20"
            ]
          },
          "metadata": {},
          "execution_count": 12
        }
      ]
    },
    {
      "cell_type": "code",
      "source": [
        "(2 + 3) * 6"
      ],
      "metadata": {
        "colab": {
          "base_uri": "https://localhost:8080/"
        },
        "id": "v5VPKX8qnjtu",
        "outputId": "46328d96-3fd9-4ff7-a554-c996da6e901d"
      },
      "execution_count": null,
      "outputs": [
        {
          "output_type": "execute_result",
          "data": {
            "text/plain": [
              "30"
            ]
          },
          "metadata": {},
          "execution_count": 13
        }
      ]
    },
    {
      "cell_type": "code",
      "source": [
        "48565878 * 578453"
      ],
      "metadata": {
        "colab": {
          "base_uri": "https://localhost:8080/"
        },
        "id": "cC3MaXNSnm-_",
        "outputId": "4b55e33a-0986-4387-e8c4-bf54622bc00c"
      },
      "execution_count": null,
      "outputs": [
        {
          "output_type": "execute_result",
          "data": {
            "text/plain": [
              "28093077826734"
            ]
          },
          "metadata": {},
          "execution_count": 14
        }
      ]
    },
    {
      "cell_type": "code",
      "source": [
        "2 ** 8"
      ],
      "metadata": {
        "colab": {
          "base_uri": "https://localhost:8080/"
        },
        "id": "63dFmMiPnpqe",
        "outputId": "5e63f094-6949-4be5-8c25-9e25180eb2c6"
      },
      "execution_count": null,
      "outputs": [
        {
          "output_type": "execute_result",
          "data": {
            "text/plain": [
              "256"
            ]
          },
          "metadata": {},
          "execution_count": 15
        }
      ]
    },
    {
      "cell_type": "code",
      "source": [
        "23 / 7"
      ],
      "metadata": {
        "colab": {
          "base_uri": "https://localhost:8080/"
        },
        "id": "x2xWtH47nrZj",
        "outputId": "6dd9cf53-9a0c-454e-be0b-13ff8a70b94f"
      },
      "execution_count": null,
      "outputs": [
        {
          "output_type": "execute_result",
          "data": {
            "text/plain": [
              "3.2857142857142856"
            ]
          },
          "metadata": {},
          "execution_count": 16
        }
      ]
    },
    {
      "cell_type": "code",
      "source": [
        "23 // 7"
      ],
      "metadata": {
        "colab": {
          "base_uri": "https://localhost:8080/"
        },
        "id": "76eN9SQBnsdn",
        "outputId": "a7bedae9-499e-451e-b6ba-3ed818f5dd81"
      },
      "execution_count": null,
      "outputs": [
        {
          "output_type": "execute_result",
          "data": {
            "text/plain": [
              "3"
            ]
          },
          "metadata": {},
          "execution_count": 18
        }
      ]
    },
    {
      "cell_type": "code",
      "source": [
        "23 % 7"
      ],
      "metadata": {
        "colab": {
          "base_uri": "https://localhost:8080/"
        },
        "id": "-luHIH_vntd1",
        "outputId": "88dfa9ca-608d-4ce7-b3e3-13b449be41bf"
      },
      "execution_count": null,
      "outputs": [
        {
          "output_type": "execute_result",
          "data": {
            "text/plain": [
              "2"
            ]
          },
          "metadata": {},
          "execution_count": 19
        }
      ]
    },
    {
      "cell_type": "code",
      "source": [
        "2 + 2"
      ],
      "metadata": {
        "colab": {
          "base_uri": "https://localhost:8080/"
        },
        "id": "jPglbcPznz1T",
        "outputId": "c1413d21-2e9f-4f67-8883-f214d0108274"
      },
      "execution_count": null,
      "outputs": [
        {
          "output_type": "execute_result",
          "data": {
            "text/plain": [
              "4"
            ]
          },
          "metadata": {},
          "execution_count": 20
        }
      ]
    },
    {
      "cell_type": "code",
      "source": [
        "(5 - 1) * ((7 + 1) / (3 - 1))"
      ],
      "metadata": {
        "colab": {
          "base_uri": "https://localhost:8080/"
        },
        "id": "Z-FCGnyWn17e",
        "outputId": "dbefe114-37de-4da8-830c-0d7bc530b3e0"
      },
      "execution_count": null,
      "outputs": [
        {
          "output_type": "execute_result",
          "data": {
            "text/plain": [
              "16.0"
            ]
          },
          "metadata": {},
          "execution_count": 21
        }
      ]
    },
    {
      "cell_type": "code",
      "source": [
        "5 +"
      ],
      "metadata": {
        "colab": {
          "base_uri": "https://localhost:8080/",
          "height": 108
        },
        "id": "h07PnApen7F2",
        "outputId": "600693b3-a5f9-40c3-895a-4c8281538bad"
      },
      "execution_count": null,
      "outputs": [
        {
          "output_type": "error",
          "ename": "SyntaxError",
          "evalue": "invalid syntax (<ipython-input-22-4f4744a157be>, line 1)",
          "traceback": [
            "\u001b[0;36m  File \u001b[0;32m\"<ipython-input-22-4f4744a157be>\"\u001b[0;36m, line \u001b[0;32m1\u001b[0m\n\u001b[0;31m    5 +\u001b[0m\n\u001b[0m       ^\u001b[0m\n\u001b[0;31mSyntaxError\u001b[0m\u001b[0;31m:\u001b[0m invalid syntax\n"
          ]
        }
      ]
    },
    {
      "cell_type": "code",
      "source": [
        "42 + 5 + * 2"
      ],
      "metadata": {
        "colab": {
          "base_uri": "https://localhost:8080/",
          "height": 108
        },
        "id": "DrqP52WkoJ7D",
        "outputId": "06d90d1d-e675-44fc-f55b-0a5ef19ad4af"
      },
      "execution_count": null,
      "outputs": [
        {
          "output_type": "error",
          "ename": "SyntaxError",
          "evalue": "invalid syntax (<ipython-input-23-16e07b76f178>, line 1)",
          "traceback": [
            "\u001b[0;36m  File \u001b[0;32m\"<ipython-input-23-16e07b76f178>\"\u001b[0;36m, line \u001b[0;32m1\u001b[0m\n\u001b[0;31m    42 + 5 + * 2\u001b[0m\n\u001b[0m             ^\u001b[0m\n\u001b[0;31mSyntaxError\u001b[0m\u001b[0;31m:\u001b[0m invalid syntax\n"
          ]
        }
      ]
    },
    {
      "cell_type": "markdown",
      "source": [
        "# The Integer, Floating-Point, and String Data Types"
      ],
      "metadata": {
        "id": "IVn4hYQTocT7"
      }
    },
    {
      "cell_type": "code",
      "source": [
        "'Hello, world!"
      ],
      "metadata": {
        "colab": {
          "base_uri": "https://localhost:8080/",
          "height": 108
        },
        "id": "wA3o0TAXof6D",
        "outputId": "7ec220a3-f379-40c9-a5ae-e786c14cd626"
      },
      "execution_count": null,
      "outputs": [
        {
          "output_type": "error",
          "ename": "SyntaxError",
          "evalue": "unterminated string literal (detected at line 1) (<ipython-input-24-ca3998db7a18>, line 1)",
          "traceback": [
            "\u001b[0;36m  File \u001b[0;32m\"<ipython-input-24-ca3998db7a18>\"\u001b[0;36m, line \u001b[0;32m1\u001b[0m\n\u001b[0;31m    'Hello, world!\u001b[0m\n\u001b[0m    ^\u001b[0m\n\u001b[0;31mSyntaxError\u001b[0m\u001b[0;31m:\u001b[0m unterminated string literal (detected at line 1)\n"
          ]
        }
      ]
    },
    {
      "cell_type": "markdown",
      "source": [
        "# String Concatenation and Replication"
      ],
      "metadata": {
        "id": "XnZ3Pa8uqFTp"
      }
    },
    {
      "cell_type": "code",
      "source": [
        "'Alice' + 'Bob'"
      ],
      "metadata": {
        "colab": {
          "base_uri": "https://localhost:8080/",
          "height": 35
        },
        "id": "2a6qbfCBp7ta",
        "outputId": "f143bcdd-04b9-4881-9f38-be789b51a22e"
      },
      "execution_count": null,
      "outputs": [
        {
          "output_type": "execute_result",
          "data": {
            "text/plain": [
              "'AliceBob'"
            ],
            "application/vnd.google.colaboratory.intrinsic+json": {
              "type": "string"
            }
          },
          "metadata": {},
          "execution_count": 25
        }
      ]
    },
    {
      "cell_type": "code",
      "source": [
        "'Alice' + 42"
      ],
      "metadata": {
        "colab": {
          "base_uri": "https://localhost:8080/",
          "height": 144
        },
        "id": "Ogd0qhqCqaAO",
        "outputId": "b39608a0-8f91-4a58-c553-7ce3d2c049f5"
      },
      "execution_count": null,
      "outputs": [
        {
          "output_type": "error",
          "ename": "TypeError",
          "evalue": "can only concatenate str (not \"int\") to str",
          "traceback": [
            "\u001b[0;31m---------------------------------------------------------------------------\u001b[0m",
            "\u001b[0;31mTypeError\u001b[0m                                 Traceback (most recent call last)",
            "\u001b[0;32m<ipython-input-26-4e9a9e71481a>\u001b[0m in \u001b[0;36m<cell line: 0>\u001b[0;34m()\u001b[0m\n\u001b[0;32m----> 1\u001b[0;31m \u001b[0;34m'Alice'\u001b[0m \u001b[0;34m+\u001b[0m \u001b[0;36m42\u001b[0m\u001b[0;34m\u001b[0m\u001b[0;34m\u001b[0m\u001b[0m\n\u001b[0m",
            "\u001b[0;31mTypeError\u001b[0m: can only concatenate str (not \"int\") to str"
          ]
        }
      ]
    },
    {
      "cell_type": "code",
      "source": [
        "'Alice' * 5"
      ],
      "metadata": {
        "colab": {
          "base_uri": "https://localhost:8080/",
          "height": 35
        },
        "id": "p1ky89S3qhVi",
        "outputId": "6180b444-0327-4b48-b051-e24024fa27df"
      },
      "execution_count": null,
      "outputs": [
        {
          "output_type": "execute_result",
          "data": {
            "text/plain": [
              "'AliceAliceAliceAliceAlice'"
            ],
            "application/vnd.google.colaboratory.intrinsic+json": {
              "type": "string"
            }
          },
          "metadata": {},
          "execution_count": 27
        }
      ]
    },
    {
      "cell_type": "code",
      "source": [
        "'Alice' * 'Bob'"
      ],
      "metadata": {
        "colab": {
          "base_uri": "https://localhost:8080/",
          "height": 144
        },
        "id": "T5spYhzZqpkA",
        "outputId": "97e909fd-dc21-46a1-a426-a32efcbebe0f"
      },
      "execution_count": null,
      "outputs": [
        {
          "output_type": "error",
          "ename": "TypeError",
          "evalue": "can't multiply sequence by non-int of type 'str'",
          "traceback": [
            "\u001b[0;31m---------------------------------------------------------------------------\u001b[0m",
            "\u001b[0;31mTypeError\u001b[0m                                 Traceback (most recent call last)",
            "\u001b[0;32m<ipython-input-28-9caa30780052>\u001b[0m in \u001b[0;36m<cell line: 0>\u001b[0;34m()\u001b[0m\n\u001b[0;32m----> 1\u001b[0;31m \u001b[0;34m'Alice'\u001b[0m \u001b[0;34m*\u001b[0m \u001b[0;34m'Bob'\u001b[0m\u001b[0;34m\u001b[0m\u001b[0;34m\u001b[0m\u001b[0m\n\u001b[0m",
            "\u001b[0;31mTypeError\u001b[0m: can't multiply sequence by non-int of type 'str'"
          ]
        }
      ]
    },
    {
      "cell_type": "code",
      "source": [
        "'Alice' * 5.0"
      ],
      "metadata": {
        "colab": {
          "base_uri": "https://localhost:8080/",
          "height": 144
        },
        "id": "xRJrU6-_qxpu",
        "outputId": "7a4a121a-5144-4e7a-8afc-555853d3b24c"
      },
      "execution_count": null,
      "outputs": [
        {
          "output_type": "error",
          "ename": "TypeError",
          "evalue": "can't multiply sequence by non-int of type 'float'",
          "traceback": [
            "\u001b[0;31m---------------------------------------------------------------------------\u001b[0m",
            "\u001b[0;31mTypeError\u001b[0m                                 Traceback (most recent call last)",
            "\u001b[0;32m<ipython-input-29-43325524c797>\u001b[0m in \u001b[0;36m<cell line: 0>\u001b[0;34m()\u001b[0m\n\u001b[0;32m----> 1\u001b[0;31m \u001b[0;34m'Alice'\u001b[0m \u001b[0;34m*\u001b[0m \u001b[0;36m5.0\u001b[0m\u001b[0;34m\u001b[0m\u001b[0;34m\u001b[0m\u001b[0m\n\u001b[0m",
            "\u001b[0;31mTypeError\u001b[0m: can't multiply sequence by non-int of type 'float'"
          ]
        }
      ]
    },
    {
      "cell_type": "markdown",
      "source": [
        "# Storing Values in Variables"
      ],
      "metadata": {
        "id": "SjLzQ36KrKNy"
      }
    },
    {
      "cell_type": "markdown",
      "source": [
        "## Assignment Statements"
      ],
      "metadata": {
        "id": "XYtas9xGrLgR"
      }
    },
    {
      "cell_type": "code",
      "source": [
        "spam = 40"
      ],
      "metadata": {
        "id": "Zb-ocILDqz6M"
      },
      "execution_count": null,
      "outputs": []
    },
    {
      "cell_type": "code",
      "source": [
        "spam"
      ],
      "metadata": {
        "colab": {
          "base_uri": "https://localhost:8080/"
        },
        "id": "UZAjljdXsRcV",
        "outputId": "99622c8c-7970-4d72-cbad-cdf5aa3b0b3f"
      },
      "execution_count": null,
      "outputs": [
        {
          "output_type": "execute_result",
          "data": {
            "text/plain": [
              "40"
            ]
          },
          "metadata": {},
          "execution_count": 31
        }
      ]
    },
    {
      "cell_type": "code",
      "source": [
        "eggs = 2"
      ],
      "metadata": {
        "id": "lNsFQq9msSiM"
      },
      "execution_count": null,
      "outputs": []
    },
    {
      "cell_type": "code",
      "source": [
        "spam + eggs"
      ],
      "metadata": {
        "colab": {
          "base_uri": "https://localhost:8080/"
        },
        "id": "ZMhSl__vsUbx",
        "outputId": "2f6956e3-64b6-40c3-e2ea-40390120ab7a"
      },
      "execution_count": null,
      "outputs": [
        {
          "output_type": "execute_result",
          "data": {
            "text/plain": [
              "42"
            ]
          },
          "metadata": {},
          "execution_count": 33
        }
      ]
    },
    {
      "cell_type": "code",
      "source": [
        "spam + eggs + spam"
      ],
      "metadata": {
        "colab": {
          "base_uri": "https://localhost:8080/"
        },
        "id": "9KcNBkQBsV-t",
        "outputId": "1606ddcf-22e8-4745-d772-3d2be267e38d"
      },
      "execution_count": null,
      "outputs": [
        {
          "output_type": "execute_result",
          "data": {
            "text/plain": [
              "82"
            ]
          },
          "metadata": {},
          "execution_count": 34
        }
      ]
    },
    {
      "cell_type": "code",
      "source": [
        "spam = spam + 2"
      ],
      "metadata": {
        "id": "XIntucvWsYln"
      },
      "execution_count": null,
      "outputs": []
    },
    {
      "cell_type": "code",
      "source": [
        "spam"
      ],
      "metadata": {
        "colab": {
          "base_uri": "https://localhost:8080/"
        },
        "id": "AxbB3waNsaz0",
        "outputId": "9a5fb73c-415e-40aa-d8e7-76d9b54f9808"
      },
      "execution_count": null,
      "outputs": [
        {
          "output_type": "execute_result",
          "data": {
            "text/plain": [
              "42"
            ]
          },
          "metadata": {},
          "execution_count": 36
        }
      ]
    },
    {
      "cell_type": "code",
      "source": [
        "spam = 'Hello'"
      ],
      "metadata": {
        "id": "-JX31PFDsbnr"
      },
      "execution_count": null,
      "outputs": []
    },
    {
      "cell_type": "code",
      "source": [
        "spam"
      ],
      "metadata": {
        "colab": {
          "base_uri": "https://localhost:8080/",
          "height": 35
        },
        "id": "Gbxgk57nsiv6",
        "outputId": "f4736f32-88cd-46c0-ed5c-bc03cb7ec198"
      },
      "execution_count": null,
      "outputs": [
        {
          "output_type": "execute_result",
          "data": {
            "text/plain": [
              "'Hello'"
            ],
            "application/vnd.google.colaboratory.intrinsic+json": {
              "type": "string"
            }
          },
          "metadata": {},
          "execution_count": 38
        }
      ]
    },
    {
      "cell_type": "code",
      "source": [
        "spam = 'Goodbye'"
      ],
      "metadata": {
        "id": "P5sKIwUDsjgX"
      },
      "execution_count": null,
      "outputs": []
    },
    {
      "cell_type": "code",
      "source": [
        "spam"
      ],
      "metadata": {
        "colab": {
          "base_uri": "https://localhost:8080/",
          "height": 35
        },
        "id": "xeChKJY7slTv",
        "outputId": "cb488e77-cc7e-4dd5-82a6-03fc10a097bd"
      },
      "execution_count": null,
      "outputs": [
        {
          "output_type": "execute_result",
          "data": {
            "text/plain": [
              "'Goodbye'"
            ],
            "application/vnd.google.colaboratory.intrinsic+json": {
              "type": "string"
            }
          },
          "metadata": {},
          "execution_count": 40
        }
      ]
    },
    {
      "cell_type": "markdown",
      "source": [
        "## Variable Names"
      ],
      "metadata": {
        "id": "rHQAv786srje"
      }
    },
    {
      "cell_type": "markdown",
      "source": [
        "# Your First Program"
      ],
      "metadata": {
        "id": "lhEYMf--uJU-"
      }
    },
    {
      "cell_type": "code",
      "source": [
        "# This program says hello and asks for my name\n",
        "print('Hello, world!')\n",
        "print('What is yout name?') # ask for their name\n",
        "myName = input()\n",
        "print('It is good to meet you, ' + myName)\n",
        "print('The length of your name is:')\n",
        "print(len(myName))\n",
        "print('What is your age?') # ask for their age\n",
        "myAge = input()\n",
        "print('You will be ' + str(int(myAge) + 1) + ' in a year.')"
      ],
      "metadata": {
        "colab": {
          "base_uri": "https://localhost:8080/"
        },
        "id": "i6Z04JLWsmF5",
        "outputId": "68fd9d79-c755-4380-8408-064ff27ce63e"
      },
      "execution_count": null,
      "outputs": [
        {
          "output_type": "stream",
          "name": "stdout",
          "text": [
            "Hello, world!\n",
            "What is yout name?\n",
            "Sean\n",
            "It is good to meet you, Sean\n",
            "The length of your name is:\n",
            "4\n",
            "What is your age?\n",
            "20\n",
            "You will be 21 in a year.\n"
          ]
        }
      ]
    },
    {
      "cell_type": "markdown",
      "source": [
        "# Dissecting Your Program"
      ],
      "metadata": {
        "id": "kQ2ZUwWyz6XN"
      }
    },
    {
      "cell_type": "markdown",
      "source": [
        "## Comments"
      ],
      "metadata": {
        "id": "h3tAsmUHz9RE"
      }
    },
    {
      "cell_type": "code",
      "source": [
        "# This program says hello and asks for my name."
      ],
      "metadata": {
        "id": "ttNDW86vy_cB"
      },
      "execution_count": null,
      "outputs": []
    },
    {
      "cell_type": "markdown",
      "source": [
        "## The print() Function"
      ],
      "metadata": {
        "id": "I9TNV0lm2P68"
      }
    },
    {
      "cell_type": "code",
      "source": [
        "print('Hello, world!')\n",
        "print('What is yout name?') # ask for their name"
      ],
      "metadata": {
        "colab": {
          "base_uri": "https://localhost:8080/"
        },
        "id": "HBWLKNgZ2TSP",
        "outputId": "d83b60e7-0c88-4d01-c1cb-eeef406c2d0c"
      },
      "execution_count": null,
      "outputs": [
        {
          "output_type": "stream",
          "name": "stdout",
          "text": [
            "Hello, world!\n",
            "What is yout name?\n"
          ]
        }
      ]
    },
    {
      "cell_type": "markdown",
      "source": [
        "## The input() Function"
      ],
      "metadata": {
        "id": "0q7ehn5j2osQ"
      }
    },
    {
      "cell_type": "code",
      "source": [
        "myName = input()"
      ],
      "metadata": {
        "colab": {
          "base_uri": "https://localhost:8080/"
        },
        "id": "wNEFDz7J2UV7",
        "outputId": "4b08846c-1783-49db-aa32-e2e46ad308de"
      },
      "execution_count": null,
      "outputs": [
        {
          "name": "stdout",
          "output_type": "stream",
          "text": [
            "Sean\n"
          ]
        }
      ]
    },
    {
      "cell_type": "markdown",
      "source": [
        "## Printing the User’s Name"
      ],
      "metadata": {
        "id": "4ZtAg0vo28ha"
      }
    },
    {
      "cell_type": "code",
      "source": [
        "print('It is good to meet you, ' + myName)"
      ],
      "metadata": {
        "colab": {
          "base_uri": "https://localhost:8080/"
        },
        "id": "IbESIMFy23Su",
        "outputId": "50e5c7fe-22df-4bb3-e0f1-bc53236e15b2"
      },
      "execution_count": null,
      "outputs": [
        {
          "output_type": "stream",
          "name": "stdout",
          "text": [
            "It is good to meet you, Sean\n"
          ]
        }
      ]
    },
    {
      "cell_type": "markdown",
      "source": [
        "## The len() Function"
      ],
      "metadata": {
        "id": "qGlxT0cY6YyX"
      }
    },
    {
      "cell_type": "code",
      "source": [
        "print('The length of your name is:')\n",
        "print(len(myName))"
      ],
      "metadata": {
        "colab": {
          "base_uri": "https://localhost:8080/"
        },
        "id": "43l1CaWK3LFe",
        "outputId": "124c8248-882a-4e02-df76-b417577e2e94"
      },
      "execution_count": null,
      "outputs": [
        {
          "output_type": "stream",
          "name": "stdout",
          "text": [
            "The length of your name is:\n",
            "4\n"
          ]
        }
      ]
    },
    {
      "cell_type": "code",
      "source": [
        "len('hello')"
      ],
      "metadata": {
        "colab": {
          "base_uri": "https://localhost:8080/"
        },
        "id": "9dPPcSAf6frf",
        "outputId": "59fa30a8-7870-4162-9c40-1b29220cde95"
      },
      "execution_count": null,
      "outputs": [
        {
          "output_type": "execute_result",
          "data": {
            "text/plain": [
              "5"
            ]
          },
          "metadata": {},
          "execution_count": 49
        }
      ]
    },
    {
      "cell_type": "code",
      "source": [
        "len('My very energetic monster just scarfed nacos. ')"
      ],
      "metadata": {
        "colab": {
          "base_uri": "https://localhost:8080/"
        },
        "id": "jkeHZyKU6_uP",
        "outputId": "8ca4e7d4-a9cc-4db0-bb86-6abb65471ff3"
      },
      "execution_count": null,
      "outputs": [
        {
          "output_type": "execute_result",
          "data": {
            "text/plain": [
              "46"
            ]
          },
          "metadata": {},
          "execution_count": 50
        }
      ]
    },
    {
      "cell_type": "code",
      "source": [
        "len('')"
      ],
      "metadata": {
        "colab": {
          "base_uri": "https://localhost:8080/"
        },
        "id": "sNSBVc1R7GPU",
        "outputId": "1ffb96ee-8a5d-428c-fd04-d86eb9f83b3b"
      },
      "execution_count": null,
      "outputs": [
        {
          "output_type": "execute_result",
          "data": {
            "text/plain": [
              "0"
            ]
          },
          "metadata": {},
          "execution_count": 51
        }
      ]
    },
    {
      "cell_type": "code",
      "source": [
        "print('I am ' + 29 + ' years old.')"
      ],
      "metadata": {
        "colab": {
          "base_uri": "https://localhost:8080/",
          "height": 144
        },
        "id": "d3lAYeDW7ITX",
        "outputId": "90bb9054-d0ba-427d-bc7a-cab45fe47485"
      },
      "execution_count": null,
      "outputs": [
        {
          "output_type": "error",
          "ename": "TypeError",
          "evalue": "can only concatenate str (not \"int\") to str",
          "traceback": [
            "\u001b[0;31m---------------------------------------------------------------------------\u001b[0m",
            "\u001b[0;31mTypeError\u001b[0m                                 Traceback (most recent call last)",
            "\u001b[0;32m<ipython-input-52-40e8f0b932d8>\u001b[0m in \u001b[0;36m<cell line: 0>\u001b[0;34m()\u001b[0m\n\u001b[0;32m----> 1\u001b[0;31m \u001b[0mprint\u001b[0m\u001b[0;34m(\u001b[0m\u001b[0;34m'I am '\u001b[0m \u001b[0;34m+\u001b[0m \u001b[0;36m29\u001b[0m \u001b[0;34m+\u001b[0m \u001b[0;34m' years old.'\u001b[0m\u001b[0;34m)\u001b[0m\u001b[0;34m\u001b[0m\u001b[0;34m\u001b[0m\u001b[0m\n\u001b[0m",
            "\u001b[0;31mTypeError\u001b[0m: can only concatenate str (not \"int\") to str"
          ]
        }
      ]
    },
    {
      "cell_type": "code",
      "source": [
        "'I am ' + 29 + ' years old.'"
      ],
      "metadata": {
        "colab": {
          "base_uri": "https://localhost:8080/",
          "height": 144
        },
        "id": "HyiJA-Nc7WEw",
        "outputId": "dbc6bad2-7c5e-46c3-c531-02cca5c1c2a5"
      },
      "execution_count": null,
      "outputs": [
        {
          "output_type": "error",
          "ename": "TypeError",
          "evalue": "can only concatenate str (not \"int\") to str",
          "traceback": [
            "\u001b[0;31m---------------------------------------------------------------------------\u001b[0m",
            "\u001b[0;31mTypeError\u001b[0m                                 Traceback (most recent call last)",
            "\u001b[0;32m<ipython-input-53-b2e1590c4132>\u001b[0m in \u001b[0;36m<cell line: 0>\u001b[0;34m()\u001b[0m\n\u001b[0;32m----> 1\u001b[0;31m \u001b[0;34m'I am '\u001b[0m \u001b[0;34m+\u001b[0m \u001b[0;36m29\u001b[0m \u001b[0;34m+\u001b[0m \u001b[0;34m' years old.'\u001b[0m\u001b[0;34m\u001b[0m\u001b[0;34m\u001b[0m\u001b[0m\n\u001b[0m",
            "\u001b[0;31mTypeError\u001b[0m: can only concatenate str (not \"int\") to str"
          ]
        }
      ]
    },
    {
      "cell_type": "markdown",
      "source": [
        "## The str(), int(), and float() Functions"
      ],
      "metadata": {
        "id": "8pJyR7D47hsw"
      }
    },
    {
      "cell_type": "code",
      "source": [
        "str(29)"
      ],
      "metadata": {
        "colab": {
          "base_uri": "https://localhost:8080/",
          "height": 35
        },
        "id": "MOWfFme97c2x",
        "outputId": "26e7885d-a415-4fe6-c19f-630729ab491a"
      },
      "execution_count": null,
      "outputs": [
        {
          "output_type": "execute_result",
          "data": {
            "text/plain": [
              "'29'"
            ],
            "application/vnd.google.colaboratory.intrinsic+json": {
              "type": "string"
            }
          },
          "metadata": {},
          "execution_count": 54
        }
      ]
    },
    {
      "cell_type": "code",
      "source": [
        "print('I am ' + str(29) + ' years old.')"
      ],
      "metadata": {
        "colab": {
          "base_uri": "https://localhost:8080/"
        },
        "id": "RSK7OZVv722K",
        "outputId": "a9623ecf-48d0-40e4-c5b4-57ac7268b6dd"
      },
      "execution_count": null,
      "outputs": [
        {
          "output_type": "stream",
          "name": "stdout",
          "text": [
            "I am 29 years old.\n"
          ]
        }
      ]
    },
    {
      "cell_type": "code",
      "source": [
        "str(0)"
      ],
      "metadata": {
        "colab": {
          "base_uri": "https://localhost:8080/",
          "height": 35
        },
        "id": "Za7LVhDc79Hw",
        "outputId": "93ffb0f3-d425-4c3d-bd50-b4b9aae67b1a"
      },
      "execution_count": null,
      "outputs": [
        {
          "output_type": "execute_result",
          "data": {
            "text/plain": [
              "'0'"
            ],
            "application/vnd.google.colaboratory.intrinsic+json": {
              "type": "string"
            }
          },
          "metadata": {},
          "execution_count": 56
        }
      ]
    },
    {
      "cell_type": "code",
      "source": [
        "int('42')"
      ],
      "metadata": {
        "colab": {
          "base_uri": "https://localhost:8080/"
        },
        "id": "QbrvQEGa8CMG",
        "outputId": "de365703-03fe-461e-c739-16a74e10e0d8"
      },
      "execution_count": null,
      "outputs": [
        {
          "output_type": "execute_result",
          "data": {
            "text/plain": [
              "42"
            ]
          },
          "metadata": {},
          "execution_count": 57
        }
      ]
    },
    {
      "cell_type": "code",
      "source": [
        "float(10)"
      ],
      "metadata": {
        "colab": {
          "base_uri": "https://localhost:8080/"
        },
        "id": "laA2-S_V8EU3",
        "outputId": "0fcf5428-50e5-4167-c42e-04493599d92b"
      },
      "execution_count": null,
      "outputs": [
        {
          "output_type": "execute_result",
          "data": {
            "text/plain": [
              "10.0"
            ]
          },
          "metadata": {},
          "execution_count": 58
        }
      ]
    },
    {
      "cell_type": "code",
      "source": [
        "spam = input()"
      ],
      "metadata": {
        "colab": {
          "base_uri": "https://localhost:8080/"
        },
        "id": "MeKpGyMU8Fpf",
        "outputId": "12037450-86cd-443f-f4e7-f40ff9018609"
      },
      "execution_count": null,
      "outputs": [
        {
          "name": "stdout",
          "output_type": "stream",
          "text": [
            "101\n"
          ]
        }
      ]
    },
    {
      "cell_type": "code",
      "source": [
        "spam"
      ],
      "metadata": {
        "colab": {
          "base_uri": "https://localhost:8080/",
          "height": 35
        },
        "id": "lrV_QClH8KES",
        "outputId": "8c22f706-9f64-4503-cd0d-43ce961a948e"
      },
      "execution_count": null,
      "outputs": [
        {
          "output_type": "execute_result",
          "data": {
            "text/plain": [
              "'101'"
            ],
            "application/vnd.google.colaboratory.intrinsic+json": {
              "type": "string"
            }
          },
          "metadata": {},
          "execution_count": 61
        }
      ]
    },
    {
      "cell_type": "code",
      "source": [
        "spam = int(spam)"
      ],
      "metadata": {
        "id": "Q2_fT8Cf8VQj"
      },
      "execution_count": null,
      "outputs": []
    },
    {
      "cell_type": "code",
      "source": [
        "spam"
      ],
      "metadata": {
        "colab": {
          "base_uri": "https://localhost:8080/"
        },
        "id": "WUXasW7X8eCz",
        "outputId": "329b288f-044c-43d5-eca8-d48e2cdf0cae"
      },
      "execution_count": null,
      "outputs": [
        {
          "output_type": "execute_result",
          "data": {
            "text/plain": [
              "101"
            ]
          },
          "metadata": {},
          "execution_count": 63
        }
      ]
    },
    {
      "cell_type": "code",
      "source": [
        "spam * 10 / 5"
      ],
      "metadata": {
        "colab": {
          "base_uri": "https://localhost:8080/"
        },
        "id": "BaaOibyS8ek2",
        "outputId": "e53dd512-b687-453d-aeba-d253b981dc96"
      },
      "execution_count": null,
      "outputs": [
        {
          "output_type": "execute_result",
          "data": {
            "text/plain": [
              "202.0"
            ]
          },
          "metadata": {},
          "execution_count": 64
        }
      ]
    },
    {
      "cell_type": "code",
      "source": [
        "int('99.99')"
      ],
      "metadata": {
        "colab": {
          "base_uri": "https://localhost:8080/",
          "height": 144
        },
        "id": "SfLDdIgv8hjO",
        "outputId": "2ef197cb-e4c9-4216-b25d-0e40abd08bfe"
      },
      "execution_count": null,
      "outputs": [
        {
          "output_type": "error",
          "ename": "ValueError",
          "evalue": "invalid literal for int() with base 10: '99.99'",
          "traceback": [
            "\u001b[0;31m---------------------------------------------------------------------------\u001b[0m",
            "\u001b[0;31mValueError\u001b[0m                                Traceback (most recent call last)",
            "\u001b[0;32m<ipython-input-65-7e09e10be494>\u001b[0m in \u001b[0;36m<cell line: 0>\u001b[0;34m()\u001b[0m\n\u001b[0;32m----> 1\u001b[0;31m \u001b[0mint\u001b[0m\u001b[0;34m(\u001b[0m\u001b[0;34m'99.99'\u001b[0m\u001b[0;34m)\u001b[0m\u001b[0;34m\u001b[0m\u001b[0;34m\u001b[0m\u001b[0m\n\u001b[0m",
            "\u001b[0;31mValueError\u001b[0m: invalid literal for int() with base 10: '99.99'"
          ]
        }
      ]
    },
    {
      "cell_type": "code",
      "source": [
        "int(7.7)"
      ],
      "metadata": {
        "colab": {
          "base_uri": "https://localhost:8080/"
        },
        "id": "AgLRKfdl8kdm",
        "outputId": "5cf6cb3a-fc03-4510-b2f5-cb6647ecad5c"
      },
      "execution_count": null,
      "outputs": [
        {
          "output_type": "execute_result",
          "data": {
            "text/plain": [
              "7"
            ]
          },
          "metadata": {},
          "execution_count": 66
        }
      ]
    },
    {
      "cell_type": "code",
      "source": [
        "42 == '42'"
      ],
      "metadata": {
        "colab": {
          "base_uri": "https://localhost:8080/"
        },
        "id": "H88aJ7Q-8mZG",
        "outputId": "b30d594d-1740-4ac4-b596-c21c906b1380"
      },
      "execution_count": null,
      "outputs": [
        {
          "output_type": "execute_result",
          "data": {
            "text/plain": [
              "False"
            ]
          },
          "metadata": {},
          "execution_count": 67
        }
      ]
    },
    {
      "cell_type": "code",
      "source": [
        "42 == 42.0"
      ],
      "metadata": {
        "colab": {
          "base_uri": "https://localhost:8080/"
        },
        "id": "nSTj9jpq8wL-",
        "outputId": "c83b8b11-01c8-4439-8f3e-9039bfc402ff"
      },
      "execution_count": null,
      "outputs": [
        {
          "output_type": "execute_result",
          "data": {
            "text/plain": [
              "True"
            ]
          },
          "metadata": {},
          "execution_count": 68
        }
      ]
    },
    {
      "cell_type": "code",
      "source": [
        "42.0 == 0042.000"
      ],
      "metadata": {
        "colab": {
          "base_uri": "https://localhost:8080/"
        },
        "id": "dvG4Hx3q8x0O",
        "outputId": "5a9b7fed-5b84-4e6e-b5f0-f6b607d315fe"
      },
      "execution_count": null,
      "outputs": [
        {
          "output_type": "execute_result",
          "data": {
            "text/plain": [
              "True"
            ]
          },
          "metadata": {},
          "execution_count": 69
        }
      ]
    },
    {
      "cell_type": "markdown",
      "source": [
        "# Practice Questions"
      ],
      "metadata": {
        "id": "BG_f37yp9-ye"
      }
    },
    {
      "cell_type": "markdown",
      "source": [
        "1. **Which of the following are operators, and which are values?**\n",
        "\n",
        "- Operators: `-`, `/`, `+`  \n",
        "- Values: `'hello'`, `-88.8`, `5`\n",
        "\n",
        "2. **Which of the following is a variable, and which is a string?**\n",
        "\n",
        "- Variable: `spam`  \n",
        "- String: `'spam'`\n",
        "\n",
        "3. **Name three data types.**\n",
        "\n",
        "- Integer, String, Float\n",
        "\n",
        "4. **What is an expression made up of? What do all expressions do?**\n",
        "\n",
        "- An expression is made up of values, variables, operators, and functions. All expressions are evaluated to produce a value.\n",
        "\n",
        "5. **This chapter introduced assignment statements, like `spam = 10`. What is the difference between an expression and a statement?**\n",
        "\n",
        "- An expression is something that evaluates to a value (like `5 + 3`), while a statement is a line of code that performs an action but doesn’t return a value (like an assignment statement `spam = 10`).\n"
      ],
      "metadata": {
        "id": "UXwvAKYTGs47"
      }
    },
    {
      "cell_type": "markdown",
      "source": [
        "6. **What does the variable `bacon` contain after the following code runs?**\n",
        "\n",
        "```python\n",
        "bacon = 20\n",
        "bacon + 1\n",
        "```\n",
        "\n",
        "- The variable `bacon` still contains `20` because the expression `bacon + 1` is evaluated but not assigned back to `bacon`."
      ],
      "metadata": {
        "id": "nVqXVRcLG41C"
      }
    },
    {
      "cell_type": "code",
      "source": [
        "bacon = 20\n",
        "bacon + 1"
      ],
      "metadata": {
        "colab": {
          "base_uri": "https://localhost:8080/"
        },
        "id": "C5NmVvil80FX",
        "outputId": "cebaaf01-1c88-49d6-c1f3-7be57cedb24e"
      },
      "execution_count": null,
      "outputs": [
        {
          "output_type": "execute_result",
          "data": {
            "text/plain": [
              "21"
            ]
          },
          "metadata": {},
          "execution_count": 70
        }
      ]
    },
    {
      "cell_type": "markdown",
      "source": [
        "\n",
        "7. **What should the following two expressions evaluate to?**\n",
        "\n",
        "```python\n",
        "'spam' + 'spamspam'   # 'spamspamspam'\n",
        "'spam' * 3            # 'spamspamspam'\n",
        "```"
      ],
      "metadata": {
        "id": "8BgZMUCZG9Xy"
      }
    },
    {
      "cell_type": "code",
      "source": [
        "'spam' + 'spamspam'"
      ],
      "metadata": {
        "colab": {
          "base_uri": "https://localhost:8080/",
          "height": 35
        },
        "id": "G-ppei-9-CTP",
        "outputId": "e7f23c2b-386d-4b73-f4b9-4ca5ddff5133"
      },
      "execution_count": null,
      "outputs": [
        {
          "output_type": "execute_result",
          "data": {
            "text/plain": [
              "'spamspamspam'"
            ],
            "application/vnd.google.colaboratory.intrinsic+json": {
              "type": "string"
            }
          },
          "metadata": {},
          "execution_count": 71
        }
      ]
    },
    {
      "cell_type": "code",
      "source": [
        "'spam' * 3"
      ],
      "metadata": {
        "colab": {
          "base_uri": "https://localhost:8080/",
          "height": 35
        },
        "id": "pTdfyjs8-K1D",
        "outputId": "8df415bd-4e9c-44b9-82f9-4cd441c71c73"
      },
      "execution_count": null,
      "outputs": [
        {
          "output_type": "execute_result",
          "data": {
            "text/plain": [
              "'spamspamspam'"
            ],
            "application/vnd.google.colaboratory.intrinsic+json": {
              "type": "string"
            }
          },
          "metadata": {},
          "execution_count": 72
        }
      ]
    },
    {
      "cell_type": "markdown",
      "source": [
        "8. **Why is `eggs` a valid variable name while `100` is invalid?**\n",
        "\n",
        "- `eggs` is a valid variable name because it follows the rules of Python variable naming (it starts with a letter and doesn't contain spaces or special characters). `100` is invalid because variable names cannot begin with a number.\n",
        "\n",
        "9. **What three functions can be used to get the integer, floating-point number, or string version of a value?**\n",
        "\n",
        "- `int()`, `float()`, `str()`\n",
        "\n",
        "10. **Why does this expression cause an error? How can you fix it?**\n",
        "\n",
        "```python\n",
        "'I have eaten ' + 99 + ' burritos.'\n",
        "```\n",
        "\n",
        "- This causes an error because you can't concatenate a string with an integer directly. To fix it, you need to convert the integer to a string first:\n",
        "\n",
        "```python\n",
        "'I have eaten ' + str(99) + ' burritos.'\n",
        "```"
      ],
      "metadata": {
        "id": "6gkLGuD-HCKv"
      }
    },
    {
      "cell_type": "code",
      "source": [
        "'I hace eaten ' + str(99) + ' burritos.'"
      ],
      "metadata": {
        "colab": {
          "base_uri": "https://localhost:8080/",
          "height": 35
        },
        "id": "7kyS64iJ-M8o",
        "outputId": "bf88edbf-e67c-4af2-c0f7-6cc4a17fa7d3"
      },
      "execution_count": null,
      "outputs": [
        {
          "output_type": "execute_result",
          "data": {
            "text/plain": [
              "'I hace eaten 99 burritos.'"
            ],
            "application/vnd.google.colaboratory.intrinsic+json": {
              "type": "string"
            }
          },
          "metadata": {},
          "execution_count": 74
        }
      ]
    },
    {
      "cell_type": "markdown",
      "source": [
        "\n",
        "**Extra credit:**\n",
        "\n",
        "- The `round()` function in Python rounds a floating-point number to a specified number of decimal places. If no number of decimal places is specified, it rounds to the nearest integer.\n",
        "\n",
        "```python\n",
        "round(3.14159, 2)  # 3.14\n",
        "round(3.14159)     # 3\n",
        "```"
      ],
      "metadata": {
        "id": "CISLMzsDHH96"
      }
    },
    {
      "cell_type": "code",
      "source": [
        "round(3.14159, 2)  # 3.14"
      ],
      "metadata": {
        "id": "Yn4C6Jb9-U77",
        "colab": {
          "base_uri": "https://localhost:8080/"
        },
        "outputId": "e8a9a441-9a0e-4c24-9020-b2a2f7c0b988"
      },
      "execution_count": 2,
      "outputs": [
        {
          "output_type": "execute_result",
          "data": {
            "text/plain": [
              "3.14"
            ]
          },
          "metadata": {},
          "execution_count": 2
        }
      ]
    },
    {
      "cell_type": "code",
      "source": [
        "round(3.14159)     # 3"
      ],
      "metadata": {
        "colab": {
          "base_uri": "https://localhost:8080/"
        },
        "id": "RJMMBYE-HK2F",
        "outputId": "21a1f88a-b057-4ea4-cb9b-57556b598667"
      },
      "execution_count": 3,
      "outputs": [
        {
          "output_type": "execute_result",
          "data": {
            "text/plain": [
              "3"
            ]
          },
          "metadata": {},
          "execution_count": 3
        }
      ]
    },
    {
      "cell_type": "code",
      "source": [],
      "metadata": {
        "id": "BKrOY3uDHTC-"
      },
      "execution_count": null,
      "outputs": []
    }
  ]
}
{
  "nbformat": 4,
  "nbformat_minor": 0,
  "metadata": {
    "colab": {
      "provenance": [],
      "toc_visible": true
    },
    "kernelspec": {
      "name": "python3",
      "display_name": "Python 3"
    },
    "language_info": {
      "name": "python"
    }
  },
  "cells": [
    {
      "cell_type": "markdown",
      "source": [
        "# The List Data Type"
      ],
      "metadata": {
        "id": "0KtkGoBeL2bR"
      }
    },
    {
      "cell_type": "code",
      "execution_count": 1,
      "metadata": {
        "colab": {
          "base_uri": "https://localhost:8080/"
        },
        "id": "-hK2OqG-K191",
        "outputId": "9ca554d7-80d3-4222-ae36-31070fd0afdf"
      },
      "outputs": [
        {
          "output_type": "execute_result",
          "data": {
            "text/plain": [
              "[1, 2, 3]"
            ]
          },
          "metadata": {},
          "execution_count": 1
        }
      ],
      "source": [
        "[1, 2, 3]"
      ]
    },
    {
      "cell_type": "code",
      "source": [
        "['cat', 'bat', 'rat', 'elephant']"
      ],
      "metadata": {
        "colab": {
          "base_uri": "https://localhost:8080/"
        },
        "id": "WiDrdD5HL_Mi",
        "outputId": "2993494d-041f-405d-8fba-6d023b79ccd4"
      },
      "execution_count": 2,
      "outputs": [
        {
          "output_type": "execute_result",
          "data": {
            "text/plain": [
              "['cat', 'bat', 'rat', 'elephant']"
            ]
          },
          "metadata": {},
          "execution_count": 2
        }
      ]
    },
    {
      "cell_type": "code",
      "source": [
        "['hello', 3.1415, True, None, 42]"
      ],
      "metadata": {
        "colab": {
          "base_uri": "https://localhost:8080/"
        },
        "id": "dcryqb76MFXb",
        "outputId": "90720308-d276-48d1-f1e7-97fbddb26853"
      },
      "execution_count": 3,
      "outputs": [
        {
          "output_type": "execute_result",
          "data": {
            "text/plain": [
              "['hello', 3.1415, True, None, 42]"
            ]
          },
          "metadata": {},
          "execution_count": 3
        }
      ]
    },
    {
      "cell_type": "code",
      "source": [
        "spam = ['cat', 'bat', 'rat', 'elephant']\n",
        "spam"
      ],
      "metadata": {
        "colab": {
          "base_uri": "https://localhost:8080/"
        },
        "id": "9TaqN8TkMJ6e",
        "outputId": "cfff78c4-21d6-4a12-c0fa-b49ddebd0ab0"
      },
      "execution_count": 19,
      "outputs": [
        {
          "output_type": "execute_result",
          "data": {
            "text/plain": [
              "['cat', 'bat', 'rat', 'elephant']"
            ]
          },
          "metadata": {},
          "execution_count": 19
        }
      ]
    },
    {
      "cell_type": "markdown",
      "source": [
        "## Getting Individual Values in a List with Indexes"
      ],
      "metadata": {
        "id": "QDjouhJ9Mphn"
      }
    },
    {
      "cell_type": "code",
      "source": [
        "spam[0]"
      ],
      "metadata": {
        "colab": {
          "base_uri": "https://localhost:8080/",
          "height": 35
        },
        "id": "Hk7HcgxGMlWs",
        "outputId": "da3fdcd1-a579-4b77-abb0-54a4897e36bf"
      },
      "execution_count": 6,
      "outputs": [
        {
          "output_type": "execute_result",
          "data": {
            "text/plain": [
              "'cat'"
            ],
            "application/vnd.google.colaboratory.intrinsic+json": {
              "type": "string"
            }
          },
          "metadata": {},
          "execution_count": 6
        }
      ]
    },
    {
      "cell_type": "code",
      "source": [
        "spam[1]"
      ],
      "metadata": {
        "colab": {
          "base_uri": "https://localhost:8080/",
          "height": 35
        },
        "id": "yDk0MSJNPmUW",
        "outputId": "a9f3df2e-f2f0-45c2-f123-fd2b0e476275"
      },
      "execution_count": 7,
      "outputs": [
        {
          "output_type": "execute_result",
          "data": {
            "text/plain": [
              "'bat'"
            ],
            "application/vnd.google.colaboratory.intrinsic+json": {
              "type": "string"
            }
          },
          "metadata": {},
          "execution_count": 7
        }
      ]
    },
    {
      "cell_type": "code",
      "source": [
        "spam[2]"
      ],
      "metadata": {
        "colab": {
          "base_uri": "https://localhost:8080/",
          "height": 35
        },
        "id": "jV2wI5oQPoY4",
        "outputId": "666751d0-d540-4b7b-eab8-3cd216d74ab1"
      },
      "execution_count": 8,
      "outputs": [
        {
          "output_type": "execute_result",
          "data": {
            "text/plain": [
              "'rat'"
            ],
            "application/vnd.google.colaboratory.intrinsic+json": {
              "type": "string"
            }
          },
          "metadata": {},
          "execution_count": 8
        }
      ]
    },
    {
      "cell_type": "code",
      "source": [
        "spam[3]"
      ],
      "metadata": {
        "colab": {
          "base_uri": "https://localhost:8080/",
          "height": 35
        },
        "id": "WCmyJRioPzAs",
        "outputId": "ed0563e0-d3ff-4b0a-e9e3-f4d8ba3e773d"
      },
      "execution_count": 9,
      "outputs": [
        {
          "output_type": "execute_result",
          "data": {
            "text/plain": [
              "'elephant'"
            ],
            "application/vnd.google.colaboratory.intrinsic+json": {
              "type": "string"
            }
          },
          "metadata": {},
          "execution_count": 9
        }
      ]
    },
    {
      "cell_type": "code",
      "source": [
        "['cat', 'bat', 'rat', 'elephant'][3]"
      ],
      "metadata": {
        "colab": {
          "base_uri": "https://localhost:8080/",
          "height": 35
        },
        "id": "GjtjaJovP0y-",
        "outputId": "8e190a38-05b4-4fce-cb2b-31b10c0b8124"
      },
      "execution_count": 10,
      "outputs": [
        {
          "output_type": "execute_result",
          "data": {
            "text/plain": [
              "'elephant'"
            ],
            "application/vnd.google.colaboratory.intrinsic+json": {
              "type": "string"
            }
          },
          "metadata": {},
          "execution_count": 10
        }
      ]
    },
    {
      "cell_type": "code",
      "source": [
        "'Hello, ' + spam[0]"
      ],
      "metadata": {
        "colab": {
          "base_uri": "https://localhost:8080/",
          "height": 35
        },
        "id": "fMGOTFe7QKAx",
        "outputId": "2a7b015b-3fb5-4e80-ed54-45bed3c9ad6a"
      },
      "execution_count": 11,
      "outputs": [
        {
          "output_type": "execute_result",
          "data": {
            "text/plain": [
              "'Hello, cat'"
            ],
            "application/vnd.google.colaboratory.intrinsic+json": {
              "type": "string"
            }
          },
          "metadata": {},
          "execution_count": 11
        }
      ]
    },
    {
      "cell_type": "code",
      "source": [
        "'The ' + spam[1] + ' ate the ' + spam[0] + '.'"
      ],
      "metadata": {
        "colab": {
          "base_uri": "https://localhost:8080/",
          "height": 35
        },
        "id": "rS8DGuheQOWN",
        "outputId": "f2fc1373-7fbf-41e4-e057-61bf9f0170f3"
      },
      "execution_count": 12,
      "outputs": [
        {
          "output_type": "execute_result",
          "data": {
            "text/plain": [
              "'The bat ate the cat.'"
            ],
            "application/vnd.google.colaboratory.intrinsic+json": {
              "type": "string"
            }
          },
          "metadata": {},
          "execution_count": 12
        }
      ]
    },
    {
      "cell_type": "code",
      "source": [
        "spam[10000]"
      ],
      "metadata": {
        "colab": {
          "base_uri": "https://localhost:8080/",
          "height": 144
        },
        "id": "sQjUaKnSQb53",
        "outputId": "0f787315-b1c3-4fd0-83a9-723d27f14fab"
      },
      "execution_count": 13,
      "outputs": [
        {
          "output_type": "error",
          "ename": "IndexError",
          "evalue": "list index out of range",
          "traceback": [
            "\u001b[0;31m---------------------------------------------------------------------------\u001b[0m",
            "\u001b[0;31mIndexError\u001b[0m                                Traceback (most recent call last)",
            "\u001b[0;32m<ipython-input-13-3b15763110c6>\u001b[0m in \u001b[0;36m<cell line: 0>\u001b[0;34m()\u001b[0m\n\u001b[0;32m----> 1\u001b[0;31m \u001b[0mspam\u001b[0m\u001b[0;34m[\u001b[0m\u001b[0;36m10000\u001b[0m\u001b[0;34m]\u001b[0m\u001b[0;34m\u001b[0m\u001b[0;34m\u001b[0m\u001b[0m\n\u001b[0m",
            "\u001b[0;31mIndexError\u001b[0m: list index out of range"
          ]
        }
      ]
    },
    {
      "cell_type": "code",
      "source": [
        "spam[1.0]"
      ],
      "metadata": {
        "colab": {
          "base_uri": "https://localhost:8080/",
          "height": 144
        },
        "id": "idhozHD2QiT6",
        "outputId": "22cf599f-4017-4f78-c1c3-5daa22989af2"
      },
      "execution_count": 14,
      "outputs": [
        {
          "output_type": "error",
          "ename": "TypeError",
          "evalue": "list indices must be integers or slices, not float",
          "traceback": [
            "\u001b[0;31m---------------------------------------------------------------------------\u001b[0m",
            "\u001b[0;31mTypeError\u001b[0m                                 Traceback (most recent call last)",
            "\u001b[0;32m<ipython-input-14-a283f69a570a>\u001b[0m in \u001b[0;36m<cell line: 0>\u001b[0;34m()\u001b[0m\n\u001b[0;32m----> 1\u001b[0;31m \u001b[0mspam\u001b[0m\u001b[0;34m[\u001b[0m\u001b[0;36m1.0\u001b[0m\u001b[0;34m]\u001b[0m\u001b[0;34m\u001b[0m\u001b[0;34m\u001b[0m\u001b[0m\n\u001b[0m",
            "\u001b[0;31mTypeError\u001b[0m: list indices must be integers or slices, not float"
          ]
        }
      ]
    },
    {
      "cell_type": "code",
      "source": [
        "spam = [['cat', 'bat'], [10, 20, 30, 40, 50]]"
      ],
      "metadata": {
        "id": "NT_T8nQ8Ql20"
      },
      "execution_count": 15,
      "outputs": []
    },
    {
      "cell_type": "code",
      "source": [
        "spam[0]"
      ],
      "metadata": {
        "colab": {
          "base_uri": "https://localhost:8080/"
        },
        "id": "12X88Ea0Qv-f",
        "outputId": "1a40fdac-d6e5-438f-ceaf-083e72e9bcd1"
      },
      "execution_count": 16,
      "outputs": [
        {
          "output_type": "execute_result",
          "data": {
            "text/plain": [
              "['cat', 'bat']"
            ]
          },
          "metadata": {},
          "execution_count": 16
        }
      ]
    },
    {
      "cell_type": "code",
      "source": [
        "spam[0][1]"
      ],
      "metadata": {
        "colab": {
          "base_uri": "https://localhost:8080/",
          "height": 35
        },
        "id": "jD2kJdMAQw0g",
        "outputId": "edf41c36-f462-4abe-85e5-bf82fb0bf13c"
      },
      "execution_count": 17,
      "outputs": [
        {
          "output_type": "execute_result",
          "data": {
            "text/plain": [
              "'bat'"
            ],
            "application/vnd.google.colaboratory.intrinsic+json": {
              "type": "string"
            }
          },
          "metadata": {},
          "execution_count": 17
        }
      ]
    },
    {
      "cell_type": "code",
      "source": [
        "spam[1][4]"
      ],
      "metadata": {
        "colab": {
          "base_uri": "https://localhost:8080/"
        },
        "id": "hwIzDam8QzMY",
        "outputId": "9eda8228-3f7d-48e1-967f-9cde907fd9d0"
      },
      "execution_count": 18,
      "outputs": [
        {
          "output_type": "execute_result",
          "data": {
            "text/plain": [
              "50"
            ]
          },
          "metadata": {},
          "execution_count": 18
        }
      ]
    },
    {
      "cell_type": "markdown",
      "source": [
        "## Negative Indexes"
      ],
      "metadata": {
        "id": "OjluPD0LQ53B"
      }
    },
    {
      "cell_type": "code",
      "source": [
        "spam = ['cat', 'bat', 'rat', 'elephant']"
      ],
      "metadata": {
        "id": "s8FtHuqXQ1Dp"
      },
      "execution_count": 20,
      "outputs": []
    },
    {
      "cell_type": "code",
      "source": [
        "spam[-1]"
      ],
      "metadata": {
        "colab": {
          "base_uri": "https://localhost:8080/",
          "height": 35
        },
        "id": "NA0FGUxkRAeD",
        "outputId": "99905c95-83be-411c-8abb-b136240dc041"
      },
      "execution_count": 21,
      "outputs": [
        {
          "output_type": "execute_result",
          "data": {
            "text/plain": [
              "'elephant'"
            ],
            "application/vnd.google.colaboratory.intrinsic+json": {
              "type": "string"
            }
          },
          "metadata": {},
          "execution_count": 21
        }
      ]
    },
    {
      "cell_type": "code",
      "source": [
        "spam[-3]"
      ],
      "metadata": {
        "colab": {
          "base_uri": "https://localhost:8080/",
          "height": 35
        },
        "id": "592_1uqoRBWM",
        "outputId": "c5b6f75e-8601-43e4-e96b-67253a381c27"
      },
      "execution_count": 22,
      "outputs": [
        {
          "output_type": "execute_result",
          "data": {
            "text/plain": [
              "'bat'"
            ],
            "application/vnd.google.colaboratory.intrinsic+json": {
              "type": "string"
            }
          },
          "metadata": {},
          "execution_count": 22
        }
      ]
    },
    {
      "cell_type": "code",
      "source": [
        "'The ' + spam[-1] + ' is afraid of the ' + spam[-3] + '.'"
      ],
      "metadata": {
        "colab": {
          "base_uri": "https://localhost:8080/",
          "height": 35
        },
        "id": "y-uu7oEkRC3p",
        "outputId": "06238fad-c7a2-4f53-8a6c-b2e22ac906c0"
      },
      "execution_count": 23,
      "outputs": [
        {
          "output_type": "execute_result",
          "data": {
            "text/plain": [
              "'The elephant is afraid of the bat.'"
            ],
            "application/vnd.google.colaboratory.intrinsic+json": {
              "type": "string"
            }
          },
          "metadata": {},
          "execution_count": 23
        }
      ]
    },
    {
      "cell_type": "markdown",
      "source": [
        "## Getting a List from Another List with Slices"
      ],
      "metadata": {
        "id": "IKPDkQIzRObK"
      }
    },
    {
      "cell_type": "code",
      "source": [
        "spam[0:4]"
      ],
      "metadata": {
        "colab": {
          "base_uri": "https://localhost:8080/"
        },
        "id": "UHhbvW_CRMjp",
        "outputId": "79a7f0cf-676b-4f4c-a586-5f39bbc01eee"
      },
      "execution_count": 24,
      "outputs": [
        {
          "output_type": "execute_result",
          "data": {
            "text/plain": [
              "['cat', 'bat', 'rat', 'elephant']"
            ]
          },
          "metadata": {},
          "execution_count": 24
        }
      ]
    },
    {
      "cell_type": "code",
      "source": [
        "spam[1:3]"
      ],
      "metadata": {
        "colab": {
          "base_uri": "https://localhost:8080/"
        },
        "id": "Hb75vhlpRaHR",
        "outputId": "bb1eb01b-9676-426a-dad6-a8832b737998"
      },
      "execution_count": 25,
      "outputs": [
        {
          "output_type": "execute_result",
          "data": {
            "text/plain": [
              "['bat', 'rat']"
            ]
          },
          "metadata": {},
          "execution_count": 25
        }
      ]
    },
    {
      "cell_type": "code",
      "source": [
        "spam[0:-1]"
      ],
      "metadata": {
        "colab": {
          "base_uri": "https://localhost:8080/"
        },
        "id": "WIt-ErLsRbVS",
        "outputId": "2799f25d-5230-4c51-b331-26a49b1ae21b"
      },
      "execution_count": 26,
      "outputs": [
        {
          "output_type": "execute_result",
          "data": {
            "text/plain": [
              "['cat', 'bat', 'rat']"
            ]
          },
          "metadata": {},
          "execution_count": 26
        }
      ]
    },
    {
      "cell_type": "code",
      "source": [
        "spam[:2]"
      ],
      "metadata": {
        "colab": {
          "base_uri": "https://localhost:8080/"
        },
        "id": "ytb6LoFxRdN_",
        "outputId": "2646039a-7be6-451f-c49f-a076421be63b"
      },
      "execution_count": 27,
      "outputs": [
        {
          "output_type": "execute_result",
          "data": {
            "text/plain": [
              "['cat', 'bat']"
            ]
          },
          "metadata": {},
          "execution_count": 27
        }
      ]
    },
    {
      "cell_type": "code",
      "source": [
        "spam[1:]"
      ],
      "metadata": {
        "colab": {
          "base_uri": "https://localhost:8080/"
        },
        "id": "m9P-LAqYSid_",
        "outputId": "949dc130-1332-4e08-d18d-923b7ed4656c"
      },
      "execution_count": 28,
      "outputs": [
        {
          "output_type": "execute_result",
          "data": {
            "text/plain": [
              "['bat', 'rat', 'elephant']"
            ]
          },
          "metadata": {},
          "execution_count": 28
        }
      ]
    },
    {
      "cell_type": "code",
      "source": [
        "spam[:]"
      ],
      "metadata": {
        "colab": {
          "base_uri": "https://localhost:8080/"
        },
        "id": "zAZ7p5dWSmCN",
        "outputId": "bac50bf8-c518-4f18-ac9c-086d0fc4fdc7"
      },
      "execution_count": 29,
      "outputs": [
        {
          "output_type": "execute_result",
          "data": {
            "text/plain": [
              "['cat', 'bat', 'rat', 'elephant']"
            ]
          },
          "metadata": {},
          "execution_count": 29
        }
      ]
    },
    {
      "cell_type": "markdown",
      "source": [
        "## Getting a List’s Length with the len() Function"
      ],
      "metadata": {
        "id": "cTg-no0ySq92"
      }
    },
    {
      "cell_type": "code",
      "source": [
        "spam = ['cat', 'dog', 'moose']"
      ],
      "metadata": {
        "id": "XjAD1cwRSpsC"
      },
      "execution_count": 30,
      "outputs": []
    },
    {
      "cell_type": "code",
      "source": [
        "len(spam)"
      ],
      "metadata": {
        "colab": {
          "base_uri": "https://localhost:8080/"
        },
        "id": "j3d3tJbbTI_O",
        "outputId": "3d9f8682-93e1-406b-e044-a5f9c097d88e"
      },
      "execution_count": 32,
      "outputs": [
        {
          "output_type": "execute_result",
          "data": {
            "text/plain": [
              "3"
            ]
          },
          "metadata": {},
          "execution_count": 32
        }
      ]
    },
    {
      "cell_type": "markdown",
      "source": [
        "## Changing Values in a List with Indexes"
      ],
      "metadata": {
        "id": "ZnKRDr89TMCP"
      }
    },
    {
      "cell_type": "code",
      "source": [
        "spam = ['cat', 'bat', 'rat', 'elephant']"
      ],
      "metadata": {
        "id": "VXXonm4XTJ6L"
      },
      "execution_count": 33,
      "outputs": []
    },
    {
      "cell_type": "code",
      "source": [
        "spam[1] = 'aardvark'"
      ],
      "metadata": {
        "id": "z7OqXo7bTtuu"
      },
      "execution_count": 34,
      "outputs": []
    },
    {
      "cell_type": "code",
      "source": [
        "spam"
      ],
      "metadata": {
        "colab": {
          "base_uri": "https://localhost:8080/"
        },
        "id": "F8rLY2e5Txpm",
        "outputId": "f7407ac4-2478-43ab-b0d3-8d08af247570"
      },
      "execution_count": 35,
      "outputs": [
        {
          "output_type": "execute_result",
          "data": {
            "text/plain": [
              "['cat', 'aardvark', 'rat', 'elephant']"
            ]
          },
          "metadata": {},
          "execution_count": 35
        }
      ]
    },
    {
      "cell_type": "code",
      "source": [
        "spam[2] = spam[1]"
      ],
      "metadata": {
        "id": "qTLjZk_ZTyVX"
      },
      "execution_count": 36,
      "outputs": []
    },
    {
      "cell_type": "code",
      "source": [
        "spam"
      ],
      "metadata": {
        "colab": {
          "base_uri": "https://localhost:8080/"
        },
        "id": "qufou9qqT05S",
        "outputId": "0c6b5d54-50d4-4f29-c01d-f256e1502363"
      },
      "execution_count": 37,
      "outputs": [
        {
          "output_type": "execute_result",
          "data": {
            "text/plain": [
              "['cat', 'aardvark', 'aardvark', 'elephant']"
            ]
          },
          "metadata": {},
          "execution_count": 37
        }
      ]
    },
    {
      "cell_type": "code",
      "source": [
        "spam[-1] = 12345"
      ],
      "metadata": {
        "id": "kT8Hcy5gT2Dh"
      },
      "execution_count": 38,
      "outputs": []
    },
    {
      "cell_type": "code",
      "source": [
        "spam"
      ],
      "metadata": {
        "colab": {
          "base_uri": "https://localhost:8080/"
        },
        "id": "g0M3uQ-MT47k",
        "outputId": "959b1295-6ef9-4971-954e-9f00da988c41"
      },
      "execution_count": 39,
      "outputs": [
        {
          "output_type": "execute_result",
          "data": {
            "text/plain": [
              "['cat', 'aardvark', 'aardvark', 12345]"
            ]
          },
          "metadata": {},
          "execution_count": 39
        }
      ]
    },
    {
      "cell_type": "markdown",
      "source": [
        "## List Concatenation and List Replication"
      ],
      "metadata": {
        "id": "ECEcpoQCT8IE"
      }
    },
    {
      "cell_type": "code",
      "source": [
        "[1, 2, 3] + ['A', 'B', 'C']"
      ],
      "metadata": {
        "colab": {
          "base_uri": "https://localhost:8080/"
        },
        "id": "X4SzyfcDT5eN",
        "outputId": "cb296419-3563-4c0d-98d5-fe6c63008454"
      },
      "execution_count": 40,
      "outputs": [
        {
          "output_type": "execute_result",
          "data": {
            "text/plain": [
              "[1, 2, 3, 'A', 'B', 'C']"
            ]
          },
          "metadata": {},
          "execution_count": 40
        }
      ]
    },
    {
      "cell_type": "code",
      "source": [
        "['X', 'Y', 'Z'] * 3"
      ],
      "metadata": {
        "colab": {
          "base_uri": "https://localhost:8080/"
        },
        "id": "BJPBR0ZDUH4M",
        "outputId": "252e09df-78a2-446d-8210-96d5813ec5f2"
      },
      "execution_count": 41,
      "outputs": [
        {
          "output_type": "execute_result",
          "data": {
            "text/plain": [
              "['X', 'Y', 'Z', 'X', 'Y', 'Z', 'X', 'Y', 'Z']"
            ]
          },
          "metadata": {},
          "execution_count": 41
        }
      ]
    },
    {
      "cell_type": "code",
      "source": [
        "spam = [1, 2, 3]"
      ],
      "metadata": {
        "id": "hU6URMi7ULFu"
      },
      "execution_count": 42,
      "outputs": []
    },
    {
      "cell_type": "code",
      "source": [
        "spam = spam + ['A', 'B', 'C']"
      ],
      "metadata": {
        "id": "smEXwgc-UNsX"
      },
      "execution_count": 43,
      "outputs": []
    },
    {
      "cell_type": "code",
      "source": [
        "spam"
      ],
      "metadata": {
        "colab": {
          "base_uri": "https://localhost:8080/"
        },
        "id": "SGU-yNAoURtm",
        "outputId": "4c7da34c-3998-46f5-b657-99de2bab6b17"
      },
      "execution_count": 44,
      "outputs": [
        {
          "output_type": "execute_result",
          "data": {
            "text/plain": [
              "[1, 2, 3, 'A', 'B', 'C']"
            ]
          },
          "metadata": {},
          "execution_count": 44
        }
      ]
    },
    {
      "cell_type": "markdown",
      "source": [
        "##Removing Values from Lists with del Statements"
      ],
      "metadata": {
        "id": "Egd94LJ6UUeA"
      }
    },
    {
      "cell_type": "code",
      "source": [
        "spam = ['cat', 'bat', 'rat', 'elephant']"
      ],
      "metadata": {
        "id": "BR4crC6tUSVT"
      },
      "execution_count": 45,
      "outputs": []
    },
    {
      "cell_type": "code",
      "source": [
        "del spam[2]"
      ],
      "metadata": {
        "id": "hNtAxEMqUklL"
      },
      "execution_count": 46,
      "outputs": []
    },
    {
      "cell_type": "code",
      "source": [
        "spam"
      ],
      "metadata": {
        "colab": {
          "base_uri": "https://localhost:8080/"
        },
        "id": "WxuzOT_6UlpP",
        "outputId": "bdb1d729-519e-4dce-ca72-3abfd7d0fd6f"
      },
      "execution_count": 47,
      "outputs": [
        {
          "output_type": "execute_result",
          "data": {
            "text/plain": [
              "['cat', 'bat', 'elephant']"
            ]
          },
          "metadata": {},
          "execution_count": 47
        }
      ]
    },
    {
      "cell_type": "markdown",
      "source": [
        "#Working with Lists"
      ],
      "metadata": {
        "id": "vpU0n4LMUqD3"
      }
    },
    {
      "cell_type": "code",
      "source": [
        "catName1 = 'Zophie'\n",
        "catName2 = 'Pooka'\n",
        "catName3 = 'Simon'\n",
        "catName4 = 'Lady Macbeth'\n",
        "catName5 = 'Fat-tail'\n",
        "catName6 = 'Miss Cleo'"
      ],
      "metadata": {
        "id": "YNkk8wIbUmPD"
      },
      "execution_count": 49,
      "outputs": []
    },
    {
      "cell_type": "code",
      "source": [
        "print('Enter the name of cat 1:')\n",
        "catName1 = input()\n",
        "print('Enter the name of cat 2:')\n",
        "catName2 = input()\n",
        "print('Enter the name of cat 3:')\n",
        "catName3 = input()\n",
        "print('Enter the name of cat 4:')\n",
        "catName4 = input()\n",
        "print('Enter the name of cat 5:')\n",
        "catName5 = input()\n",
        "print('Enter the name of cat 6:')\n",
        "catName6 = input()\n",
        "print('The cat names are:')\n",
        "print(catName1 + ' ' + catName2 + ' ' + catName3 + ' ' + catName4 + ' ' + catName5 + ' ' + catName6)"
      ],
      "metadata": {
        "colab": {
          "base_uri": "https://localhost:8080/"
        },
        "id": "TltMpZnnWSlU",
        "outputId": "aa8155c1-ac56-471e-8a27-6d65df804482"
      },
      "execution_count": 50,
      "outputs": [
        {
          "output_type": "stream",
          "name": "stdout",
          "text": [
            "Enter the name of cat 1:\n",
            "Zhopie\n",
            "Enter the name of cat 2:\n",
            "Pooka\n",
            "Enter the name of cat 3:\n",
            "Simon\n",
            "Enter the name of cat 4:\n",
            "Lady Macbeth\n",
            "Enter the name of cat 5:\n",
            "Fat-tail\n",
            "Enter the name of cat 6:\n",
            "Miss Cleo\n",
            "The cat names are:\n",
            "Zhopie Pooka Simon Lady Macbeth Fat-tail Miss Cleo\n"
          ]
        }
      ]
    },
    {
      "cell_type": "code",
      "source": [
        "catNames = []\n",
        "while True:\n",
        "  print('Enter the name of cat ' + str(len(catNames) + 1) + ' (Or enter nothing to stop.):')\n",
        "  name = input()\n",
        "  if name == '':\n",
        "    break\n",
        "  catNames = catNames + [name] # list concatenation\n",
        "print('The cat names are:')\n",
        "for name in catNames:\n",
        "  print('  ' + name)"
      ],
      "metadata": {
        "colab": {
          "base_uri": "https://localhost:8080/"
        },
        "id": "7skd5raRXwVT",
        "outputId": "57b8d41e-da06-4de3-9d36-3427a01b3add"
      },
      "execution_count": 51,
      "outputs": [
        {
          "output_type": "stream",
          "name": "stdout",
          "text": [
            "Enter the name of cat 1 (Or enter nothing to stop.):\n",
            "zophie\n",
            "Enter the name of cat 2 (Or enter nothing to stop.):\n",
            "pooka\n",
            "Enter the name of cat 3 (Or enter nothing to stop.):\n",
            "simon\n",
            "Enter the name of cat 4 (Or enter nothing to stop.):\n",
            "lady macbeth\n",
            "Enter the name of cat 5 (Or enter nothing to stop.):\n",
            "fat-tail\n",
            "Enter the name of cat 6 (Or enter nothing to stop.):\n",
            "miss cleo\n",
            "Enter the name of cat 7 (Or enter nothing to stop.):\n",
            "\n",
            "The cat names are:\n",
            "  zophie\n",
            "  pooka\n",
            "  simon\n",
            "  lady macbeth\n",
            "  fat-tail\n",
            "  miss cleo\n"
          ]
        }
      ]
    },
    {
      "cell_type": "markdown",
      "source": [
        "##Using for Loops with Lists"
      ],
      "metadata": {
        "id": "wibt8gJcY7Kx"
      }
    },
    {
      "cell_type": "code",
      "source": [
        "for i in range(4):\n",
        "  print(i)"
      ],
      "metadata": {
        "colab": {
          "base_uri": "https://localhost:8080/"
        },
        "id": "m3puOn2EYseV",
        "outputId": "2fa2b0db-16d3-444e-cfac-d9699ac2a126"
      },
      "execution_count": 53,
      "outputs": [
        {
          "output_type": "stream",
          "name": "stdout",
          "text": [
            "0\n",
            "1\n",
            "2\n",
            "3\n"
          ]
        }
      ]
    },
    {
      "cell_type": "code",
      "source": [
        "for i in [0, 1, 2, 3]:\n",
        "  print(i)"
      ],
      "metadata": {
        "colab": {
          "base_uri": "https://localhost:8080/"
        },
        "id": "tU3I1uRXmFZF",
        "outputId": "28dec7e8-69d4-4acc-efe6-82d90216a43a"
      },
      "execution_count": 54,
      "outputs": [
        {
          "output_type": "stream",
          "name": "stdout",
          "text": [
            "0\n",
            "1\n",
            "2\n",
            "3\n"
          ]
        }
      ]
    },
    {
      "cell_type": "code",
      "source": [
        "supplies = ['pens', 'staplers', 'flamethrowers', 'binders']\n",
        "for i in range(len(supplies)):\n",
        "  print('Index ' + str(i) + ' in supplies is: ' + supplies[i])"
      ],
      "metadata": {
        "colab": {
          "base_uri": "https://localhost:8080/"
        },
        "id": "2mgTUnKImLIm",
        "outputId": "9790329c-b8eb-4058-fc52-34da861f5934"
      },
      "execution_count": 55,
      "outputs": [
        {
          "output_type": "stream",
          "name": "stdout",
          "text": [
            "Index 0 in supplies is: pens\n",
            "Index 1 in supplies is: staplers\n",
            "Index 2 in supplies is: flamethrowers\n",
            "Index 3 in supplies is: binders\n"
          ]
        }
      ]
    },
    {
      "cell_type": "markdown",
      "source": [
        "##The in and not in Operators"
      ],
      "metadata": {
        "id": "PFyDdq3cmstH"
      }
    },
    {
      "cell_type": "code",
      "source": [
        "'howdy' in ['hello', 'hi', 'howdy', 'heyas']"
      ],
      "metadata": {
        "colab": {
          "base_uri": "https://localhost:8080/"
        },
        "id": "blizP9jLmlgI",
        "outputId": "4fb4e8d3-f94b-4050-bef6-c06937cfb596"
      },
      "execution_count": 56,
      "outputs": [
        {
          "output_type": "execute_result",
          "data": {
            "text/plain": [
              "True"
            ]
          },
          "metadata": {},
          "execution_count": 56
        }
      ]
    },
    {
      "cell_type": "code",
      "source": [
        "spam = ['hello', 'hi', 'howdy', 'heyas']"
      ],
      "metadata": {
        "id": "tFk7SiYwm9o1"
      },
      "execution_count": 57,
      "outputs": []
    },
    {
      "cell_type": "code",
      "source": [
        "'cat' in spam"
      ],
      "metadata": {
        "colab": {
          "base_uri": "https://localhost:8080/"
        },
        "id": "ICF49vyrnAdS",
        "outputId": "8ea0cb04-1129-4377-d518-e92c3190fc12"
      },
      "execution_count": 58,
      "outputs": [
        {
          "output_type": "execute_result",
          "data": {
            "text/plain": [
              "False"
            ]
          },
          "metadata": {},
          "execution_count": 58
        }
      ]
    },
    {
      "cell_type": "code",
      "source": [
        "'howdy' not in spam"
      ],
      "metadata": {
        "colab": {
          "base_uri": "https://localhost:8080/"
        },
        "id": "q0xKKMsLnCMI",
        "outputId": "4bcb2be8-7115-49ae-df9b-b05f8c9e4d01"
      },
      "execution_count": 59,
      "outputs": [
        {
          "output_type": "execute_result",
          "data": {
            "text/plain": [
              "False"
            ]
          },
          "metadata": {},
          "execution_count": 59
        }
      ]
    },
    {
      "cell_type": "code",
      "source": [
        "'cat' not in spam"
      ],
      "metadata": {
        "colab": {
          "base_uri": "https://localhost:8080/"
        },
        "id": "4yhrfAeUnEBt",
        "outputId": "451e5403-7990-4dae-a562-fb3ba05ea7ae"
      },
      "execution_count": 60,
      "outputs": [
        {
          "output_type": "execute_result",
          "data": {
            "text/plain": [
              "True"
            ]
          },
          "metadata": {},
          "execution_count": 60
        }
      ]
    },
    {
      "cell_type": "code",
      "source": [
        "myPets = ['Zophie', 'Pooka', 'Fat-tail']\n",
        "print('Enter a pet name:')\n",
        "name = input()\n",
        "if name not in myPets:\n",
        "  print('I do not have a per named ' + name)\n",
        "else:\n",
        "  print(name + ' is my pet.')"
      ],
      "metadata": {
        "colab": {
          "base_uri": "https://localhost:8080/"
        },
        "id": "x1P5mlc3nGLl",
        "outputId": "78f96c96-c91b-4450-9cad-16aa9b74b6f6"
      },
      "execution_count": 62,
      "outputs": [
        {
          "output_type": "stream",
          "name": "stdout",
          "text": [
            "Enter a pet name:\n",
            "d\n",
            "I do not have a per named d\n"
          ]
        }
      ]
    },
    {
      "cell_type": "markdown",
      "source": [
        "##The Multiple Assignment Trick"
      ],
      "metadata": {
        "id": "7YPywLpkngy-"
      }
    },
    {
      "cell_type": "code",
      "source": [
        "cat = ['fat', 'gray', 'loud']\n",
        "size, color, disposition = cat"
      ],
      "metadata": {
        "id": "JvaCOjb4nZ3p"
      },
      "execution_count": 65,
      "outputs": []
    },
    {
      "cell_type": "markdown",
      "source": [
        "## Using the enumerate() Function with Lists"
      ],
      "metadata": {
        "id": "_2ju7lxMoh6K"
      }
    },
    {
      "cell_type": "code",
      "source": [
        "supplies = ['pens', 'staplers', 'flamethrowers', 'binders']\n",
        "for index, item in enumerate(supplies):\n",
        "  print('Index ' + str(index) + ' in supplies is: ' + item)"
      ],
      "metadata": {
        "colab": {
          "base_uri": "https://localhost:8080/"
        },
        "id": "OSKMCA_loZuY",
        "outputId": "9708a8b8-d78d-4302-e07f-9fa18610b949"
      },
      "execution_count": 66,
      "outputs": [
        {
          "output_type": "stream",
          "name": "stdout",
          "text": [
            "Index 0 in supplies is: pens\n",
            "Index 1 in supplies is: staplers\n",
            "Index 2 in supplies is: flamethrowers\n",
            "Index 3 in supplies is: binders\n"
          ]
        }
      ]
    },
    {
      "cell_type": "markdown",
      "source": [
        "##Using the random.choice() and random.shuffle() Functions with Lists"
      ],
      "metadata": {
        "id": "Sp-2ZkJmpIWg"
      }
    },
    {
      "cell_type": "code",
      "source": [
        "import random\n",
        "pets = ['Dog', 'Cat', 'Moose']\n",
        "random.choice(pets)"
      ],
      "metadata": {
        "colab": {
          "base_uri": "https://localhost:8080/",
          "height": 35
        },
        "id": "BzDet4QdpEfB",
        "outputId": "b3f10278-25e3-4f52-f144-2a535df7281f"
      },
      "execution_count": 67,
      "outputs": [
        {
          "output_type": "execute_result",
          "data": {
            "text/plain": [
              "'Moose'"
            ],
            "application/vnd.google.colaboratory.intrinsic+json": {
              "type": "string"
            }
          },
          "metadata": {},
          "execution_count": 67
        }
      ]
    },
    {
      "cell_type": "code",
      "source": [
        "random.choice(pets)"
      ],
      "metadata": {
        "colab": {
          "base_uri": "https://localhost:8080/",
          "height": 35
        },
        "id": "mS0uzldIpwXE",
        "outputId": "9227d4f8-ac12-4fce-d2c5-bc344f5d219d"
      },
      "execution_count": 68,
      "outputs": [
        {
          "output_type": "execute_result",
          "data": {
            "text/plain": [
              "'Moose'"
            ],
            "application/vnd.google.colaboratory.intrinsic+json": {
              "type": "string"
            }
          },
          "metadata": {},
          "execution_count": 68
        }
      ]
    },
    {
      "cell_type": "code",
      "source": [
        "random.choice(pets)"
      ],
      "metadata": {
        "colab": {
          "base_uri": "https://localhost:8080/",
          "height": 35
        },
        "id": "hGCKp8RrpyKG",
        "outputId": "fe2afb20-8b09-4018-81e1-c625c97ccca2"
      },
      "execution_count": 69,
      "outputs": [
        {
          "output_type": "execute_result",
          "data": {
            "text/plain": [
              "'Moose'"
            ],
            "application/vnd.google.colaboratory.intrinsic+json": {
              "type": "string"
            }
          },
          "metadata": {},
          "execution_count": 69
        }
      ]
    },
    {
      "cell_type": "code",
      "source": [
        "random.choice(pets)"
      ],
      "metadata": {
        "colab": {
          "base_uri": "https://localhost:8080/",
          "height": 35
        },
        "id": "0NLK7Hjnpy1o",
        "outputId": "291d2aed-3201-48c4-e058-37c6fd243c90"
      },
      "execution_count": 70,
      "outputs": [
        {
          "output_type": "execute_result",
          "data": {
            "text/plain": [
              "'Moose'"
            ],
            "application/vnd.google.colaboratory.intrinsic+json": {
              "type": "string"
            }
          },
          "metadata": {},
          "execution_count": 70
        }
      ]
    },
    {
      "cell_type": "code",
      "source": [
        "import random\n",
        "people = ['Alice', 'Bob', 'Carol', 'David']\n",
        "random.shuffle(people)\n",
        "people"
      ],
      "metadata": {
        "colab": {
          "base_uri": "https://localhost:8080/"
        },
        "id": "CuavWS4wpz3X",
        "outputId": "6bd8a61d-f953-4707-e015-052679f64ac0"
      },
      "execution_count": 71,
      "outputs": [
        {
          "output_type": "execute_result",
          "data": {
            "text/plain": [
              "['Bob', 'David', 'Carol', 'Alice']"
            ]
          },
          "metadata": {},
          "execution_count": 71
        }
      ]
    },
    {
      "cell_type": "code",
      "source": [
        "random.shuffle(people)"
      ],
      "metadata": {
        "id": "Ja8I3yb8qAfr"
      },
      "execution_count": 72,
      "outputs": []
    },
    {
      "cell_type": "code",
      "source": [
        "people"
      ],
      "metadata": {
        "colab": {
          "base_uri": "https://localhost:8080/"
        },
        "id": "rkXW1BPhqCDj",
        "outputId": "59dac363-5bcf-4366-b3af-3bed5bc8d5f5"
      },
      "execution_count": 73,
      "outputs": [
        {
          "output_type": "execute_result",
          "data": {
            "text/plain": [
              "['Alice', 'Bob', 'Carol', 'David']"
            ]
          },
          "metadata": {},
          "execution_count": 73
        }
      ]
    },
    {
      "cell_type": "markdown",
      "source": [
        "#Augmented Assignment Operators"
      ],
      "metadata": {
        "id": "WkgeKm_7qI4o"
      }
    },
    {
      "cell_type": "code",
      "source": [
        "spam = 42\n",
        "spam = spam + 1\n",
        "spam"
      ],
      "metadata": {
        "colab": {
          "base_uri": "https://localhost:8080/"
        },
        "id": "BhRrKl63qC2F",
        "outputId": "629a213d-6e60-47ce-8525-7164830b3398"
      },
      "execution_count": 74,
      "outputs": [
        {
          "output_type": "execute_result",
          "data": {
            "text/plain": [
              "43"
            ]
          },
          "metadata": {},
          "execution_count": 74
        }
      ]
    },
    {
      "cell_type": "code",
      "source": [
        "spam = 42\n",
        "spam += 1 # += augmented assignment\n",
        "spam"
      ],
      "metadata": {
        "colab": {
          "base_uri": "https://localhost:8080/"
        },
        "id": "FqCj5Q4Yqx4b",
        "outputId": "865d0d21-e0ad-4fce-d139-d2f0d603890a"
      },
      "execution_count": 75,
      "outputs": [
        {
          "output_type": "execute_result",
          "data": {
            "text/plain": [
              "43"
            ]
          },
          "metadata": {},
          "execution_count": 75
        }
      ]
    },
    {
      "cell_type": "code",
      "source": [
        "spam = 'Hello'\n",
        "spam += 'World!'\n",
        "spam"
      ],
      "metadata": {
        "colab": {
          "base_uri": "https://localhost:8080/",
          "height": 35
        },
        "id": "QbQBhRMJq1Th",
        "outputId": "b62dcfba-8711-4c63-d4c8-caed8079a817"
      },
      "execution_count": 76,
      "outputs": [
        {
          "output_type": "execute_result",
          "data": {
            "text/plain": [
              "'HelloWorld!'"
            ],
            "application/vnd.google.colaboratory.intrinsic+json": {
              "type": "string"
            }
          },
          "metadata": {},
          "execution_count": 76
        }
      ]
    },
    {
      "cell_type": "code",
      "source": [
        "bacon = ['Zophie']\n",
        "bacon *= 3\n",
        "bacon"
      ],
      "metadata": {
        "colab": {
          "base_uri": "https://localhost:8080/"
        },
        "id": "QR5VXH-wq_iK",
        "outputId": "d231e5b7-3cf3-49a1-d837-249fc0046ea9"
      },
      "execution_count": 77,
      "outputs": [
        {
          "output_type": "execute_result",
          "data": {
            "text/plain": [
              "['Zophie', 'Zophie', 'Zophie']"
            ]
          },
          "metadata": {},
          "execution_count": 77
        }
      ]
    },
    {
      "cell_type": "markdown",
      "source": [
        "#Methods"
      ],
      "metadata": {
        "id": "OgPUhs9QrGK-"
      }
    },
    {
      "cell_type": "markdown",
      "source": [
        "##Finding a Value in a List with the index() Method"
      ],
      "metadata": {
        "id": "blMYN-6arPhw"
      }
    },
    {
      "cell_type": "code",
      "source": [
        "spam = ['hello', 'hi', 'howdy', 'heyas']\n",
        "spam.index('hello')"
      ],
      "metadata": {
        "colab": {
          "base_uri": "https://localhost:8080/"
        },
        "id": "bof5TS6frD6P",
        "outputId": "f6392ce1-ae5e-490d-c07d-093ccfaacf5d"
      },
      "execution_count": 78,
      "outputs": [
        {
          "output_type": "execute_result",
          "data": {
            "text/plain": [
              "0"
            ]
          },
          "metadata": {},
          "execution_count": 78
        }
      ]
    },
    {
      "cell_type": "code",
      "source": [
        "spam.index('heyas')"
      ],
      "metadata": {
        "colab": {
          "base_uri": "https://localhost:8080/"
        },
        "id": "om923Ks1r8Ia",
        "outputId": "db26da9a-7677-4b8b-fd3f-9b67013f8760"
      },
      "execution_count": 79,
      "outputs": [
        {
          "output_type": "execute_result",
          "data": {
            "text/plain": [
              "3"
            ]
          },
          "metadata": {},
          "execution_count": 79
        }
      ]
    },
    {
      "cell_type": "code",
      "source": [
        "spam.index('howdy howdy howdy')"
      ],
      "metadata": {
        "colab": {
          "base_uri": "https://localhost:8080/",
          "height": 144
        },
        "id": "heksmjZVr-eL",
        "outputId": "0409c71d-6d7f-4b63-9902-5f3b24791040"
      },
      "execution_count": 80,
      "outputs": [
        {
          "output_type": "error",
          "ename": "ValueError",
          "evalue": "'howdy howdy howdy' is not in list",
          "traceback": [
            "\u001b[0;31m---------------------------------------------------------------------------\u001b[0m",
            "\u001b[0;31mValueError\u001b[0m                                Traceback (most recent call last)",
            "\u001b[0;32m<ipython-input-80-aa717b951a7e>\u001b[0m in \u001b[0;36m<cell line: 0>\u001b[0;34m()\u001b[0m\n\u001b[0;32m----> 1\u001b[0;31m \u001b[0mspam\u001b[0m\u001b[0;34m.\u001b[0m\u001b[0mindex\u001b[0m\u001b[0;34m(\u001b[0m\u001b[0;34m'howdy howdy howdy'\u001b[0m\u001b[0;34m)\u001b[0m\u001b[0;34m\u001b[0m\u001b[0;34m\u001b[0m\u001b[0m\n\u001b[0m",
            "\u001b[0;31mValueError\u001b[0m: 'howdy howdy howdy' is not in list"
          ]
        }
      ]
    },
    {
      "cell_type": "code",
      "source": [
        "spam = ['Zophie', 'Pooka', 'Fat-tail', 'Pooka']\n",
        "spam.index('Pooka')"
      ],
      "metadata": {
        "colab": {
          "base_uri": "https://localhost:8080/"
        },
        "id": "Htkq1n7vsDF1",
        "outputId": "b795a2f6-0a63-42bc-9251-7841e96123ce"
      },
      "execution_count": 81,
      "outputs": [
        {
          "output_type": "execute_result",
          "data": {
            "text/plain": [
              "1"
            ]
          },
          "metadata": {},
          "execution_count": 81
        }
      ]
    },
    {
      "cell_type": "markdown",
      "source": [
        "##Adding Values to Lists with the append() and insert() Methods"
      ],
      "metadata": {
        "id": "A4uHB2HEtDsh"
      }
    },
    {
      "cell_type": "code",
      "source": [
        "spam = ['cat', 'dog', 'bat']\n",
        "spam.append('moose')\n",
        "spam"
      ],
      "metadata": {
        "colab": {
          "base_uri": "https://localhost:8080/"
        },
        "id": "LAb6eFMCtBrW",
        "outputId": "50a4ea7b-049b-4bed-e91b-84899c4b9e52"
      },
      "execution_count": 82,
      "outputs": [
        {
          "output_type": "execute_result",
          "data": {
            "text/plain": [
              "['cat', 'dog', 'bat', 'moose']"
            ]
          },
          "metadata": {},
          "execution_count": 82
        }
      ]
    },
    {
      "cell_type": "code",
      "source": [
        "spam = ['cat', 'dog', 'bat']\n",
        "spam.insert(1, 'chicken')\n",
        "spam"
      ],
      "metadata": {
        "colab": {
          "base_uri": "https://localhost:8080/"
        },
        "id": "Cl80GQNntwp9",
        "outputId": "5687baac-c481-4b00-dd07-6e942a7f83e8"
      },
      "execution_count": 83,
      "outputs": [
        {
          "output_type": "execute_result",
          "data": {
            "text/plain": [
              "['cat', 'chicken', 'dog', 'bat']"
            ]
          },
          "metadata": {},
          "execution_count": 83
        }
      ]
    },
    {
      "cell_type": "code",
      "source": [
        "eggs = 'hello'\n",
        "eggs.append('world')"
      ],
      "metadata": {
        "colab": {
          "base_uri": "https://localhost:8080/",
          "height": 162
        },
        "id": "IoWggtb0t_hP",
        "outputId": "83d30e8a-40c3-4160-8351-54c08169fe3b"
      },
      "execution_count": 84,
      "outputs": [
        {
          "output_type": "error",
          "ename": "AttributeError",
          "evalue": "'str' object has no attribute 'append'",
          "traceback": [
            "\u001b[0;31m---------------------------------------------------------------------------\u001b[0m",
            "\u001b[0;31mAttributeError\u001b[0m                            Traceback (most recent call last)",
            "\u001b[0;32m<ipython-input-84-f5dd91fa6055>\u001b[0m in \u001b[0;36m<cell line: 0>\u001b[0;34m()\u001b[0m\n\u001b[1;32m      1\u001b[0m \u001b[0meggs\u001b[0m \u001b[0;34m=\u001b[0m \u001b[0;34m'hello'\u001b[0m\u001b[0;34m\u001b[0m\u001b[0;34m\u001b[0m\u001b[0m\n\u001b[0;32m----> 2\u001b[0;31m \u001b[0meggs\u001b[0m\u001b[0;34m.\u001b[0m\u001b[0mappend\u001b[0m\u001b[0;34m(\u001b[0m\u001b[0;34m'world'\u001b[0m\u001b[0;34m)\u001b[0m\u001b[0;34m\u001b[0m\u001b[0;34m\u001b[0m\u001b[0m\n\u001b[0m",
            "\u001b[0;31mAttributeError\u001b[0m: 'str' object has no attribute 'append'"
          ]
        }
      ]
    },
    {
      "cell_type": "code",
      "source": [
        "bacon = 42\n",
        "bacon.insert(1, 'world')"
      ],
      "metadata": {
        "colab": {
          "base_uri": "https://localhost:8080/",
          "height": 162
        },
        "id": "9I61nLAfuHcJ",
        "outputId": "bf6446e2-f64e-4536-857e-3ccc6c1560da"
      },
      "execution_count": 85,
      "outputs": [
        {
          "output_type": "error",
          "ename": "AttributeError",
          "evalue": "'int' object has no attribute 'insert'",
          "traceback": [
            "\u001b[0;31m---------------------------------------------------------------------------\u001b[0m",
            "\u001b[0;31mAttributeError\u001b[0m                            Traceback (most recent call last)",
            "\u001b[0;32m<ipython-input-85-d48d36e80f90>\u001b[0m in \u001b[0;36m<cell line: 0>\u001b[0;34m()\u001b[0m\n\u001b[1;32m      1\u001b[0m \u001b[0mbacon\u001b[0m \u001b[0;34m=\u001b[0m \u001b[0;36m42\u001b[0m\u001b[0;34m\u001b[0m\u001b[0;34m\u001b[0m\u001b[0m\n\u001b[0;32m----> 2\u001b[0;31m \u001b[0mbacon\u001b[0m\u001b[0;34m.\u001b[0m\u001b[0minsert\u001b[0m\u001b[0;34m(\u001b[0m\u001b[0;36m1\u001b[0m\u001b[0;34m,\u001b[0m \u001b[0;34m'world'\u001b[0m\u001b[0;34m)\u001b[0m\u001b[0;34m\u001b[0m\u001b[0;34m\u001b[0m\u001b[0m\n\u001b[0m",
            "\u001b[0;31mAttributeError\u001b[0m: 'int' object has no attribute 'insert'"
          ]
        }
      ]
    },
    {
      "cell_type": "markdown",
      "source": [
        "##Removing Values from Lists with the remove() Method"
      ],
      "metadata": {
        "id": "HDrZom5buQk_"
      }
    },
    {
      "cell_type": "code",
      "source": [
        "spam = ['cat', 'bat', 'rat', 'elephant']\n",
        "spam.remove('bat')\n",
        "spam"
      ],
      "metadata": {
        "colab": {
          "base_uri": "https://localhost:8080/"
        },
        "id": "wTuRy9rxuOO1",
        "outputId": "4e200343-6153-43e8-bfb3-8e76fa1861fe"
      },
      "execution_count": 86,
      "outputs": [
        {
          "output_type": "execute_result",
          "data": {
            "text/plain": [
              "['cat', 'rat', 'elephant']"
            ]
          },
          "metadata": {},
          "execution_count": 86
        }
      ]
    },
    {
      "cell_type": "code",
      "source": [
        "spam = ['cat', 'bat', 'rat', 'elephant']\n",
        "spam.remove('chicken')\n",
        "spam"
      ],
      "metadata": {
        "colab": {
          "base_uri": "https://localhost:8080/",
          "height": 180
        },
        "id": "LzhxDduzvkTp",
        "outputId": "cf8cf1b7-5ec0-4db0-e7e8-4287feca781e"
      },
      "execution_count": 87,
      "outputs": [
        {
          "output_type": "error",
          "ename": "ValueError",
          "evalue": "list.remove(x): x not in list",
          "traceback": [
            "\u001b[0;31m---------------------------------------------------------------------------\u001b[0m",
            "\u001b[0;31mValueError\u001b[0m                                Traceback (most recent call last)",
            "\u001b[0;32m<ipython-input-87-ba237e049178>\u001b[0m in \u001b[0;36m<cell line: 0>\u001b[0;34m()\u001b[0m\n\u001b[1;32m      1\u001b[0m \u001b[0mspam\u001b[0m \u001b[0;34m=\u001b[0m \u001b[0;34m[\u001b[0m\u001b[0;34m'cat'\u001b[0m\u001b[0;34m,\u001b[0m \u001b[0;34m'bat'\u001b[0m\u001b[0;34m,\u001b[0m \u001b[0;34m'rat'\u001b[0m\u001b[0;34m,\u001b[0m \u001b[0;34m'elephant'\u001b[0m\u001b[0;34m]\u001b[0m\u001b[0;34m\u001b[0m\u001b[0;34m\u001b[0m\u001b[0m\n\u001b[0;32m----> 2\u001b[0;31m \u001b[0mspam\u001b[0m\u001b[0;34m.\u001b[0m\u001b[0mremove\u001b[0m\u001b[0;34m(\u001b[0m\u001b[0;34m'chicken'\u001b[0m\u001b[0;34m)\u001b[0m\u001b[0;34m\u001b[0m\u001b[0;34m\u001b[0m\u001b[0m\n\u001b[0m\u001b[1;32m      3\u001b[0m \u001b[0mspam\u001b[0m\u001b[0;34m\u001b[0m\u001b[0;34m\u001b[0m\u001b[0m\n",
            "\u001b[0;31mValueError\u001b[0m: list.remove(x): x not in list"
          ]
        }
      ]
    },
    {
      "cell_type": "code",
      "source": [
        "spam = ['cat', 'bat', 'rat', 'cat', 'hat', 'cat']\n",
        "spam.remove('cat')\n",
        "spam"
      ],
      "metadata": {
        "colab": {
          "base_uri": "https://localhost:8080/"
        },
        "id": "St3nlaSKvo0S",
        "outputId": "eca32fde-363c-4bf2-d5bf-5fe738d0513d"
      },
      "execution_count": 88,
      "outputs": [
        {
          "output_type": "execute_result",
          "data": {
            "text/plain": [
              "['bat', 'rat', 'cat', 'hat', 'cat']"
            ]
          },
          "metadata": {},
          "execution_count": 88
        }
      ]
    },
    {
      "cell_type": "markdown",
      "source": [
        "##Sorting the Values in a List with the sort() Method"
      ],
      "metadata": {
        "id": "et4-3vHmvz70"
      }
    },
    {
      "cell_type": "code",
      "source": [
        "spam = [2, 5, 3.14, 1, -7]\n",
        "spam.sort()\n",
        "spam"
      ],
      "metadata": {
        "colab": {
          "base_uri": "https://localhost:8080/"
        },
        "id": "VhWM2oL4vwgl",
        "outputId": "8991d637-19da-46c3-82dc-26b17d5ad1f5"
      },
      "execution_count": 91,
      "outputs": [
        {
          "output_type": "execute_result",
          "data": {
            "text/plain": [
              "[-7, 1, 2, 3.14, 5]"
            ]
          },
          "metadata": {},
          "execution_count": 91
        }
      ]
    },
    {
      "cell_type": "code",
      "source": [
        "spam = ['ants', 'cats', 'dogs', 'badgers', 'elephants']\n",
        "spam.sort()\n",
        "spam"
      ],
      "metadata": {
        "colab": {
          "base_uri": "https://localhost:8080/"
        },
        "id": "ASAjnVzBwz-x",
        "outputId": "61c909a8-b9f9-4946-9402-2304a6ae6ddc"
      },
      "execution_count": 92,
      "outputs": [
        {
          "output_type": "execute_result",
          "data": {
            "text/plain": [
              "['ants', 'badgers', 'cats', 'dogs', 'elephants']"
            ]
          },
          "metadata": {},
          "execution_count": 92
        }
      ]
    },
    {
      "cell_type": "code",
      "source": [
        "spam.sort(reverse=True)\n",
        "spam"
      ],
      "metadata": {
        "colab": {
          "base_uri": "https://localhost:8080/"
        },
        "id": "Zw2RS6aixGzG",
        "outputId": "24d6483b-8c8a-4e29-b332-24c031d860da"
      },
      "execution_count": 94,
      "outputs": [
        {
          "output_type": "execute_result",
          "data": {
            "text/plain": [
              "['elephants', 'dogs', 'cats', 'badgers', 'ants']"
            ]
          },
          "metadata": {},
          "execution_count": 94
        }
      ]
    },
    {
      "cell_type": "code",
      "source": [
        "spam = [1, 3, 2, 4, 'Alice', 'Bob']\n",
        "spam.sort()"
      ],
      "metadata": {
        "colab": {
          "base_uri": "https://localhost:8080/",
          "height": 162
        },
        "id": "HCav-VSHxK4_",
        "outputId": "c356f23c-526b-4562-8495-38409f08c69c"
      },
      "execution_count": 96,
      "outputs": [
        {
          "output_type": "error",
          "ename": "TypeError",
          "evalue": "'<' not supported between instances of 'str' and 'int'",
          "traceback": [
            "\u001b[0;31m---------------------------------------------------------------------------\u001b[0m",
            "\u001b[0;31mTypeError\u001b[0m                                 Traceback (most recent call last)",
            "\u001b[0;32m<ipython-input-96-c8acbeae1737>\u001b[0m in \u001b[0;36m<cell line: 0>\u001b[0;34m()\u001b[0m\n\u001b[1;32m      1\u001b[0m \u001b[0mspam\u001b[0m \u001b[0;34m=\u001b[0m \u001b[0;34m[\u001b[0m\u001b[0;36m1\u001b[0m\u001b[0;34m,\u001b[0m \u001b[0;36m3\u001b[0m\u001b[0;34m,\u001b[0m \u001b[0;36m2\u001b[0m\u001b[0;34m,\u001b[0m \u001b[0;36m4\u001b[0m\u001b[0;34m,\u001b[0m \u001b[0;34m'Alice'\u001b[0m\u001b[0;34m,\u001b[0m \u001b[0;34m'Bob'\u001b[0m\u001b[0;34m]\u001b[0m\u001b[0;34m\u001b[0m\u001b[0;34m\u001b[0m\u001b[0m\n\u001b[0;32m----> 2\u001b[0;31m \u001b[0mspam\u001b[0m\u001b[0;34m.\u001b[0m\u001b[0msort\u001b[0m\u001b[0;34m(\u001b[0m\u001b[0;34m)\u001b[0m\u001b[0;34m\u001b[0m\u001b[0;34m\u001b[0m\u001b[0m\n\u001b[0m",
            "\u001b[0;31mTypeError\u001b[0m: '<' not supported between instances of 'str' and 'int'"
          ]
        }
      ]
    },
    {
      "cell_type": "code",
      "source": [
        "spam = ['Alice', 'ants', 'Bob', 'badgers', 'Carol', 'cats']\n",
        "spam.sort()\n",
        "spam"
      ],
      "metadata": {
        "colab": {
          "base_uri": "https://localhost:8080/"
        },
        "id": "QJfZ8z-YxTYL",
        "outputId": "048d773d-6807-47d4-9bbc-42143ead4812"
      },
      "execution_count": 97,
      "outputs": [
        {
          "output_type": "execute_result",
          "data": {
            "text/plain": [
              "['Alice', 'Bob', 'Carol', 'ants', 'badgers', 'cats']"
            ]
          },
          "metadata": {},
          "execution_count": 97
        }
      ]
    },
    {
      "cell_type": "code",
      "source": [
        "spam = ['a', 'z', 'A', 'Z']\n",
        "spam.sort(key=str.lower)\n",
        "spam"
      ],
      "metadata": {
        "colab": {
          "base_uri": "https://localhost:8080/"
        },
        "id": "RjgBHP-TxhHw",
        "outputId": "394d2a05-ed93-41c3-ff73-ac5694769a58"
      },
      "execution_count": 98,
      "outputs": [
        {
          "output_type": "execute_result",
          "data": {
            "text/plain": [
              "['a', 'A', 'z', 'Z']"
            ]
          },
          "metadata": {},
          "execution_count": 98
        }
      ]
    },
    {
      "cell_type": "markdown",
      "source": [
        "##Reversing the Values in a List with the reverse() Method"
      ],
      "metadata": {
        "id": "zKVsvlkcxyRq"
      }
    },
    {
      "cell_type": "code",
      "source": [
        "spam = ['cat', 'dog', 'moose']\n",
        "spam.reverse()\n",
        "spam"
      ],
      "metadata": {
        "colab": {
          "base_uri": "https://localhost:8080/"
        },
        "id": "7-Zpzer-xqNZ",
        "outputId": "24a202d0-28d8-4c56-f6c9-66b5a5667126"
      },
      "execution_count": 99,
      "outputs": [
        {
          "output_type": "execute_result",
          "data": {
            "text/plain": [
              "['moose', 'dog', 'cat']"
            ]
          },
          "metadata": {},
          "execution_count": 99
        }
      ]
    },
    {
      "cell_type": "code",
      "source": [
        "spam = ['apples',\n",
        "        'oranges',\n",
        "        'bananas',\n",
        "        'cats']\n",
        "print(spam)"
      ],
      "metadata": {
        "colab": {
          "base_uri": "https://localhost:8080/"
        },
        "id": "xe_R_9OGyVKW",
        "outputId": "763027ae-464f-4797-9910-b2bd532446c3"
      },
      "execution_count": 100,
      "outputs": [
        {
          "output_type": "stream",
          "name": "stdout",
          "text": [
            "['apples', 'oranges', 'bananas', 'cats']\n"
          ]
        }
      ]
    },
    {
      "cell_type": "code",
      "source": [
        "print('Four score and seven ' + \\\n",
        "      'years ago...')"
      ],
      "metadata": {
        "colab": {
          "base_uri": "https://localhost:8080/"
        },
        "id": "wxvzlZ7-0xA-",
        "outputId": "9dac9b6b-8ca8-412d-8c35-74b426630170"
      },
      "execution_count": 101,
      "outputs": [
        {
          "output_type": "stream",
          "name": "stdout",
          "text": [
            "Four score and seven years ago...\n"
          ]
        }
      ]
    },
    {
      "cell_type": "markdown",
      "source": [
        "#Example Program: Magic 8 Ball with a List"
      ],
      "metadata": {
        "id": "bzcqhmJ01I4R"
      }
    },
    {
      "cell_type": "code",
      "source": [
        "import random\n",
        "\n",
        "messages = ['It is certain',\n",
        "            'It is decidedly so',\n",
        "            'Yes definetly',\n",
        "            'Reply hazy try again',\n",
        "            'Ask again later',\n",
        "            'Concentrate and ask again',\n",
        "            'My reply is no',\n",
        "            'Outlook not so good',\n",
        "            'Very doubtful']\n",
        "\n",
        "print(messages[random.randint(0, len(messages) - 1)])"
      ],
      "metadata": {
        "colab": {
          "base_uri": "https://localhost:8080/"
        },
        "id": "S6YB07o706pE",
        "outputId": "27e4ac20-8ffe-4681-c08a-01990b608796"
      },
      "execution_count": 102,
      "outputs": [
        {
          "output_type": "stream",
          "name": "stdout",
          "text": [
            "Outlook not so good\n"
          ]
        }
      ]
    },
    {
      "cell_type": "markdown",
      "source": [
        "#Sequence Data Types"
      ],
      "metadata": {
        "id": "RQjTFrcb2AdL"
      }
    },
    {
      "cell_type": "code",
      "source": [
        "name = 'Zophie'\n",
        "name[0]"
      ],
      "metadata": {
        "colab": {
          "base_uri": "https://localhost:8080/",
          "height": 35
        },
        "id": "niQHGSMG11Dg",
        "outputId": "af9a78cd-b48b-4553-de71-428131975aac"
      },
      "execution_count": 103,
      "outputs": [
        {
          "output_type": "execute_result",
          "data": {
            "text/plain": [
              "'Z'"
            ],
            "application/vnd.google.colaboratory.intrinsic+json": {
              "type": "string"
            }
          },
          "metadata": {},
          "execution_count": 103
        }
      ]
    },
    {
      "cell_type": "code",
      "source": [
        "name[-2]"
      ],
      "metadata": {
        "colab": {
          "base_uri": "https://localhost:8080/",
          "height": 35
        },
        "id": "zXsyYrHT2Tdn",
        "outputId": "c32d5bb2-6e09-4791-f428-8c0bfebef507"
      },
      "execution_count": 104,
      "outputs": [
        {
          "output_type": "execute_result",
          "data": {
            "text/plain": [
              "'i'"
            ],
            "application/vnd.google.colaboratory.intrinsic+json": {
              "type": "string"
            }
          },
          "metadata": {},
          "execution_count": 104
        }
      ]
    },
    {
      "cell_type": "code",
      "source": [
        "name[0:4]"
      ],
      "metadata": {
        "colab": {
          "base_uri": "https://localhost:8080/",
          "height": 35
        },
        "id": "F3Pe9G5s2Uop",
        "outputId": "24ce84fb-adf8-4ffc-d2e5-ebaba37bed05"
      },
      "execution_count": 105,
      "outputs": [
        {
          "output_type": "execute_result",
          "data": {
            "text/plain": [
              "'Zoph'"
            ],
            "application/vnd.google.colaboratory.intrinsic+json": {
              "type": "string"
            }
          },
          "metadata": {},
          "execution_count": 105
        }
      ]
    },
    {
      "cell_type": "code",
      "source": [
        "'Zo' in name"
      ],
      "metadata": {
        "colab": {
          "base_uri": "https://localhost:8080/"
        },
        "id": "oqie3G672WJ3",
        "outputId": "b3b04cea-e8ae-42df-e1e2-d9837186fa0a"
      },
      "execution_count": 107,
      "outputs": [
        {
          "output_type": "execute_result",
          "data": {
            "text/plain": [
              "True"
            ]
          },
          "metadata": {},
          "execution_count": 107
        }
      ]
    },
    {
      "cell_type": "code",
      "source": [
        "'z' in name"
      ],
      "metadata": {
        "colab": {
          "base_uri": "https://localhost:8080/"
        },
        "id": "NZ-MzvHf2XQn",
        "outputId": "8a1d771d-cfe6-496d-8896-00a3b4242b6c"
      },
      "execution_count": 108,
      "outputs": [
        {
          "output_type": "execute_result",
          "data": {
            "text/plain": [
              "False"
            ]
          },
          "metadata": {},
          "execution_count": 108
        }
      ]
    },
    {
      "cell_type": "code",
      "source": [
        "'p' not in name"
      ],
      "metadata": {
        "colab": {
          "base_uri": "https://localhost:8080/"
        },
        "id": "w6LAJi2p2bRq",
        "outputId": "017a4944-86c4-4201-df73-9eb62db33ea7"
      },
      "execution_count": 109,
      "outputs": [
        {
          "output_type": "execute_result",
          "data": {
            "text/plain": [
              "False"
            ]
          },
          "metadata": {},
          "execution_count": 109
        }
      ]
    },
    {
      "cell_type": "code",
      "source": [
        "for i in name:\n",
        "  print('* * * ' + i + ' * * *')"
      ],
      "metadata": {
        "colab": {
          "base_uri": "https://localhost:8080/"
        },
        "id": "iWeW0amH2eA9",
        "outputId": "6448338b-8ba2-4422-9ea7-ef2030dc9da0"
      },
      "execution_count": 110,
      "outputs": [
        {
          "output_type": "stream",
          "name": "stdout",
          "text": [
            "* * * Z * * *\n",
            "* * * o * * *\n",
            "* * * p * * *\n",
            "* * * h * * *\n",
            "* * * i * * *\n",
            "* * * e * * *\n"
          ]
        }
      ]
    },
    {
      "cell_type": "markdown",
      "source": [
        "##Mutable and Immutable Data Types"
      ],
      "metadata": {
        "id": "lBbKqnrT20nz"
      }
    },
    {
      "cell_type": "code",
      "source": [
        "name = 'Zophie a cat'\n",
        "name[7] = 'the'"
      ],
      "metadata": {
        "colab": {
          "base_uri": "https://localhost:8080/",
          "height": 162
        },
        "id": "TtexajCK2pgQ",
        "outputId": "e21188e6-8732-49fc-8f1e-2194c861eb47"
      },
      "execution_count": 111,
      "outputs": [
        {
          "output_type": "error",
          "ename": "TypeError",
          "evalue": "'str' object does not support item assignment",
          "traceback": [
            "\u001b[0;31m---------------------------------------------------------------------------\u001b[0m",
            "\u001b[0;31mTypeError\u001b[0m                                 Traceback (most recent call last)",
            "\u001b[0;32m<ipython-input-111-089de5a94ffe>\u001b[0m in \u001b[0;36m<cell line: 0>\u001b[0;34m()\u001b[0m\n\u001b[1;32m      1\u001b[0m \u001b[0mname\u001b[0m \u001b[0;34m=\u001b[0m \u001b[0;34m'Zophie a cat'\u001b[0m\u001b[0;34m\u001b[0m\u001b[0;34m\u001b[0m\u001b[0m\n\u001b[0;32m----> 2\u001b[0;31m \u001b[0mname\u001b[0m\u001b[0;34m[\u001b[0m\u001b[0;36m7\u001b[0m\u001b[0;34m]\u001b[0m \u001b[0;34m=\u001b[0m \u001b[0;34m'the'\u001b[0m\u001b[0;34m\u001b[0m\u001b[0;34m\u001b[0m\u001b[0m\n\u001b[0m",
            "\u001b[0;31mTypeError\u001b[0m: 'str' object does not support item assignment"
          ]
        }
      ]
    },
    {
      "cell_type": "code",
      "source": [
        "name= 'Zophie a cat'\n",
        "newName = name[0:7] + 'the' + name[8:12]\n",
        "name"
      ],
      "metadata": {
        "colab": {
          "base_uri": "https://localhost:8080/",
          "height": 35
        },
        "id": "mysCybIm3iGq",
        "outputId": "aa935ead-a423-4092-bb4d-00b327569b43"
      },
      "execution_count": 112,
      "outputs": [
        {
          "output_type": "execute_result",
          "data": {
            "text/plain": [
              "'Zophie a cat'"
            ],
            "application/vnd.google.colaboratory.intrinsic+json": {
              "type": "string"
            }
          },
          "metadata": {},
          "execution_count": 112
        }
      ]
    },
    {
      "cell_type": "code",
      "source": [
        "newName"
      ],
      "metadata": {
        "colab": {
          "base_uri": "https://localhost:8080/",
          "height": 35
        },
        "id": "vLY_r6Rk6oYC",
        "outputId": "97a787c9-9e43-4dae-a701-09d563a8da88"
      },
      "execution_count": 113,
      "outputs": [
        {
          "output_type": "execute_result",
          "data": {
            "text/plain": [
              "'Zophie the cat'"
            ],
            "application/vnd.google.colaboratory.intrinsic+json": {
              "type": "string"
            }
          },
          "metadata": {},
          "execution_count": 113
        }
      ]
    },
    {
      "cell_type": "code",
      "source": [
        "eggs = [1, 2, 3]\n",
        "eggs = [4, 5, 6]\n",
        "eggs"
      ],
      "metadata": {
        "colab": {
          "base_uri": "https://localhost:8080/"
        },
        "id": "n26aM5_26pLw",
        "outputId": "535c5a72-3fe9-4216-fef2-f73c872d2222"
      },
      "execution_count": 114,
      "outputs": [
        {
          "output_type": "execute_result",
          "data": {
            "text/plain": [
              "[4, 5, 6]"
            ]
          },
          "metadata": {},
          "execution_count": 114
        }
      ]
    },
    {
      "cell_type": "code",
      "source": [
        "eggs = [1, 2, 3]\n",
        "del eggs[2]\n",
        "del eggs[1]\n",
        "del eggs[0]\n",
        "eggs.append(4)\n",
        "eggs.append(5)\n",
        "eggs.append(6)\n",
        "eggs"
      ],
      "metadata": {
        "colab": {
          "base_uri": "https://localhost:8080/"
        },
        "id": "3r62kcUz660s",
        "outputId": "71187edb-0bf7-442f-e7cf-006f2b42068a"
      },
      "execution_count": 115,
      "outputs": [
        {
          "output_type": "execute_result",
          "data": {
            "text/plain": [
              "[4, 5, 6]"
            ]
          },
          "metadata": {},
          "execution_count": 115
        }
      ]
    },
    {
      "cell_type": "markdown",
      "source": [
        "##The Tuple Data Type"
      ],
      "metadata": {
        "id": "olSzpf_C7RV7"
      }
    },
    {
      "cell_type": "code",
      "source": [
        "eggs = ('hello', 42, 0.5)\n",
        "eggs[0]"
      ],
      "metadata": {
        "colab": {
          "base_uri": "https://localhost:8080/",
          "height": 35
        },
        "id": "QvhbF_Wt7Nq2",
        "outputId": "1423c954-bac9-46ac-a4b7-2d1709850a6b"
      },
      "execution_count": 116,
      "outputs": [
        {
          "output_type": "execute_result",
          "data": {
            "text/plain": [
              "'hello'"
            ],
            "application/vnd.google.colaboratory.intrinsic+json": {
              "type": "string"
            }
          },
          "metadata": {},
          "execution_count": 116
        }
      ]
    },
    {
      "cell_type": "code",
      "source": [
        "eggs[1:3]"
      ],
      "metadata": {
        "colab": {
          "base_uri": "https://localhost:8080/"
        },
        "id": "uHmiBsdo7eEC",
        "outputId": "d3493ecb-7ccd-46e2-a868-6b5e42e34f3b"
      },
      "execution_count": 117,
      "outputs": [
        {
          "output_type": "execute_result",
          "data": {
            "text/plain": [
              "(42, 0.5)"
            ]
          },
          "metadata": {},
          "execution_count": 117
        }
      ]
    },
    {
      "cell_type": "code",
      "source": [
        "len(eggs)"
      ],
      "metadata": {
        "colab": {
          "base_uri": "https://localhost:8080/"
        },
        "id": "dCe0ctfQ7fdo",
        "outputId": "e2d2ad55-aa10-4aa3-aebe-b4655868a99c"
      },
      "execution_count": 118,
      "outputs": [
        {
          "output_type": "execute_result",
          "data": {
            "text/plain": [
              "3"
            ]
          },
          "metadata": {},
          "execution_count": 118
        }
      ]
    },
    {
      "cell_type": "code",
      "source": [
        "type(('hello',))"
      ],
      "metadata": {
        "colab": {
          "base_uri": "https://localhost:8080/"
        },
        "id": "T7YKBGlV7gcr",
        "outputId": "c46cfb99-9df6-45ff-c28a-12b6ba90c339"
      },
      "execution_count": 120,
      "outputs": [
        {
          "output_type": "execute_result",
          "data": {
            "text/plain": [
              "tuple"
            ]
          },
          "metadata": {},
          "execution_count": 120
        }
      ]
    },
    {
      "cell_type": "code",
      "source": [
        "type(('hello'))"
      ],
      "metadata": {
        "colab": {
          "base_uri": "https://localhost:8080/"
        },
        "id": "p88m0JtF7o_m",
        "outputId": "2b8a9f86-14ca-4bae-a9e2-e72fd3f77d61"
      },
      "execution_count": 121,
      "outputs": [
        {
          "output_type": "execute_result",
          "data": {
            "text/plain": [
              "str"
            ]
          },
          "metadata": {},
          "execution_count": 121
        }
      ]
    },
    {
      "cell_type": "markdown",
      "source": [
        "##Converting Types with the list() and tuple() Functions"
      ],
      "metadata": {
        "id": "-zuzYXht74Du"
      }
    },
    {
      "cell_type": "code",
      "source": [
        "tuple(['cat', 'dog', 5])"
      ],
      "metadata": {
        "colab": {
          "base_uri": "https://localhost:8080/"
        },
        "id": "7WaZ-UP27yrS",
        "outputId": "99051bc4-8242-4f40-9507-6f519c5b04fa"
      },
      "execution_count": 122,
      "outputs": [
        {
          "output_type": "execute_result",
          "data": {
            "text/plain": [
              "('cat', 'dog', 5)"
            ]
          },
          "metadata": {},
          "execution_count": 122
        }
      ]
    },
    {
      "cell_type": "code",
      "source": [
        "list(('cat', 'dog', 5))"
      ],
      "metadata": {
        "colab": {
          "base_uri": "https://localhost:8080/"
        },
        "id": "FCkMTf8887pN",
        "outputId": "e08bcf81-2528-42c2-d3a3-27cde5bbd00b"
      },
      "execution_count": 123,
      "outputs": [
        {
          "output_type": "execute_result",
          "data": {
            "text/plain": [
              "['cat', 'dog', 5]"
            ]
          },
          "metadata": {},
          "execution_count": 123
        }
      ]
    },
    {
      "cell_type": "code",
      "source": [
        "list('hello')"
      ],
      "metadata": {
        "colab": {
          "base_uri": "https://localhost:8080/"
        },
        "id": "R6uFxhF38_ij",
        "outputId": "65abd2f3-2469-4b62-a0d7-4da16064c7aa"
      },
      "execution_count": 124,
      "outputs": [
        {
          "output_type": "execute_result",
          "data": {
            "text/plain": [
              "['h', 'e', 'l', 'l', 'o']"
            ]
          },
          "metadata": {},
          "execution_count": 124
        }
      ]
    },
    {
      "cell_type": "markdown",
      "source": [
        "#References"
      ],
      "metadata": {
        "id": "esunOxnG9Z39"
      }
    },
    {
      "cell_type": "code",
      "source": [
        "spam = 42"
      ],
      "metadata": {
        "id": "-IjhOJMQ9B8b"
      },
      "execution_count": 125,
      "outputs": []
    },
    {
      "cell_type": "code",
      "source": [
        "cheese = spam"
      ],
      "metadata": {
        "id": "HoJCcr7rAJsP"
      },
      "execution_count": 126,
      "outputs": []
    },
    {
      "cell_type": "code",
      "source": [
        "spam = 100"
      ],
      "metadata": {
        "id": "8Nd0FKR4AK44"
      },
      "execution_count": 127,
      "outputs": []
    },
    {
      "cell_type": "code",
      "source": [
        "spam"
      ],
      "metadata": {
        "colab": {
          "base_uri": "https://localhost:8080/"
        },
        "id": "pL5OGpTrALnn",
        "outputId": "2a9fdca4-a740-4f72-a15b-33235a21e50c"
      },
      "execution_count": 128,
      "outputs": [
        {
          "output_type": "execute_result",
          "data": {
            "text/plain": [
              "100"
            ]
          },
          "metadata": {},
          "execution_count": 128
        }
      ]
    },
    {
      "cell_type": "code",
      "source": [
        "cheese"
      ],
      "metadata": {
        "colab": {
          "base_uri": "https://localhost:8080/"
        },
        "id": "MGX3mKL0AMif",
        "outputId": "ced14dea-87a2-4acf-fea0-2967ae58d4fd"
      },
      "execution_count": 129,
      "outputs": [
        {
          "output_type": "execute_result",
          "data": {
            "text/plain": [
              "42"
            ]
          },
          "metadata": {},
          "execution_count": 129
        }
      ]
    },
    {
      "cell_type": "code",
      "source": [
        "spam = [0,1,2,3,4,5]\n",
        "cheese = spam # menyalin referensi, bukan salinan listnya\n",
        "cheese[1] = 'Hello!' # mengubah list yg direferensikan cheese\n",
        "spam"
      ],
      "metadata": {
        "colab": {
          "base_uri": "https://localhost:8080/"
        },
        "id": "r27P0Ox9AN3q",
        "outputId": "24cc90fd-3af2-44d7-fcaa-7e6f3daa062f"
      },
      "execution_count": 130,
      "outputs": [
        {
          "output_type": "execute_result",
          "data": {
            "text/plain": [
              "[0, 'Hello!', 2, 3, 4, 5]"
            ]
          },
          "metadata": {},
          "execution_count": 130
        }
      ]
    },
    {
      "cell_type": "code",
      "source": [
        "cheese"
      ],
      "metadata": {
        "colab": {
          "base_uri": "https://localhost:8080/"
        },
        "id": "MNiyjLGOAc8K",
        "outputId": "c7e3dd3a-4155-4ef6-b68d-81cd0cb6f914"
      },
      "execution_count": 131,
      "outputs": [
        {
          "output_type": "execute_result",
          "data": {
            "text/plain": [
              "[0, 'Hello!', 2, 3, 4, 5]"
            ]
          },
          "metadata": {},
          "execution_count": 131
        }
      ]
    },
    {
      "cell_type": "markdown",
      "source": [
        "##Identity and the id() Function"
      ],
      "metadata": {
        "id": "JxvNqFapAlgY"
      }
    },
    {
      "cell_type": "code",
      "source": [
        "id('Howdy') #hasil id() akan berbeda di setiap koputer"
      ],
      "metadata": {
        "colab": {
          "base_uri": "https://localhost:8080/"
        },
        "id": "JDo7I1whAd2S",
        "outputId": "b9aaa184-dc1c-4638-f567-e51986973713"
      },
      "execution_count": 132,
      "outputs": [
        {
          "output_type": "execute_result",
          "data": {
            "text/plain": [
              "139069766048816"
            ]
          },
          "metadata": {},
          "execution_count": 132
        }
      ]
    },
    {
      "cell_type": "code",
      "source": [
        "bacon = 'Hello'\n",
        "id(bacon)"
      ],
      "metadata": {
        "colab": {
          "base_uri": "https://localhost:8080/"
        },
        "id": "oC9LWqHNA5gM",
        "outputId": "ef16d38b-9692-4c9e-b9f3-531c9db69e70"
      },
      "execution_count": 133,
      "outputs": [
        {
          "output_type": "execute_result",
          "data": {
            "text/plain": [
              "139069767602736"
            ]
          },
          "metadata": {},
          "execution_count": 133
        }
      ]
    },
    {
      "cell_type": "code",
      "source": [
        "bacon += ' world!' #membuat string baru, bukan mengubah yang lama\n",
        "id(bacon) #sekarang bacon mengarah ke string baru"
      ],
      "metadata": {
        "colab": {
          "base_uri": "https://localhost:8080/"
        },
        "id": "cNktbYb3A9dv",
        "outputId": "8653a2fe-20b9-47dc-ff08-5284bb00ced1"
      },
      "execution_count": 134,
      "outputs": [
        {
          "output_type": "execute_result",
          "data": {
            "text/plain": [
              "139069767602160"
            ]
          },
          "metadata": {},
          "execution_count": 134
        }
      ]
    },
    {
      "cell_type": "code",
      "source": [
        "eggs = ['cat', 'dog']\n",
        "id(eggs)"
      ],
      "metadata": {
        "colab": {
          "base_uri": "https://localhost:8080/"
        },
        "id": "Zo3wfVTyBGyg",
        "outputId": "bfdab623-1960-46a4-836e-024de58cde51"
      },
      "execution_count": 135,
      "outputs": [
        {
          "output_type": "execute_result",
          "data": {
            "text/plain": [
              "139069767291648"
            ]
          },
          "metadata": {},
          "execution_count": 135
        }
      ]
    },
    {
      "cell_type": "code",
      "source": [
        "eggs.append('moose') #mengubah list secara langsung\n",
        "id(eggs)"
      ],
      "metadata": {
        "colab": {
          "base_uri": "https://localhost:8080/"
        },
        "id": "Lo668EPTBPxR",
        "outputId": "147df156-ff5c-4d4a-ef58-47f4452876c7"
      },
      "execution_count": 137,
      "outputs": [
        {
          "output_type": "execute_result",
          "data": {
            "text/plain": [
              "139069767291648"
            ]
          },
          "metadata": {},
          "execution_count": 137
        }
      ]
    },
    {
      "cell_type": "code",
      "source": [
        "eggs = ['bat','rat','cow'] #membuat list baru\n",
        "id(eggs) #eggs sekarang menunjuk ke list yg berbeda"
      ],
      "metadata": {
        "colab": {
          "base_uri": "https://localhost:8080/"
        },
        "id": "ftRTpJ-IBRWp",
        "outputId": "35c0713a-f499-4dee-fed4-b3c0db87a370"
      },
      "execution_count": 138,
      "outputs": [
        {
          "output_type": "execute_result",
          "data": {
            "text/plain": [
              "139069768974656"
            ]
          },
          "metadata": {},
          "execution_count": 138
        }
      ]
    },
    {
      "cell_type": "markdown",
      "source": [
        "##Passing References"
      ],
      "metadata": {
        "id": "SAMcB2uIBrax"
      }
    },
    {
      "cell_type": "code",
      "source": [
        "def eggs(someParameter):\n",
        "  someParameter.append('Hello')\n",
        "\n",
        "spam = [1,2,3]\n",
        "eggs(spam)\n",
        "print(spam)"
      ],
      "metadata": {
        "colab": {
          "base_uri": "https://localhost:8080/"
        },
        "id": "o4PcCOcVBmRU",
        "outputId": "d720a58f-65fb-4cad-ac35-063b67c4f89e"
      },
      "execution_count": 139,
      "outputs": [
        {
          "output_type": "stream",
          "name": "stdout",
          "text": [
            "[1, 2, 3, 'Hello']\n"
          ]
        }
      ]
    },
    {
      "cell_type": "markdown",
      "source": [
        "##The copy Module’s copy() and deepcopy() Functions"
      ],
      "metadata": {
        "id": "LTZ6MfVFCLAl"
      }
    },
    {
      "cell_type": "code",
      "source": [
        "import copy\n",
        "\n",
        "spam = ['A', 'B', 'C', 'D']\n",
        "id(spam)  # Menampilkan ID referensi dari spam\n",
        "\n",
        "cheese = copy.copy(spam)  # Membuat salinan dangkal dari spam\n",
        "id(cheese)  # ID referensi dari cheese akan berbeda, karena ini list baru\n",
        "\n",
        "cheese[1] = 42  # Memodifikasi cheese\n",
        "\n",
        "print(spam)  # spam tetap tidak berubah\n",
        "print(cheese)  # cheese berubah"
      ],
      "metadata": {
        "colab": {
          "base_uri": "https://localhost:8080/"
        },
        "id": "ZTAI9oeCCBgo",
        "outputId": "1cbff086-c337-4df4-a551-1ba172e9e185"
      },
      "execution_count": 140,
      "outputs": [
        {
          "output_type": "stream",
          "name": "stdout",
          "text": [
            "['A', 'B', 'C', 'D']\n",
            "['A', 42, 'C', 'D']\n"
          ]
        }
      ]
    },
    {
      "cell_type": "code",
      "source": [
        "import copy\n",
        "\n",
        "spam = [['A', 'B'], ['C', 'D']]\n",
        "cheese = copy.deepcopy(spam)\n",
        "\n",
        "cheese[0][1] = 42  # Memodifikasi elemen dalam list dalam list cheese\n",
        "\n",
        "print(spam)  # spam tidak terpengaruh\n",
        "print(cheese)  # cheese berubah"
      ],
      "metadata": {
        "colab": {
          "base_uri": "https://localhost:8080/"
        },
        "id": "UYlRBsElCvkF",
        "outputId": "3b64c3ed-2762-46f7-e3af-d63cbdd6470a"
      },
      "execution_count": 144,
      "outputs": [
        {
          "output_type": "stream",
          "name": "stdout",
          "text": [
            "[['A', 'B'], ['C', 'D']]\n",
            "[['A', 42], ['C', 'D']]\n"
          ]
        }
      ]
    },
    {
      "cell_type": "markdown",
      "source": [
        "#A Short Program: Conway’s Game of Life"
      ],
      "metadata": {
        "id": "DAtFX0zxDeKG"
      }
    },
    {
      "cell_type": "code",
      "source": [
        "# Conway's Game of Life\n",
        "import random, time, copy\n",
        "WIDTH = 60\n",
        "HEIGHT = 20\n",
        "\n",
        "# Create a list of list for the cells:\n",
        "nextCells = []\n",
        "for x in range(WIDTH):\n",
        "    column = [] # Create a new column.\n",
        "    for y in range(HEIGHT):\n",
        "        if random.randint(0, 1) == 0:\n",
        "            column.append('#') # Add a living cell.\n",
        "        else:\n",
        "            column.append(' ') # Add a dead cell.\n",
        "    nextCells.append(column) # nextCells is a list of column lists.\n",
        "\n",
        "while True: # Main program loop.\n",
        "    print('\\n\\n\\n\\n\\n') # Separate each step with newlines.\n",
        "    currentCells = copy.deepcopy(nextCells)\n",
        "\n",
        "    # Print currentCells on the screen:\n",
        "    for y in range(HEIGHT):\n",
        "        for x in range(WIDTH):\n",
        "            print(currentCells[x][y], end='') # Print the # or space.\n",
        "        print() # Print a newline at the end of the row.\n",
        "\n",
        "    # Calculate the next step's cells based on current step's cells:\n",
        "    for x in range(WIDTH):\n",
        "        for y in range(HEIGHT):\n",
        "            # Get neighboring coordinates:\n",
        "            # `% WIDTH` ensures leftCoord is always between 0 and WIDTH - 1\n",
        "            leftCoord  = (x - 1) % WIDTH\n",
        "            rightCoord = (x + 1) % WIDTH\n",
        "            aboveCoord = (y - 1) % HEIGHT\n",
        "            belowCoord = (y + 1) % HEIGHT\n",
        "\n",
        "            # Count number of living neighbors:\n",
        "            numNeighbors = 0\n",
        "            if currentCells[leftCoord][aboveCoord] == '#':\n",
        "                numNeighbors += 1 # Top-left neighbor is alive.\n",
        "            if currentCells[x][aboveCoord] == '#':\n",
        "                numNeighbors += 1 # Top neighbor is alive.\n",
        "            if currentCells[rightCoord][aboveCoord] == '#':\n",
        "                numNeighbors += 1 # Top-right neighbor is alive.\n",
        "            if currentCells[leftCoord][y] == '#':\n",
        "                numNeighbors += 1 # Left neighbor is alive.\n",
        "            if currentCells[rightCoord][y] == '#':\n",
        "                numNeighbors += 1 # Right neighbor is alive.\n",
        "            if currentCells[leftCoord][belowCoord] == '#':\n",
        "                numNeighbors += 1 # Bottom-left neighbor is alive.\n",
        "            if currentCells[x][belowCoord] == '#':\n",
        "                numNeighbors += 1 # Bottom neighbor is alive.\n",
        "            if currentCells[rightCoord][belowCoord] == '#':\n",
        "                numNeighbors += 1 # Bottom-right neighbor is alive.\n",
        "\n",
        "            # Set cell based on Conway's Game of Life rules:\n",
        "            if currentCells[x][y] == '#' and (numNeighbors == 2 or\n",
        "numNeighbors == 3):\n",
        "                # Living cells with 2 or 3 neighbors stay alive:\n",
        "                nextCells[x][y] = '#'\n",
        "            elif currentCells[x][y] == ' ' and numNeighbors == 3:\n",
        "                # Dead cells with 3 neighbors become alive:\n",
        "                nextCells[x][y] = '#'\n",
        "            else:\n",
        "                # Everything else dies or stays dead:\n",
        "                nextCells[x][y] = ' '\n",
        "    time.sleep(1) # Add a 1-second pause to reduce flickering."
      ],
      "metadata": {
        "colab": {
          "base_uri": "https://localhost:8080/",
          "height": 1000
        },
        "id": "QIV1rjSOC5n2",
        "outputId": "c596abda-74ce-4d02-b334-f00088eae2e7"
      },
      "execution_count": 145,
      "outputs": [
        {
          "output_type": "stream",
          "name": "stdout",
          "text": [
            "\n",
            "\n",
            "\n",
            "\n",
            "\n",
            "\n",
            "#  #  ##  ###  #  # ##     #  #   # ##   # # # ## # #  ### #\n",
            "    # # ##    #### ##  #    ## ##  # #   # ## ### #   ##  ##\n",
            "  ####  #    ### ##        ##     #  # ##  ##  ##    ##  # #\n",
            "#  ## #   # #  ###### ###   #  ####  ### ### #   ##   #  # #\n",
            "    #  ######  # ###  # ##### ##    ##### ###  # ##  ####   \n",
            "# # # # ## # #   ## ##  ###    ### # ##  #   ##  #  ##   ## \n",
            "    #       # #   #  ##  #### #  # # ## # #  # ### #  ###   \n",
            " ###   ### # #  ####  # ## ## #  #        ###  ###  ####   #\n",
            "#   #  ###  #  ###  #  ####  ##   ## # #     # #   # ### ## \n",
            "# ## # #  # #  #  ##   #  # ### ### ##      ## ## #  # # #  \n",
            "     # ### #### ##    #  # ##     ## #  ##     # # ### # # #\n",
            "#  #  ### ## ##  # ### # #  # ## ### #  #####  # #  #### # #\n",
            "#  ##    ### ###  ######     #       #  #  ### #  # ## #####\n",
            "  # ### ######  # ##  ### # # #### ###  ####     ## # ##### \n",
            "  #   ## # #   #  # #### ####   ## # ##  ##    #    # ##  # \n",
            "  ###    ##  #  ##  ##  ## # # ###   ##   ####### #    #### \n",
            " # ######## ### ## ## #     ### # ##  #   ##  ###    ### ###\n",
            " #     #  # #  #  ###    ## ## #   ## ######### ## ## ## # #\n",
            "## ########### ##  ## #      #    ##   ###   #  ###  ##  ## \n",
            "##  # ### ####  # #####     #  #  ## ## ###  ##    #   #    \n",
            "\n",
            "\n",
            "\n",
            "\n",
            "\n",
            "\n",
            " # ##                      #  # ###        #    # #      #  \n",
            "  #   # #####       ##       ### ### #   #         #        \n",
            "  #   # #    #       ## #  #  #   ## # #          #  #  ##  \n",
            "# #   #   # #       ### #     ######         ###  #      # #\n",
            "##  # #      ###      #     ###    #               ##  ##   \n",
            "    #        ## #   #            # #         #     ##    #  \n",
            "#   ##     #  # #     #     # #  #   ###  #  #     #    ####\n",
            "#####  # ### ##    ## #       ## # # # # #####   # #     ###\n",
            "#   #       ####    # #         #  # ##      #    ##     ## \n",
            "## # #    #       ##  ##      ##     #  #   ## # ##    # #  \n",
            " ### #          ##   ### #           ## #    # # # #   # # #\n",
            "   # ##          #     #  ### #  # # ###     # # #          \n",
            "###            ##        # ##        ###     ##   #         \n",
            " ## # #      #  #         # # ## # #   ##     # ### #       \n",
            " ##   ##     ###  #                #   ##    # #  #        #\n",
            " #           #          ##         #   #    ##   #          \n",
            " #   ###    # #         #         ##    #         ####     #\n",
            " #                         #   # #  ###            ##       \n",
            "   ##          ##     #    # #                  #    #   ## \n",
            "                # #   #     ###  #   ##      #     ### #    \n",
            "\n",
            "\n",
            "\n",
            "\n",
            "\n",
            "\n",
            "  ##     ###         #             ####           #         \n",
            " ##  #  #####       ###     ##        #          ###    ##  \n",
            "  ## ## #    #                        #       #   ##    ### \n",
            "# ##  #     #       #       #   ##            #   # #  # ###\n",
            "## #        #  #    # ##     ##    ##        #    # #   ####\n",
            " # ##       #   #    #      # #     # #           #    #    \n",
            "  #  #     #       ##        ### #   # ####  ##    #    #   \n",
            "  #       ##       ## ##     ### #     ##### ##    ##       \n",
            "     #   #  #  #  # # #         # #  # ####     #  #        \n",
            "   # #       ########   #      #            ##   #       #  \n",
            " # # #          ##   #    ## ###        #    # # #        # \n",
            "   # ##        # #     # #  ##          #   ## # #          \n",
            "#   # #        ###       #    ###    #       #    ##        \n",
            "     ###     #  ##        # ##    # #           # #         \n",
            "   # ###    ## #         #         ## #     ## #  ##        \n",
            " #   #      #  #        ##         ##  #    ###  #  #       \n",
            " ##   #      #          ##        ## ###          #  #      \n",
            "# # ###        #            #     ####            #       # \n",
            "               ###         # #  #   #                ##     \n",
            "  #            ###         #  #####              # #### ### \n",
            "\n",
            "\n",
            "\n",
            "\n",
            "\n",
            "\n",
            "   #    #   #   #   ###     ###########              # #  # \n",
            " #   ####   #       ###             # ##         #      # # \n",
            "#    ## # #  #      #       ##                      #  #    \n",
            "     ###    ##       #       #               ##  ## #  #    \n",
            "           ###      # #     # ##   ###           ##    #    \n",
            " # ##      ##      # ##     #      ## ####   ##   #    #  ##\n",
            " ## #     ###      #  #     #        #     ####   ###       \n",
            "          ###     #   ##     #   ##        #####  ###       \n",
            "    #     #### #      #         ##    ##      #   ###       \n",
            "  #  ##      ##     #          ##      #    ###  ##         \n",
            "   # #             ##   #### # #                 ##         \n",
            "  ##  #        #  #     ## ##   #           ##   #          \n",
            "    #         ##  #     ####  ##            ### # ##        \n",
            "            ##   #       ##  ###    #       ###             \n",
            "       #    ## #        ###       #         #  ## ##        \n",
            " #  ## #    #             #            #    # #  #  #       \n",
            "# ### #       #         ##             #     #   ###        \n",
            "  ## ##       ##            #    ##                  ##     \n",
            " # # #        #  #         # ## #   ##            ##  ##  ##\n",
            "  ##      #    # #          # #####               ### ## #  \n",
            "\n",
            "\n",
            "\n",
            "\n",
            "\n",
            "\n",
            "   ## # ## #    #   # #     #       # ##          #### #  # \n",
            "    ##  #  ###     #  #        #### # ##              #### #\n",
            "    #   ## # #      # #     ##                   ###   ##   \n",
            "     # #      #     ##              #            ##   ###   \n",
            "    ###             # #     # #    # ####             ###   \n",
            "## ##              #  ##   ##      #  ###     #             \n",
            "### #        #    ###       ##    ####### ##     #  #       \n",
            "   #     #           ###        ###   #    #   # #   #      \n",
            "     #    #          ###       #  #   ##   #        #       \n",
            "   # ##    # ##    ###   ##   ## #    ##     ##             \n",
            "   # #        #    ##   #  #  ##              # #           \n",
            "  ## #        ##  #    #     #  #           # # #  #        \n",
            "   #         ######             #          #   # ##         \n",
            "            #  ##            # #           #    #           \n",
            "      #    #  #         #  #  #            ##  #####        \n",
            " ## ## #    # #           #                 # ##    #       \n",
            "       #     ###         #                   #   #####      \n",
            "#     #      ###            ##   #               #  ####   #\n",
            " #   ##       #            #  #    #              #     # # \n",
            "   #           # #   #     #          #           # #    # #\n",
            "\n",
            "\n",
            "\n",
            "\n",
            "\n",
            "\n",
            "   #   #####    #   # #         ## #              # ## #   #\n",
            "           # #     ## ##    ##  ## #  ##         #   #   ## \n",
            "    # ###### ##    ## #         ## # #           # #        \n",
            "       ##          ## #     #       ####         # #     #  \n",
            "   #  #            ## ##   ###     # #  #             # #   \n",
            "#                 #   ##   #                           #    \n",
            "#   #             ###      ###      #   ####    #           \n",
            " ####              #   #        #   #   #  ##   #   ##      \n",
            "     ##   #            ##     ##  #  #      # #             \n",
            "     ##      ##    #   ####           ##     ###            \n",
            "   # #            #  #  ###  #                #             \n",
            "  ##              #           # #            ## # #         \n",
            "  ###        #    #           ###          ##  # ##         \n",
            "            #                 ##          ##       #        \n",
            "     ##    ## #               #            ####  ###        \n",
            "     # #    #            ##                ## ##     #      \n",
            "##   # #    #                                ## ###         \n",
            "#    ###                    ##                   #    ##   #\n",
            "     ##      #  #          # #                   ## # ##### \n",
            "  ##  ##       ##    #     ##        ###         ## ##  ## #\n",
            "\n",
            "\n",
            "\n",
            "\n",
            "\n",
            "\n",
            "  ##  #######  ##  ## ##   # #  ##  ##            #        #\n",
            "      #      ##       ##       #   #  #          # # ##   # \n",
            "      #  ### ##   #   #     ##  ## #            ##  #    ## \n",
            "     #    #       #   #    ###    ##   #                    \n",
            "       #          # #      # #       # #               ##   \n",
            "                  #   ##  #         #   # #            #    \n",
            "# # #             # # ##   ##           #####               \n",
            " ####             ###  ##   ####   ###  #   ## #            \n",
            "  ##  #               #        #     ###   ## #             \n",
            "                      #   #   #       #        #            \n",
            "  ## ##           ##   #  #                                 \n",
            "                 ###     #   ## #           ### # #         \n",
            "  # #                        #  #         ##########        \n",
            "   ###     ##                #  #         #   # #  #        \n",
            "     ##    ##                 ##              ##  ###       \n",
            "    ## #    #                              #       #        \n",
            "##  ## ##                                   ### ###   #    #\n",
            "##  #  #                    ##                     # ##  ###\n",
            "#   #          ##          # #        #         #   #       \n",
            "  ####   ##    ###   #     ##         #                    #\n",
            "\n",
            "\n",
            "\n",
            "\n",
            "\n",
            "\n",
            "  #   ###  ###   #  #  #   #    #   ###           #       ##\n",
            "     ##            #         ###   # #          ## ###   ###\n",
            "     ##  ######      ##    # ## ## ##           ### ##   ## \n",
            "      #  ###     ##  #     #  #  #### #                 ##  \n",
            "                 ##  ###  ## #     ## ###              ##   \n",
            "                 ##   ##  #            ## #            ##   \n",
            "  # #            ## #      ## #    # # ## # ##              \n",
            "    ##            # #   #  #####    ##  #     #             \n",
            " #  #              # ##        #       #   ## ##            \n",
            "    ###               ##             ###                    \n",
            "                 # #     ##  ###             ###            \n",
            "  # ##           # #         ###                # ##        \n",
            "    ##            #         ##  ##        #        #        \n",
            "   #  #    ##                #  #         # #               \n",
            "   #         #                ##              ##  # #       \n",
            "#      ##  ##                               #   #   #       \n",
            " # #   ##                                   ##   ######     \n",
            "   ## ###                   ##               # ## #####   # \n",
            "  #            # #         # #                      ##      \n",
            "###  ###      #  #  ###   ## #        #                    #\n",
            "\n",
            "\n",
            "\n",
            "\n",
            "\n",
            "\n",
            "  #     #   ##    ### #   ## # #    # #          ####    #  \n",
            "        ##    #     ###      #   ###  #         #    #      \n",
            "       # #  ##    # ###         ##              # #  #     #\n",
            "     ##  #   #   ## #  #   #  ####    #          #     #  # \n",
            "          #     #  # # #  ###       # # ##                  \n",
            "                #      #  #  #     # #     #           ##   \n",
            "   ###               # #  #   ##     #     # #              \n",
            "    ##           ## #      #   #    ##  ##    ##            \n",
            "   #  #            ####     ## #    #  ##    ###            \n",
            "    ##            # ####       #      ##    #               \n",
            "   #  #                      # #      #       ##            \n",
            "   ###           # #                          ##  ##        \n",
            "      #           #         #   ##         #      ##        \n",
            "   # #      #               ##  ##         #       #        \n",
            "       #     #                ##           # # #   #        \n",
            "  #    ##   #                               # ###           \n",
            "  ###    #                                  ####      #     \n",
            "   ## # #                   ##              ### #           \n",
            "# # #   #       #    #    ## ##                       #    #\n",
            "# ## #  #   ###  ## ###   ##          #                   ##\n",
            "\n",
            "\n",
            "\n",
            "\n",
            "\n",
            "\n",
            " ###   ##   #    ##    #  ##  #   ##  ##         ####     ##\n",
            "       # #    #   #    #    # #  ### #          #    #      \n",
            "      ## ## ###  ##    #      #                 #     #     \n",
            "      # ### ##   ##    #  ###  # #   # #         #          \n",
            "                # ###  ## # #####   # ##               ##   \n",
            "    #               #  #### ###      ##   # #               \n",
            "   # #           #    #   ##  ##     ##   # # #             \n",
            "      #           #        ### ##   ######  #  #            \n",
            "   #  #          #     #    #  ##   #    #   # #            \n",
            "   ####                #    ## ##    ## #                   \n",
            "   #  #           #####       #       ##     ###            \n",
            "   ####           #             #             ##  ##        \n",
            "   #  #           #         ##  ##                  #       \n",
            "      #                     ###  #        ##       ##       \n",
            "      ###   ##               ####          # # ##           \n",
            "  #    ##                                  #    #           \n",
            "  # ##   #                                 #                \n",
            " #     ###                 ####             #               \n",
            "# #     ##   #   #  ###   #  ##              #            # \n",
            "# # #  ###  # #  ##   #  #   #       #            ##      # \n",
            "\n",
            "\n",
            "\n",
            "\n",
            "\n",
            "\n",
            "####  #            #  ### ### #  # # ##          #  #     ##\n",
            "  #      #### #    #  ###  #  ## # ## #         # ####      \n",
            "      #     # #    #  ###   # ####  # #         ##          \n",
            "      # # # # # #     ## ## #        # #               #    \n",
            "         #        # # #         #   #  #                    \n",
            "    #            ## ###         #   #        #              \n",
            "    ##                 ##       #       # # #               \n",
            "    ###          ##       #  #      #  ######  #            \n",
            "   #  ##                         #  #    #    #             \n",
            "  ##  ##          #### #    ##  #    ## #    # #            \n",
            "  #    #          #####      ## #    ###     # #            \n",
            "  ##  ##         ## ##       # ###           # #   #        \n",
            "   #  ##                    # ####                # #       \n",
            "     ##                          #        ###      ##       \n",
            "      # #                   #  ##          #   ##           \n",
            "   # #   #                    ##          ##   ##           \n",
            " ###  #  #                  ##             ##               \n",
            " ###   #  #          #     ## #             #               \n",
            "# ##      #  #   ##  ##   ##                                \n",
            "#           #   #  #  ## # ###        #          #  #    ## \n",
            "\n",
            "\n",
            "\n",
            "\n",
            "\n",
            "\n",
            "# ##      # ##    ####        ###  #  ##        ##       ## \n",
            "# ##      ###     ####    #      # #  ##        # ####     #\n",
            "       #    # #      #    # # #  #### ##        #####       \n",
            "       # # #   #   #     # # #   #  ## #                    \n",
            "         #        # #               ###                     \n",
            "    ##           ## # #        ###                          \n",
            "   #  #            # ###               ## # ##              \n",
            "   #   #                               #    ##              \n",
            "  ##             #  #       ##      # #    #####            \n",
            "  ##    #         #         ######  #   #    # #            \n",
            " #      #                            # #    ## ##           \n",
            "  ##    #        ##   #     #         #            #        \n",
            "  ###                        ##   #        ##     # #       \n",
            "     #                       ##  #        ###      ##       \n",
            "    # ##                      ###              ##           \n",
            "   #######                  # ###         #    ##           \n",
            " #    # ###                ##  #          # #               \n",
            "#   #    ##          ##   #                ##               \n",
            "#  #       #     ## ## #                                   #\n",
            "                 # ##    #   #       ##                  ## \n",
            "\n",
            "\n",
            "\n",
            "\n",
            "\n",
            "\n",
            "# ##      # ##   #            ### # #           #####    #  \n",
            "# ##      #       #   #    # ##  #      #      #     #    ##\n",
            "        #   ##    #  #   ## ##  ##      #       #    #      \n",
            "          #        ##     ####   #     #         ###        \n",
            "        # #      ## ##           #  # #                     \n",
            "    ##           ## # ##        #    ###                    \n",
            "   # ##           ######        #      ##  ###              \n",
            "   ##               ###               ###                   \n",
            "    #                       #  ##    # #   #   #            \n",
            " # #                        # ###   # ##   #                \n",
            " #     ###       ##         # ###    ###    ## ##           \n",
            " #  #                        #        #    # #     #        \n",
            "  # #                       # #           # #     # #       \n",
            "     ##                         ##        # #      ##       \n",
            "   #                             #        #    ##           \n",
            "   ##     #                ##              #   ##           \n",
            "   #  #                    ######         # #               \n",
            "##      #  #        ###    #               ##              #\n",
            "#         #      ##                                       ##\n",
            "####       ##    #    #       ##     ###                 #  \n",
            "\n",
            "\n",
            "\n",
            "\n",
            "\n",
            "\n",
            "    #     # ##   ##             ##   ###        #####    #  \n",
            "# ##     #       ##       ##      #            #  ## #    ##\n",
            "         # #      # ##   #      ###    ##       ### #      #\n",
            "           #     #       ##  #   ##    #         ##         \n",
            "         #       #    #    ##   ##                #         \n",
            "    ###                #        ##   #  #   #               \n",
            "   #  #          ##                  #      #               \n",
            "   #                   #       ##          #                \n",
            "  # #                #       ## #    #                      \n",
            "  #     #                  ##    #  #   #  #  ###           \n",
            "##      #                   #   #          # ##             \n",
            " ###    #                   #        ###   # ##    #        \n",
            "   ##                        #            # ##    # #       \n",
            "   ###                          ##       ##        ##       \n",
            "   # #                          ##        #    ##           \n",
            "  ###                      #  ###         ##   ##           \n",
            "# ###                #    #  ###          # #               \n",
            " #                   #     # ###           ##             # \n",
            "          # #    ##   #               #                   # \n",
            "   #      # ##  ##            # #    ##          ###     #  \n",
            "\n",
            "\n",
            "\n",
            "\n",
            "\n",
            "\n",
            "  # #    ## ##                 ###   # #        #        # #\n",
            "#  #     # ##             #       #     #      #     #    ##\n",
            "#                 ##     # #    #  #   ##       #   #     ##\n",
            "                 ##  #   ####          ##       #           \n",
            "     #                    ###                    ##         \n",
            "    ###          ##             ##                          \n",
            "   #  #                        # #         ##               \n",
            "  ###                         ###                           \n",
            "  #                         ### ##             #            \n",
            "  ##                       ##  ###          ####            \n",
            "#  #   ###                  ##       ###  ##                \n",
            "## ##                       ##        #   ##       #        \n",
            "     #                                #  ## ###   # #       \n",
            "  #  #                          ##       ##        ##       \n",
            "     #                                         ##           \n",
            " #   #                       #   #       ##    ##           \n",
            "    #                     ##              # #               \n",
            " ###                 ##     ## #           ##              #\n",
            "            ##  ###          #       ##           #      ## \n",
            "         ##     #              ###              #   #    ## \n",
            "\n",
            "\n",
            "\n",
            "\n",
            "\n",
            "\n",
            "#  #    #   ##                 #  #            ##        #  \n",
            " # #     # ###            #    #  #   # #      ##        #  \n",
            "#                ###     #  #            #     ##         # \n",
            "                 ###     #             ##       #          #\n",
            "    ###                  #  #                    #          \n",
            "    # #                    #    ##                          \n",
            "  #   #                       #  #                          \n",
            "  # #                                                       \n",
            " #  #                      ##                # #            \n",
            " ###    #                  #   # #    #    #####            \n",
            "#       #                     # #    ###  #  ##             \n",
            "#####   #                   ##               #     #        \n",
            " ### #                                      ##    # #       \n",
            "    ###                                  ### ###   ##       \n",
            "    ###                         ##             ##           \n",
            "    ##                                   ###   ##           \n",
            "## ##                      # ##          ## #               \n",
            "  ##             #         ####            ##             # \n",
            "  #             ##          ## #                         # #\n",
            "         ##     #             ## #   #           #      #  #\n",
            "\n",
            "\n",
            "\n",
            "\n",
            "\n",
            "\n",
            "# #     #    #                 # ##            # #      ### \n",
            "###        # #    #                           #  #       ###\n",
            "#           #    # #     ##              #       #        ##\n",
            "     #           # #    ###             #      ###         #\n",
            "    # #           #       #                                 \n",
            "   ## ##                        ##                          \n",
            "                                ##                          \n",
            " ##  #                                                      \n",
            " #  #                      ##                # #            \n",
            "####                       ##  ##    ###   #   #            \n",
            "#   #  ###                  #####    ###   #   #            \n",
            "#   #                        #        #            #        \n",
            "#     #                                   ##      # #       \n",
            "  #                                       ## # ##  ##       \n",
            "   #                                        #               \n",
            "      #                                  # #   ##           \n",
            " #   #                     #  #          #  #               \n",
            "#   #           ##         #   #          ###             ##\n",
            "  ##            ##         #   ##                        # #\n",
            "#        #      ##           # #                #       ## #\n",
            "\n",
            "\n",
            "\n",
            "\n",
            "\n",
            "\n",
            "  #         #    #            # #              # #          \n",
            "  #          #    #                              ##     #   \n",
            "            #    # #    # #                    # ##      #  \n",
            "#    #           # #    #  #                    ##        ##\n",
            "   ## ##          #       #                     #           \n",
            "   ## ##                        ##                          \n",
            "  #####                         ##                          \n",
            " ##                                                         \n",
            "    #                      ##         #       #             \n",
            "# ###   #                       #    # #    #  ##           \n",
            "# # #   #                  #    #                          #\n",
            "##   # ##                   ## #     ###  ##       #       #\n",
            " #                                        ###     # #       \n",
            "                                          #        ##       \n",
            "                                            # #             \n",
            "                                          ###               \n",
            "#    #                                   #  #              #\n",
            "#####           ##        ### ###         ###             ##\n",
            " # #           #  #         #  ##          #            ##  \n",
            "# ##            ##             # #              #           \n",
            "\n",
            "\n",
            "\n",
            "\n",
            "\n",
            "\n",
            "  #             ###            ##                ##         \n",
            "            ##   ##                                         \n",
            "                 # #     #                               ###\n",
            "    ###          # #      ##                   #  #       ##\n",
            "   #   #          #                             ##         #\n",
            "                                ##                          \n",
            " #    ##                        ##                          \n",
            " ##                                                         \n",
            "    #                                 #        #            \n",
            "# # ##                     ##         #        #           #\n",
            "  # ##  ##                  #  ##    # #   #                \n",
            "  #    ##                   #         #   # #      #       #\n",
            " #                                    #  #  #     # #       \n",
            "                                          # ##     ##       \n",
            "                                          # ##              \n",
            "                                          # #               \n",
            "  ###                      #   #         #   #            # \n",
            "   ##           ##         #### #         # #            ## \n",
            "               #  #         ##   #        ###            ## \n",
            "   #            ###           #  #              #           \n",
            "\n",
            "\n",
            "\n",
            "\n",
            "\n",
            "\n",
            "                   #           ##                #          \n",
            "                   #                                      # \n",
            "     #          ## #      #                              # #\n",
            "#   ###          # #      #                     ##       #  \n",
            "    ###           #                             ##        ##\n",
            "      ##                        ##                          \n",
            " ##                             ##                          \n",
            " ##                                                         \n",
            "# # ##                                                      \n",
            " #                         ##        ###                    \n",
            "# # ######                  ##       # #   #               #\n",
            " ###   ###                           ###  # #      #        \n",
            "                                         ## #     # #       \n",
            "                                         ##        ##       \n",
            "                                         ##                 \n",
            "   #                                     ## #               \n",
            "  # #                      # ###         ## ##           ## \n",
            "  # #           ##         #  ###        ## ##             #\n",
            "   ##          #  #        #   ###        # #            ## \n",
            "               #   #         ### #         #     #          \n",
            "\n",
            "\n",
            "\n",
            "\n",
            "\n",
            "\n",
            "                  ###          ##                           \n",
            "                   ##                                     # \n",
            "    ###         ## ##                                    # #\n",
            "#               ## #                            ##       #  \n",
            "    #             #                             ##        ##\n",
            "      ##                        ##                          \n",
            " ##                             ##                          \n",
            "#                                                           \n",
            "# ##                                  #                     \n",
            "  #    ##                  ###       # #                   #\n",
            "#   ###  #                 ###      #   #  #                \n",
            "######   #                           # #### #      #        \n",
            "  #     #                             # #         # #       \n",
            "                                        #          ##       \n",
            "                                        #                   \n",
            "   #                          #         #   ##              \n",
            "  # #                       ##  #       #                 # \n",
            "  # ##          ##        ## #   #                         #\n",
            "   ##          # ##         ##   #       ## ##            # \n",
            "                  ##             #         #                \n",
            "\n",
            "\n",
            "\n",
            "\n",
            "\n",
            "\n",
            "                                #                           \n",
            "     #           #   #                                    # \n",
            "     #          ##                                       # #\n",
            "#   #           #  ##                           ##       #  \n",
            "                 ##                             ##        ##\n",
            "                                ##                          \n",
            " #                              ##                          \n",
            "#  #                                                        \n",
            "# ##                        #         #                    #\n",
            "# # #####                  # #       ###                   #\n",
            "#     ## #                 # #      ##    ##               #\n",
            "# #   # ##                  #        ##   ##       #        \n",
            "  # #                                 #           # #       \n",
            "                                        ##         ##       \n",
            "                                       ###                  \n",
            "   #                         #         ###                  \n",
            "  # ##                     ####                             \n",
            "  #  #          ###        #  # ##       #                ##\n",
            "   ###             #       ###  ###       ###               \n",
            "                    #            #        ###               \n",
            "\n",
            "\n",
            "\n",
            "\n",
            "\n",
            "\n",
            "                                           #                \n",
            "                ##                                        # \n",
            "    ##          ### #                                    # #\n",
            "#               #  #                            ##       #  \n",
            "                 ###                            ##        ##\n",
            "                                ##                          \n",
            "                                ##                          \n",
            "#  #                                                       #\n",
            "  #  ###                    #        ###                    \n",
            "  # ##  #                  # #      #  #                  # \n",
            "   #     #                 # #      #  #  ##                \n",
            "#  # ## ##                  #       # #   ##       #       #\n",
            " # #                                 ### ##       # #       \n",
            "                                         #         ##       \n",
            "                                          #                 \n",
            "   ##                        ##        # #                  \n",
            "  # ##           #         #  ##         #                  \n",
            "  #   #          ##       #   # # #       ##                \n",
            "   ###           ###       ### #  #      #  #               \n",
            "    #                       #     #       # #               \n",
            "\n",
            "\n",
            "\n",
            "\n",
            "\n",
            "\n",
            "                                           #                \n",
            "                # #                                       # \n",
            "               #  ##                                     # #\n",
            "#               #   #                           ##       #  \n",
            "                 ###                            ##        ##\n",
            "                  #             ##                          \n",
            "                                ##                          \n",
            "      #                               #                     \n",
            " ##  ###                    #        ###                   #\n",
            "  # ## ##                  # #      #  ##                   \n",
            "  ##  ## #                 # #     ## ##  ##               #\n",
            "#  #    ##                  #       #   #          #        \n",
            "# # #                                ##### #      # #       \n",
            "                                      # ##         ##       \n",
            "                                        ###                 \n",
            "   ###                       ###        ###                 \n",
            "  # ##           ##                     ##                  \n",
            "  #   #         #  #      #     ##       ###                \n",
            "   ###           # #       #####  ##     #  #               \n",
            "   ###            #        ###            # #               \n"
          ]
        },
        {
          "output_type": "error",
          "ename": "KeyboardInterrupt",
          "evalue": "",
          "traceback": [
            "\u001b[0;31m---------------------------------------------------------------------------\u001b[0m",
            "\u001b[0;31mKeyboardInterrupt\u001b[0m                         Traceback (most recent call last)",
            "\u001b[0;32m<ipython-input-145-d058440c18e5>\u001b[0m in \u001b[0;36m<cell line: 0>\u001b[0;34m()\u001b[0m\n\u001b[1;32m     65\u001b[0m                 \u001b[0;31m# Everything else dies or stays dead:\u001b[0m\u001b[0;34m\u001b[0m\u001b[0;34m\u001b[0m\u001b[0m\n\u001b[1;32m     66\u001b[0m                 \u001b[0mnextCells\u001b[0m\u001b[0;34m[\u001b[0m\u001b[0mx\u001b[0m\u001b[0;34m]\u001b[0m\u001b[0;34m[\u001b[0m\u001b[0my\u001b[0m\u001b[0;34m]\u001b[0m \u001b[0;34m=\u001b[0m \u001b[0;34m' '\u001b[0m\u001b[0;34m\u001b[0m\u001b[0;34m\u001b[0m\u001b[0m\n\u001b[0;32m---> 67\u001b[0;31m     \u001b[0mtime\u001b[0m\u001b[0;34m.\u001b[0m\u001b[0msleep\u001b[0m\u001b[0;34m(\u001b[0m\u001b[0;36m1\u001b[0m\u001b[0;34m)\u001b[0m \u001b[0;31m# Add a 1-second pause to reduce flickering.\u001b[0m\u001b[0;34m\u001b[0m\u001b[0;34m\u001b[0m\u001b[0m\n\u001b[0m",
            "\u001b[0;31mKeyboardInterrupt\u001b[0m: "
          ]
        }
      ]
    },
    {
      "cell_type": "markdown",
      "source": [
        "#Practice Questions"
      ],
      "metadata": {
        "id": "WMcCVFWPEYV2"
      }
    },
    {
      "cell_type": "markdown",
      "source": [
        "1. **What is []?**  \n",
        "   It’s an empty list. It’s just a list with no elements inside.\n",
        "\n",
        "2. **How would you assign the value 'hello' as the third value in a list stored in a variable named spam? (Assume spam contains [2, 4, 6, 8, 10].)**  \n",
        "   You would do:  \n",
        "   `spam[2] = 'hello'`  \n",
        "   This will replace the third value (which is 6) with 'hello'. After that, spam will be `[2, 4, 'hello', 8, 10]`.\n",
        "\n",
        "3. **What does spam[int(int('3' * 2) // 11)] evaluate to?**  \n",
        "   Let’s break it down:  \n",
        "   - `'3' * 2` = `'33'`  \n",
        "   - `int('33')` = `33`  \n",
        "   - `33 // 11` = `3`  \n",
        "   - `spam[3]` = `'d'`  \n",
        "   So, the answer is `'d'`.\n",
        "\n",
        "4. **What does spam[-1] evaluate to?**  \n",
        "   `spam[-1]` accesses the last item in the list. Since spam = ['a', 'b', 'c', 'd'], the answer is `'d'`.\n",
        "\n",
        "5. **What does spam[:2] evaluate to?**  \n",
        "   This slices the list to get the first two elements. So, `spam[:2]` evaluates to `['a', 'b']`.\n",
        "\n",
        "6. **What does bacon.index('cat') evaluate to?**  \n",
        "   `bacon.index('cat')` finds the index of the first occurrence of `'cat'` in the list. Since bacon = [3.14, 'cat', 11, 'cat', True], the first `'cat'` is at index 1. So, the answer is `1`.\n",
        "\n",
        "7. **What does bacon.append(99) make the list value in bacon look like?**  \n",
        "   `bacon.append(99)` adds `99` to the end of the list. So, bacon becomes `[3.14, 'cat', 11, 'cat', True, 99]`.\n",
        "\n",
        "8. **What does bacon.remove('cat') make the list value in bacon look like?**  \n",
        "   `bacon.remove('cat')` removes the first occurrence of `'cat'`. So, bacon becomes `[3.14, 11, 'cat', True]` after removing the first `'cat'`.\n",
        "\n",
        "9. **What are the operators for list concatenation and list replication?**  \n",
        "   - List concatenation: `+`  \n",
        "   - List replication: `*`\n",
        "\n",
        "10. **What is the difference between the append() and insert() list methods?**  \n",
        "    - `append()` adds an item to the **end** of the list.  \n",
        "    - `insert()` adds an item at a **specific index** in the list.\n",
        "\n",
        "11. **What are two ways to remove values from a list?**  \n",
        "    - `remove()` (removes the first occurrence of a specific value)  \n",
        "    - `pop()` (removes an item at a specific index)\n",
        "\n",
        "12. **Name a few ways that list values are similar to string values.**  \n",
        "    - Both are **sequences** of elements (strings are sequences of characters, lists are sequences of items).  \n",
        "    - Both support **indexing** and **slicing**.  \n",
        "    - Both are **iterable**.\n",
        "\n",
        "13. **What is the difference between lists and tuples?**  \n",
        "    - Lists are **mutable** (can be changed), while tuples are **immutable** (can’t be changed once created).\n",
        "\n",
        "14. **How do you type the tuple value that has just the integer value 42 in it?**  \n",
        "    You type it as:  \n",
        "    `my_tuple = (42,)`  \n",
        "    The comma is necessary to define it as a tuple.\n",
        "\n",
        "15. **How can you get the tuple form of a list value? How can you get the list form of a tuple value?**  \n",
        "    - To convert a list to a tuple:  \n",
        "      `tuple(my_list)`  \n",
        "    - To convert a tuple to a list:  \n",
        "      `list(my_tuple)`\n",
        "\n",
        "16. **Variables that “contain” list values don’t actually contain lists directly. What do they contain instead?**  \n",
        "    They contain a **reference** to the list, not the list itself.\n",
        "\n",
        "17. **What is the difference between copy.copy() and copy.deepcopy()?**  \n",
        "    - `copy.copy()` creates a **shallow copy**, meaning it copies the list but not the objects inside the list (nested objects will still point to the same memory).  \n",
        "    - `copy.deepcopy()` creates a **deep copy**, meaning it copies the list and all the objects inside it, recursively. So nested objects will also be copied."
      ],
      "metadata": {
        "id": "gyqoVfKAEcnX"
      }
    },
    {
      "cell_type": "markdown",
      "source": [
        "#Practice Projects"
      ],
      "metadata": {
        "id": "QeRgk7cmE4OJ"
      }
    },
    {
      "cell_type": "markdown",
      "source": [
        "##Comma code"
      ],
      "metadata": {
        "id": "Pw4bQnsRFKiy"
      }
    },
    {
      "cell_type": "code",
      "source": [
        "def comma_code(list):\n",
        "    # Cek kalau list kosong\n",
        "    if len(list) == 0:\n",
        "        return ''\n",
        "    # Cek kalau list hanya ada satu item\n",
        "    elif len(list) == 1:\n",
        "        return list[0]\n",
        "    # Cek kalau list ada dua item\n",
        "    elif len(list) == 2:\n",
        "        return ' and '.join(list)\n",
        "    # Kalau lebih dari dua item\n",
        "    else:\n",
        "        return ', '.join(list[:-1]) + ' and ' + list[-1]\n",
        "\n",
        "# Contoh penggunaan\n",
        "spam = ['apples', 'bananas', 'tofu', 'cats']\n",
        "print(comma_code(spam))"
      ],
      "metadata": {
        "colab": {
          "base_uri": "https://localhost:8080/"
        },
        "id": "ywJa00_BD-ut",
        "outputId": "038f6f98-e9b8-46a4-8401-a4bb96caf34e"
      },
      "execution_count": 146,
      "outputs": [
        {
          "output_type": "stream",
          "name": "stdout",
          "text": [
            "apples, bananas, tofu and cats\n"
          ]
        }
      ]
    },
    {
      "cell_type": "markdown",
      "source": [
        "##Coin Flip Streaks"
      ],
      "metadata": {
        "id": "AufibAHPFbVb"
      }
    },
    {
      "cell_type": "code",
      "source": [
        "import random\n",
        "\n",
        "numberOfStreaks = 0\n",
        "\n",
        "# Ulangi eksperimen sebanyak 10,000 kali\n",
        "for experimentNumber in range(10000):\n",
        "    # Buat list yang berisi 100 hasil lemparan koin (H untuk heads, T untuk tails)\n",
        "    flips = [random.choice(['H', 'T']) for _ in range(100)]\n",
        "\n",
        "    # Cek apakah ada streak 6 heads (H) atau 6 tails (T) berturut-turut\n",
        "    for i in range(len(flips) - 5):  # Cek setiap 6 elemen berturut-turut\n",
        "        if flips[i:i+6] == ['H', 'H', 'H', 'H', 'H', 'H'] or flips[i:i+6] == ['T', 'T', 'T', 'T', 'T', 'T']:\n",
        "            numberOfStreaks += 1\n",
        "            break  # Berhenti setelah menemukan satu streak, karena kita hanya butuh menghitung satu streak per eksperimen\n",
        "\n",
        "# Hitung persentase streak yang ditemukan\n",
        "print('Chance of streak: %s%%' % (numberOfStreaks / 100))"
      ],
      "metadata": {
        "colab": {
          "base_uri": "https://localhost:8080/"
        },
        "id": "lNCfQXyPFNap",
        "outputId": "a4fa1c8f-15fe-4341-a83f-3608c2ab9c8f"
      },
      "execution_count": 148,
      "outputs": [
        {
          "output_type": "stream",
          "name": "stdout",
          "text": [
            "Chance of streak: 80.85%\n"
          ]
        }
      ]
    },
    {
      "cell_type": "markdown",
      "source": [
        "##Character Picture Grid"
      ],
      "metadata": {
        "id": "0QSC8M7lGONz"
      }
    },
    {
      "cell_type": "code",
      "source": [
        "# Grid gambar karakter\n",
        "grid = [\n",
        "    ['.', '.', '.', '.', '.', '.'],\n",
        "    ['.', 'O', 'O', '.', '.', '.'],\n",
        "    ['O', 'O', 'O', 'O', '.', '.'],\n",
        "    ['O', 'O', 'O', 'O', 'O', '.'],\n",
        "    ['.', 'O', 'O', 'O', 'O', 'O'],\n",
        "    ['O', 'O', 'O', 'O', 'O', '.'],\n",
        "    ['O', 'O', 'O', 'O', '.', '.'],\n",
        "    ['.', 'O', 'O', '.', '.', '.'],\n",
        "    ['.', '.', '.', '.', '.', '.']\n",
        "]\n",
        "\n",
        "# Loop untuk mencetak gambar karakter\n",
        "for y in range(len(grid[0])):  # Iterasi melalui kolom (y)\n",
        "    for x in range(len(grid)):  # Iterasi melalui baris (x)\n",
        "        print(grid[x][y], end='')  # Mencetak karakter tanpa newline\n",
        "    print()  # Mencetak newline setelah satu baris selesai"
      ],
      "metadata": {
        "colab": {
          "base_uri": "https://localhost:8080/"
        },
        "id": "Agad92L7FgBg",
        "outputId": "ecb8fae9-2219-4bb4-81e5-b766d8a6c32a"
      },
      "execution_count": 149,
      "outputs": [
        {
          "output_type": "stream",
          "name": "stdout",
          "text": [
            "..OO.OO..\n",
            ".OOOOOOO.\n",
            ".OOOOOOO.\n",
            "..OOOOO..\n",
            "...OOO...\n",
            "....O....\n"
          ]
        }
      ]
    },
    {
      "cell_type": "code",
      "source": [],
      "metadata": {
        "id": "605NakKKGRqE"
      },
      "execution_count": null,
      "outputs": []
    }
  ]
}
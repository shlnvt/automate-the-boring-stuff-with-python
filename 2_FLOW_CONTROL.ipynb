{
  "nbformat": 4,
  "nbformat_minor": 0,
  "metadata": {
    "colab": {
      "provenance": []
    },
    "kernelspec": {
      "name": "python3",
      "display_name": "Python 3"
    },
    "language_info": {
      "name": "python"
    }
  },
  "cells": [
    {
      "cell_type": "markdown",
      "source": [
        "# Boolean Values"
      ],
      "metadata": {
        "id": "cb-WCJtSZ_mE"
      }
    },
    {
      "cell_type": "code",
      "execution_count": 1,
      "metadata": {
        "colab": {
          "base_uri": "https://localhost:8080/"
        },
        "id": "dHWrjYEmZ6iK",
        "outputId": "3ac4266b-2eec-4027-8f9c-94e7da7454f2"
      },
      "outputs": [
        {
          "output_type": "execute_result",
          "data": {
            "text/plain": [
              "True"
            ]
          },
          "metadata": {},
          "execution_count": 1
        }
      ],
      "source": [
        "spam = True\n",
        "spam"
      ]
    },
    {
      "cell_type": "code",
      "source": [
        "true"
      ],
      "metadata": {
        "colab": {
          "base_uri": "https://localhost:8080/",
          "height": 144
        },
        "id": "eRji8B7aaseH",
        "outputId": "18600789-a87e-4614-f0b1-d431c65958c2"
      },
      "execution_count": 2,
      "outputs": [
        {
          "output_type": "error",
          "ename": "NameError",
          "evalue": "name 'true' is not defined",
          "traceback": [
            "\u001b[0;31m---------------------------------------------------------------------------\u001b[0m",
            "\u001b[0;31mNameError\u001b[0m                                 Traceback (most recent call last)",
            "\u001b[0;32m<ipython-input-2-724ba28f4a9a>\u001b[0m in \u001b[0;36m<cell line: 0>\u001b[0;34m()\u001b[0m\n\u001b[0;32m----> 1\u001b[0;31m \u001b[0mtrue\u001b[0m\u001b[0;34m\u001b[0m\u001b[0;34m\u001b[0m\u001b[0m\n\u001b[0m",
            "\u001b[0;31mNameError\u001b[0m: name 'true' is not defined"
          ]
        }
      ]
    },
    {
      "cell_type": "code",
      "source": [
        "True = 2 + 2"
      ],
      "metadata": {
        "colab": {
          "base_uri": "https://localhost:8080/",
          "height": 108
        },
        "id": "wS3eIEsSawIh",
        "outputId": "e4456344-1e04-48b4-c13a-a18e6672e24e"
      },
      "execution_count": 3,
      "outputs": [
        {
          "output_type": "error",
          "ename": "SyntaxError",
          "evalue": "cannot assign to True (<ipython-input-3-c9569069d938>, line 1)",
          "traceback": [
            "\u001b[0;36m  File \u001b[0;32m\"<ipython-input-3-c9569069d938>\"\u001b[0;36m, line \u001b[0;32m1\u001b[0m\n\u001b[0;31m    True = 2 + 2\u001b[0m\n\u001b[0m    ^\u001b[0m\n\u001b[0;31mSyntaxError\u001b[0m\u001b[0;31m:\u001b[0m cannot assign to True\n"
          ]
        }
      ]
    },
    {
      "cell_type": "markdown",
      "source": [
        "# Comparison Operators"
      ],
      "metadata": {
        "id": "a64r8AfLa2Wc"
      }
    },
    {
      "cell_type": "code",
      "source": [
        "42 == 42"
      ],
      "metadata": {
        "colab": {
          "base_uri": "https://localhost:8080/"
        },
        "id": "zn3UD5t5ayFO",
        "outputId": "820d6bbc-2d6b-4e6d-bc07-bb3df23bdf3a"
      },
      "execution_count": 4,
      "outputs": [
        {
          "output_type": "execute_result",
          "data": {
            "text/plain": [
              "True"
            ]
          },
          "metadata": {},
          "execution_count": 4
        }
      ]
    },
    {
      "cell_type": "code",
      "source": [
        "42 == 99"
      ],
      "metadata": {
        "colab": {
          "base_uri": "https://localhost:8080/"
        },
        "id": "bdIL2uNsbPPQ",
        "outputId": "46153d0e-f0c6-4ee1-cf0b-cea120e3dfab"
      },
      "execution_count": 5,
      "outputs": [
        {
          "output_type": "execute_result",
          "data": {
            "text/plain": [
              "False"
            ]
          },
          "metadata": {},
          "execution_count": 5
        }
      ]
    },
    {
      "cell_type": "code",
      "source": [
        "2 != 3"
      ],
      "metadata": {
        "colab": {
          "base_uri": "https://localhost:8080/"
        },
        "id": "idAmI0WAbQXE",
        "outputId": "7ccbf8c6-5082-46e3-9ae3-a67a0deb21fe"
      },
      "execution_count": 6,
      "outputs": [
        {
          "output_type": "execute_result",
          "data": {
            "text/plain": [
              "True"
            ]
          },
          "metadata": {},
          "execution_count": 6
        }
      ]
    },
    {
      "cell_type": "code",
      "source": [
        "2 != 2"
      ],
      "metadata": {
        "colab": {
          "base_uri": "https://localhost:8080/"
        },
        "id": "u9lhTcejbRfT",
        "outputId": "03e6cfa6-49e3-4de0-8b69-cea76f0dee86"
      },
      "execution_count": 8,
      "outputs": [
        {
          "output_type": "execute_result",
          "data": {
            "text/plain": [
              "False"
            ]
          },
          "metadata": {},
          "execution_count": 8
        }
      ]
    },
    {
      "cell_type": "code",
      "source": [
        "'hello' == 'hello'"
      ],
      "metadata": {
        "colab": {
          "base_uri": "https://localhost:8080/"
        },
        "id": "8-3UvqD7bTac",
        "outputId": "5405a87b-a374-4e7d-cf0a-e964634a00ec"
      },
      "execution_count": 9,
      "outputs": [
        {
          "output_type": "execute_result",
          "data": {
            "text/plain": [
              "True"
            ]
          },
          "metadata": {},
          "execution_count": 9
        }
      ]
    },
    {
      "cell_type": "code",
      "source": [
        "'hello' == 'Hello'"
      ],
      "metadata": {
        "colab": {
          "base_uri": "https://localhost:8080/"
        },
        "id": "lFd2qOKNbcPq",
        "outputId": "6e706e03-7eac-4a10-b6bc-57560472e08d"
      },
      "execution_count": 10,
      "outputs": [
        {
          "output_type": "execute_result",
          "data": {
            "text/plain": [
              "False"
            ]
          },
          "metadata": {},
          "execution_count": 10
        }
      ]
    },
    {
      "cell_type": "code",
      "source": [
        "'dog' != 'cat'"
      ],
      "metadata": {
        "colab": {
          "base_uri": "https://localhost:8080/"
        },
        "id": "xwBJXInwbe-D",
        "outputId": "d724a8d7-75da-48ad-b837-0793bcda7c85"
      },
      "execution_count": 11,
      "outputs": [
        {
          "output_type": "execute_result",
          "data": {
            "text/plain": [
              "True"
            ]
          },
          "metadata": {},
          "execution_count": 11
        }
      ]
    },
    {
      "cell_type": "code",
      "source": [
        "True == True"
      ],
      "metadata": {
        "colab": {
          "base_uri": "https://localhost:8080/"
        },
        "id": "ZyVceb7BbiSl",
        "outputId": "672687cb-6325-4491-93a0-a3b7be0ce264"
      },
      "execution_count": 12,
      "outputs": [
        {
          "output_type": "execute_result",
          "data": {
            "text/plain": [
              "True"
            ]
          },
          "metadata": {},
          "execution_count": 12
        }
      ]
    },
    {
      "cell_type": "code",
      "source": [
        "True != False"
      ],
      "metadata": {
        "colab": {
          "base_uri": "https://localhost:8080/"
        },
        "id": "rLZo0mhZbkdj",
        "outputId": "ea564bde-8f06-4b5d-9fcc-6335741ad506"
      },
      "execution_count": 13,
      "outputs": [
        {
          "output_type": "execute_result",
          "data": {
            "text/plain": [
              "True"
            ]
          },
          "metadata": {},
          "execution_count": 13
        }
      ]
    },
    {
      "cell_type": "code",
      "source": [
        "42 == 42.0"
      ],
      "metadata": {
        "colab": {
          "base_uri": "https://localhost:8080/"
        },
        "id": "cL5lApSpbmDK",
        "outputId": "0f1afdd0-969f-4d41-f882-ecf55b23c8a8"
      },
      "execution_count": 14,
      "outputs": [
        {
          "output_type": "execute_result",
          "data": {
            "text/plain": [
              "True"
            ]
          },
          "metadata": {},
          "execution_count": 14
        }
      ]
    },
    {
      "cell_type": "code",
      "source": [
        "42 == '42'"
      ],
      "metadata": {
        "colab": {
          "base_uri": "https://localhost:8080/"
        },
        "id": "kZa3s4Agbn_L",
        "outputId": "fe517797-ecae-4dae-982b-4d3b7867b052"
      },
      "execution_count": 15,
      "outputs": [
        {
          "output_type": "execute_result",
          "data": {
            "text/plain": [
              "False"
            ]
          },
          "metadata": {},
          "execution_count": 15
        }
      ]
    },
    {
      "cell_type": "code",
      "source": [
        "42 < 100"
      ],
      "metadata": {
        "colab": {
          "base_uri": "https://localhost:8080/"
        },
        "id": "3-qnWI7ebpi6",
        "outputId": "de112ccb-c88a-47ea-a1da-59f14d709cae"
      },
      "execution_count": 16,
      "outputs": [
        {
          "output_type": "execute_result",
          "data": {
            "text/plain": [
              "True"
            ]
          },
          "metadata": {},
          "execution_count": 16
        }
      ]
    },
    {
      "cell_type": "code",
      "source": [
        "42 > 100"
      ],
      "metadata": {
        "colab": {
          "base_uri": "https://localhost:8080/"
        },
        "id": "F6toaPDPbvWp",
        "outputId": "150a16ba-1124-4b9e-de53-88e21cc40bc8"
      },
      "execution_count": 17,
      "outputs": [
        {
          "output_type": "execute_result",
          "data": {
            "text/plain": [
              "False"
            ]
          },
          "metadata": {},
          "execution_count": 17
        }
      ]
    },
    {
      "cell_type": "code",
      "source": [
        "42 < 42"
      ],
      "metadata": {
        "colab": {
          "base_uri": "https://localhost:8080/"
        },
        "id": "mh8lnMrabwuO",
        "outputId": "ad8dce89-b64a-4a0e-8a60-e45dc718f7ba"
      },
      "execution_count": 18,
      "outputs": [
        {
          "output_type": "execute_result",
          "data": {
            "text/plain": [
              "False"
            ]
          },
          "metadata": {},
          "execution_count": 18
        }
      ]
    },
    {
      "cell_type": "code",
      "source": [
        "eggCount = 42"
      ],
      "metadata": {
        "id": "HgQu0o4Nbx4j"
      },
      "execution_count": 19,
      "outputs": []
    },
    {
      "cell_type": "code",
      "source": [
        "eggCount <= 42"
      ],
      "metadata": {
        "colab": {
          "base_uri": "https://localhost:8080/"
        },
        "id": "ieAHwIp_b0gC",
        "outputId": "bb266a7b-1c03-45a2-a9e4-780ad78b6e7d"
      },
      "execution_count": 20,
      "outputs": [
        {
          "output_type": "execute_result",
          "data": {
            "text/plain": [
              "True"
            ]
          },
          "metadata": {},
          "execution_count": 20
        }
      ]
    },
    {
      "cell_type": "code",
      "source": [
        "myAge = 29"
      ],
      "metadata": {
        "id": "DDoRUBu7b2nS"
      },
      "execution_count": 21,
      "outputs": []
    },
    {
      "cell_type": "code",
      "source": [
        "myAge >= 10"
      ],
      "metadata": {
        "colab": {
          "base_uri": "https://localhost:8080/"
        },
        "id": "MAtVP7Onb4Wo",
        "outputId": "a68da381-037b-4ce3-c90b-37993d8b2a76"
      },
      "execution_count": 22,
      "outputs": [
        {
          "output_type": "execute_result",
          "data": {
            "text/plain": [
              "True"
            ]
          },
          "metadata": {},
          "execution_count": 22
        }
      ]
    },
    {
      "cell_type": "markdown",
      "source": [
        "# Boolean Operators"
      ],
      "metadata": {
        "id": "xsgbYbH7cKfr"
      }
    },
    {
      "cell_type": "markdown",
      "source": [
        "## Binary Boolean Operators"
      ],
      "metadata": {
        "id": "Q2LD-LiNcMQL"
      }
    },
    {
      "cell_type": "code",
      "source": [
        "True and True"
      ],
      "metadata": {
        "colab": {
          "base_uri": "https://localhost:8080/"
        },
        "id": "yY8t09_Ib6vM",
        "outputId": "7657e149-b231-4b04-c58b-04fa5cad8ef7"
      },
      "execution_count": 23,
      "outputs": [
        {
          "output_type": "execute_result",
          "data": {
            "text/plain": [
              "True"
            ]
          },
          "metadata": {},
          "execution_count": 23
        }
      ]
    },
    {
      "cell_type": "code",
      "source": [
        "True and False"
      ],
      "metadata": {
        "colab": {
          "base_uri": "https://localhost:8080/"
        },
        "id": "42Gqg5bNd4EN",
        "outputId": "501f75ef-3ab7-44f5-a3f2-c2d860acf920"
      },
      "execution_count": 24,
      "outputs": [
        {
          "output_type": "execute_result",
          "data": {
            "text/plain": [
              "False"
            ]
          },
          "metadata": {},
          "execution_count": 24
        }
      ]
    },
    {
      "cell_type": "code",
      "source": [
        "False or True"
      ],
      "metadata": {
        "colab": {
          "base_uri": "https://localhost:8080/"
        },
        "id": "ZedKO_3Md6Ho",
        "outputId": "87d5c34d-6e9f-4d89-9c98-11c68d1c1298"
      },
      "execution_count": 25,
      "outputs": [
        {
          "output_type": "execute_result",
          "data": {
            "text/plain": [
              "True"
            ]
          },
          "metadata": {},
          "execution_count": 25
        }
      ]
    },
    {
      "cell_type": "code",
      "source": [
        "False or False"
      ],
      "metadata": {
        "colab": {
          "base_uri": "https://localhost:8080/"
        },
        "id": "loshGbJneUOl",
        "outputId": "c21d4d40-2c84-4aa4-f000-35a94672ac79"
      },
      "execution_count": 26,
      "outputs": [
        {
          "output_type": "execute_result",
          "data": {
            "text/plain": [
              "False"
            ]
          },
          "metadata": {},
          "execution_count": 26
        }
      ]
    },
    {
      "cell_type": "markdown",
      "source": [
        "## The not Operator"
      ],
      "metadata": {
        "id": "wKUnk6gnepuq"
      }
    },
    {
      "cell_type": "code",
      "source": [
        "not True"
      ],
      "metadata": {
        "colab": {
          "base_uri": "https://localhost:8080/"
        },
        "id": "6HMiGATHeXX5",
        "outputId": "d1cb0f95-bbc4-4670-9fcb-c04e8b5f0a7a"
      },
      "execution_count": 27,
      "outputs": [
        {
          "output_type": "execute_result",
          "data": {
            "text/plain": [
              "False"
            ]
          },
          "metadata": {},
          "execution_count": 27
        }
      ]
    },
    {
      "cell_type": "code",
      "source": [
        "not not not not True"
      ],
      "metadata": {
        "colab": {
          "base_uri": "https://localhost:8080/"
        },
        "id": "XzQjaauXeemD",
        "outputId": "fa6ddbad-53b9-4da0-f464-9ffe9ff0e191"
      },
      "execution_count": 28,
      "outputs": [
        {
          "output_type": "execute_result",
          "data": {
            "text/plain": [
              "True"
            ]
          },
          "metadata": {},
          "execution_count": 28
        }
      ]
    },
    {
      "cell_type": "markdown",
      "source": [
        "# Mixing Boolean and Comparison Operators"
      ],
      "metadata": {
        "id": "fi-TQjFCexR6"
      }
    },
    {
      "cell_type": "code",
      "source": [
        "(4 < 5) and (5 < 6)"
      ],
      "metadata": {
        "colab": {
          "base_uri": "https://localhost:8080/"
        },
        "id": "DBbujfSFegoh",
        "outputId": "493819be-52b5-42a1-927b-ef317e9c7e77"
      },
      "execution_count": 29,
      "outputs": [
        {
          "output_type": "execute_result",
          "data": {
            "text/plain": [
              "True"
            ]
          },
          "metadata": {},
          "execution_count": 29
        }
      ]
    },
    {
      "cell_type": "code",
      "source": [
        "(4 < 5) and (9 < 6)"
      ],
      "metadata": {
        "colab": {
          "base_uri": "https://localhost:8080/"
        },
        "id": "gzm4ugiMfEht",
        "outputId": "843d4d86-4ce2-4452-f707-7f0e02cad1c6"
      },
      "execution_count": 30,
      "outputs": [
        {
          "output_type": "execute_result",
          "data": {
            "text/plain": [
              "False"
            ]
          },
          "metadata": {},
          "execution_count": 30
        }
      ]
    },
    {
      "cell_type": "code",
      "source": [
        "(1 == 2) or (2 == 2)"
      ],
      "metadata": {
        "colab": {
          "base_uri": "https://localhost:8080/"
        },
        "id": "xJhYAetdfIIF",
        "outputId": "d914ee36-bc2a-4b2e-b679-56a3d5890cd5"
      },
      "execution_count": 31,
      "outputs": [
        {
          "output_type": "execute_result",
          "data": {
            "text/plain": [
              "True"
            ]
          },
          "metadata": {},
          "execution_count": 31
        }
      ]
    },
    {
      "cell_type": "code",
      "source": [
        "2 + 2 == 4 and not 2 + 2 == 5 and 2 * 2 == 2 + 2"
      ],
      "metadata": {
        "colab": {
          "base_uri": "https://localhost:8080/"
        },
        "id": "2vk2bLcAfLYp",
        "outputId": "78589952-8f5c-4079-eb89-269675a24ced"
      },
      "execution_count": 33,
      "outputs": [
        {
          "output_type": "execute_result",
          "data": {
            "text/plain": [
              "True"
            ]
          },
          "metadata": {},
          "execution_count": 33
        }
      ]
    },
    {
      "cell_type": "markdown",
      "source": [
        "# Elements of Flow Control"
      ],
      "metadata": {
        "id": "dny88BZvfypp"
      }
    },
    {
      "cell_type": "markdown",
      "source": [
        "## Conditions"
      ],
      "metadata": {
        "id": "fCZ4lMNMf0Gq"
      }
    },
    {
      "cell_type": "markdown",
      "source": [
        "## Blocks of Code"
      ],
      "metadata": {
        "id": "1-UcxufegDVa"
      }
    },
    {
      "cell_type": "code",
      "source": [
        "name = 'Mary'\n",
        "password = 'swordfish'\n",
        "if name == 'Mary':\n",
        "  print('Hello, Mary!')\n",
        "  if password == 'swordfish':\n",
        "    print('Access granted.')\n",
        "  else:\n",
        "    print('Wrong password.')"
      ],
      "metadata": {
        "colab": {
          "base_uri": "https://localhost:8080/"
        },
        "id": "HAlUIodefoMG",
        "outputId": "5370093e-7663-4bed-b2d0-8d407db23845"
      },
      "execution_count": 34,
      "outputs": [
        {
          "output_type": "stream",
          "name": "stdout",
          "text": [
            "Hello, Mary!\n",
            "Access granted.\n"
          ]
        }
      ]
    },
    {
      "cell_type": "markdown",
      "source": [
        "# Program Execution"
      ],
      "metadata": {
        "id": "m872ilAciWQp"
      }
    },
    {
      "cell_type": "markdown",
      "source": [
        "# Flow Control Statements"
      ],
      "metadata": {
        "id": "BRD39SZ7iZm4"
      }
    },
    {
      "cell_type": "markdown",
      "source": [
        "## if Statements"
      ],
      "metadata": {
        "id": "iFQMQxbrinA5"
      }
    },
    {
      "cell_type": "code",
      "source": [
        "if name == 'Alice':\n",
        "  print('Hi, Alice.')"
      ],
      "metadata": {
        "id": "hGMu4S4riPi1"
      },
      "execution_count": 35,
      "outputs": []
    },
    {
      "cell_type": "markdown",
      "source": [
        "## else Statements"
      ],
      "metadata": {
        "id": "9G5JtxnrjBHD"
      }
    },
    {
      "cell_type": "code",
      "source": [
        "if name == 'Alice':\n",
        "  print('Hi, Alice.')\n",
        "else:\n",
        "  print('Hello, stranger.')"
      ],
      "metadata": {
        "colab": {
          "base_uri": "https://localhost:8080/"
        },
        "id": "l3r3zTGKi42H",
        "outputId": "43a3a197-6a52-4f41-928b-bcc192795c14"
      },
      "execution_count": 36,
      "outputs": [
        {
          "output_type": "stream",
          "name": "stdout",
          "text": [
            "Hello, stranger.\n"
          ]
        }
      ]
    },
    {
      "cell_type": "markdown",
      "source": [
        "## elif Statements"
      ],
      "metadata": {
        "id": "2YY04nbDjWJM"
      }
    },
    {
      "cell_type": "code",
      "source": [
        "if name == 'Alice':\n",
        "  print('Hi, Alice.')\n",
        "elif age < 12:\n",
        "  print('You are not Alice, kiddo.')"
      ],
      "metadata": {
        "colab": {
          "base_uri": "https://localhost:8080/",
          "height": 198
        },
        "id": "kXvbL1zujQI4",
        "outputId": "94f72fce-b5bc-48e3-dbef-b898808271b4"
      },
      "execution_count": 37,
      "outputs": [
        {
          "output_type": "error",
          "ename": "NameError",
          "evalue": "name 'age' is not defined",
          "traceback": [
            "\u001b[0;31m---------------------------------------------------------------------------\u001b[0m",
            "\u001b[0;31mNameError\u001b[0m                                 Traceback (most recent call last)",
            "\u001b[0;32m<ipython-input-37-8aef55e6d460>\u001b[0m in \u001b[0;36m<cell line: 0>\u001b[0;34m()\u001b[0m\n\u001b[1;32m      1\u001b[0m \u001b[0;32mif\u001b[0m \u001b[0mname\u001b[0m \u001b[0;34m==\u001b[0m \u001b[0;34m'Alice'\u001b[0m\u001b[0;34m:\u001b[0m\u001b[0;34m\u001b[0m\u001b[0;34m\u001b[0m\u001b[0m\n\u001b[1;32m      2\u001b[0m   \u001b[0mprint\u001b[0m\u001b[0;34m(\u001b[0m\u001b[0;34m'Hi, Alice.'\u001b[0m\u001b[0;34m)\u001b[0m\u001b[0;34m\u001b[0m\u001b[0;34m\u001b[0m\u001b[0m\n\u001b[0;32m----> 3\u001b[0;31m \u001b[0;32melif\u001b[0m \u001b[0mage\u001b[0m \u001b[0;34m<\u001b[0m \u001b[0;36m12\u001b[0m\u001b[0;34m:\u001b[0m\u001b[0;34m\u001b[0m\u001b[0;34m\u001b[0m\u001b[0m\n\u001b[0m\u001b[1;32m      4\u001b[0m   \u001b[0mprint\u001b[0m\u001b[0;34m(\u001b[0m\u001b[0;34m'You are not Alice, kiddo.'\u001b[0m\u001b[0;34m)\u001b[0m\u001b[0;34m\u001b[0m\u001b[0;34m\u001b[0m\u001b[0m\n",
            "\u001b[0;31mNameError\u001b[0m: name 'age' is not defined"
          ]
        }
      ]
    },
    {
      "cell_type": "code",
      "source": [
        "name = 'Carol'\n",
        "age = 3000"
      ],
      "metadata": {
        "id": "JrUEVCfykpy8"
      },
      "execution_count": 38,
      "outputs": []
    },
    {
      "cell_type": "code",
      "source": [
        "if name == 'Alice':\n",
        "  print('Hi, Alice.')\n",
        "elif age < 12:\n",
        "  print('You are not Alice, kiddo.')\n",
        "elif age > 2000:\n",
        "  print('Unlike you, Alice is not an undead, immortal vampire.')\n",
        "elif age > 100:\n",
        "  print('You are not Alice, grannie.')"
      ],
      "metadata": {
        "colab": {
          "base_uri": "https://localhost:8080/"
        },
        "id": "Ti-ylsXklBxl",
        "outputId": "9b7d54e3-9f36-4648-b3c8-25392cc1aab5"
      },
      "execution_count": 39,
      "outputs": [
        {
          "output_type": "stream",
          "name": "stdout",
          "text": [
            "Unlike you, Alice is not an undead, immortal vampire.\n"
          ]
        }
      ]
    },
    {
      "cell_type": "code",
      "source": [
        "if name == 'Alice':\n",
        "  print('Hi, Alice.')\n",
        "elif age < 12:\n",
        "  print('You are not Alice, kiddo.')\n",
        "elif age > 100:\n",
        "  print('You are not Alice, grannie.')\n",
        "elif age > 2000:\n",
        "  print('Unlike you, Alice is not an undead, immortal vampire.')"
      ],
      "metadata": {
        "colab": {
          "base_uri": "https://localhost:8080/"
        },
        "id": "ql08Uq9Yla-u",
        "outputId": "36e976ee-ff40-4a71-f1e7-fe365ff166c6"
      },
      "execution_count": 40,
      "outputs": [
        {
          "output_type": "stream",
          "name": "stdout",
          "text": [
            "You are not Alice, grannie.\n"
          ]
        }
      ]
    },
    {
      "cell_type": "code",
      "source": [
        "if name == 'Alice':\n",
        "  print('Hi, Alice.')\n",
        "elif age < 12:\n",
        "  print('You are not Alice, kiddo.')\n",
        "else:\n",
        "  print('You are neither Alice nor a little kid.')"
      ],
      "metadata": {
        "colab": {
          "base_uri": "https://localhost:8080/"
        },
        "id": "twbot_HRlopE",
        "outputId": "bfd3b700-0fa0-41aa-f1cb-191380e0270a"
      },
      "execution_count": 41,
      "outputs": [
        {
          "output_type": "stream",
          "name": "stdout",
          "text": [
            "You are neither Alice nor a little kid.\n"
          ]
        }
      ]
    },
    {
      "cell_type": "markdown",
      "source": [
        "## while Loop Statements"
      ],
      "metadata": {
        "id": "5FgYbiGsmIey"
      }
    },
    {
      "cell_type": "code",
      "source": [
        "spam = 0"
      ],
      "metadata": {
        "id": "-H9NBas8mAVO"
      },
      "execution_count": 42,
      "outputs": []
    },
    {
      "cell_type": "code",
      "source": [
        "# code with an if statement\n",
        "if spam < 5:\n",
        "  print('Hello, world.')\n",
        "  spam = spam + 1"
      ],
      "metadata": {
        "colab": {
          "base_uri": "https://localhost:8080/"
        },
        "id": "I0BTPlx0p6ch",
        "outputId": "9a5d18a1-4014-4896-e336-b18a5795924d"
      },
      "execution_count": 43,
      "outputs": [
        {
          "output_type": "stream",
          "name": "stdout",
          "text": [
            "Hello, world.\n"
          ]
        }
      ]
    },
    {
      "cell_type": "code",
      "source": [
        "# code with a while statement\n",
        "while spam < 5:\n",
        "  print('Hello, world.')\n",
        "  spam = spam + 1"
      ],
      "metadata": {
        "colab": {
          "base_uri": "https://localhost:8080/"
        },
        "id": "A1frB5V8qDsm",
        "outputId": "a04b92a0-97ba-4994-dd22-8f12b6731c1b"
      },
      "execution_count": 44,
      "outputs": [
        {
          "output_type": "stream",
          "name": "stdout",
          "text": [
            "Hello, world.\n",
            "Hello, world.\n",
            "Hello, world.\n",
            "Hello, world.\n"
          ]
        }
      ]
    },
    {
      "cell_type": "markdown",
      "source": [
        "# An Annoying while Loop"
      ],
      "metadata": {
        "id": "XbOeKc-ZrFVF"
      }
    },
    {
      "cell_type": "code",
      "source": [
        "name = ''"
      ],
      "metadata": {
        "id": "tq_Irt_9qWw8"
      },
      "execution_count": 45,
      "outputs": []
    },
    {
      "cell_type": "code",
      "source": [
        "while name != 'your name':\n",
        "  print('Please type your name.')\n",
        "  name = input()\n",
        "print('Thank you!')"
      ],
      "metadata": {
        "colab": {
          "base_uri": "https://localhost:8080/"
        },
        "id": "t_-YVjJbrtEx",
        "outputId": "5f2091d1-55fb-46a3-f144-230f459e4cc2"
      },
      "execution_count": 49,
      "outputs": [
        {
          "output_type": "stream",
          "name": "stdout",
          "text": [
            "Please type your name.\n",
            "sean\n",
            "Please type your name.\n",
            "489390414\n",
            "Please type your name.\n",
            "your name\n",
            "Thank you!\n"
          ]
        }
      ]
    },
    {
      "cell_type": "markdown",
      "source": [
        "## break Statements"
      ],
      "metadata": {
        "id": "6r6eHGZYtEee"
      }
    },
    {
      "cell_type": "code",
      "source": [
        "while True:\n",
        "  print('Please type your name.')\n",
        "  name = input()\n",
        "  if name == 'your name':\n",
        "    break\n",
        "print('Thank you!')"
      ],
      "metadata": {
        "colab": {
          "base_uri": "https://localhost:8080/"
        },
        "id": "qQGqObMwsLEP",
        "outputId": "adcde7fb-23f6-4bda-fd51-e4d699417a7f"
      },
      "execution_count": 50,
      "outputs": [
        {
          "output_type": "stream",
          "name": "stdout",
          "text": [
            "Please type your name.\n",
            "sean\n",
            "Please type your name.\n",
            "your name\n",
            "Thank you!\n"
          ]
        }
      ]
    },
    {
      "cell_type": "markdown",
      "source": [
        "## continue Statements"
      ],
      "metadata": {
        "id": "dc3b6xa_t7J-"
      }
    },
    {
      "cell_type": "code",
      "source": [
        "while True:\n",
        "  print('Who are you?')\n",
        "  name = input()\n",
        "  if name != 'Joe':\n",
        "    continue\n",
        "  print('Hello, Joe. What is the password? (It is a fish.)')\n",
        "  password = input()\n",
        "  if password == 'swordfish':\n",
        "    break\n",
        "print('Access granted.')"
      ],
      "metadata": {
        "colab": {
          "base_uri": "https://localhost:8080/"
        },
        "id": "dmFH06RjtrHD",
        "outputId": "fdb25be8-a163-4831-fbc3-4f1734ca9759"
      },
      "execution_count": 51,
      "outputs": [
        {
          "output_type": "stream",
          "name": "stdout",
          "text": [
            "Who are you?\n",
            "Joe\n",
            "Hello, Joe. What is the password? (It is a fish.)\n",
            "swordfishh\n",
            "Who are you?\n",
            "Joe\n",
            "Hello, Joe. What is the password? (It is a fish.)\n",
            "swordfish\n",
            "Access granted.\n"
          ]
        }
      ]
    },
    {
      "cell_type": "code",
      "source": [
        "name = ''\n",
        "while not name:\n",
        "  print('Enter your name:')\n",
        "  name = input()\n",
        "print('How many guests will you have?')\n",
        "numOfGuests = int(input())\n",
        "if numOfGuests:\n",
        "  print('Be sure to have enough rom for all your guests.')\n",
        "print('Done')"
      ],
      "metadata": {
        "colab": {
          "base_uri": "https://localhost:8080/"
        },
        "id": "wIPB51W3veQW",
        "outputId": "861e3e26-2c9d-4feb-b738-1c2e7b2ff004"
      },
      "execution_count": 54,
      "outputs": [
        {
          "output_type": "stream",
          "name": "stdout",
          "text": [
            "Enter your name:\n",
            "9\n",
            "How many guests will you have?\n",
            "7\n",
            "Be sure to have enough rom for all your guests.\n",
            "Done\n"
          ]
        }
      ]
    },
    {
      "cell_type": "code",
      "source": [
        "while True:\n",
        "  print('Who are you?')\n",
        "  name = input()\n",
        "  if name != 'Joe':\n",
        "    continue\n",
        "  print('Hello, Joe. What is the password? (It is a fish.)')\n",
        "  password = input()\n",
        "  if password == 'swordfish':\n",
        "    break\n",
        "print('Access granted.')"
      ],
      "metadata": {
        "colab": {
          "base_uri": "https://localhost:8080/"
        },
        "id": "rTI6Wal7wDSC",
        "outputId": "284a760b-d527-47a9-8833-ec8fa71835e8"
      },
      "execution_count": 55,
      "outputs": [
        {
          "output_type": "stream",
          "name": "stdout",
          "text": [
            "Who are you?\n",
            "I'm fine, thanks. Who are you?\n",
            "Who are you?\n",
            "Joe\n",
            "Hello, Joe. What is the password? (It is a fish.)\n",
            "mary\n",
            "Who are you?\n",
            "Joe\n",
            "Hello, Joe. What is the password? (It is a fish.)\n",
            "swordfish\n",
            "Access granted.\n"
          ]
        }
      ]
    },
    {
      "cell_type": "markdown",
      "source": [
        "## for Loops and the range() Function"
      ],
      "metadata": {
        "id": "zk3-oZp4w0s_"
      }
    },
    {
      "cell_type": "code",
      "source": [
        "print('My name is')\n",
        "for i in range(5):\n",
        "  print('Jimmy Five Times (' + str(i) + ')')"
      ],
      "metadata": {
        "colab": {
          "base_uri": "https://localhost:8080/"
        },
        "id": "3hq-9xJzwoE2",
        "outputId": "daab8d83-3555-4547-9708-32808511f580"
      },
      "execution_count": 56,
      "outputs": [
        {
          "output_type": "stream",
          "name": "stdout",
          "text": [
            "My name is\n",
            "Jimmy Five Times (0)\n",
            "Jimmy Five Times (1)\n",
            "Jimmy Five Times (2)\n",
            "Jimmy Five Times (3)\n",
            "Jimmy Five Times (4)\n"
          ]
        }
      ]
    },
    {
      "cell_type": "code",
      "source": [
        "total = 0\n",
        "for num in range (101):\n",
        "  total = total + num\n",
        "print(total)"
      ],
      "metadata": {
        "colab": {
          "base_uri": "https://localhost:8080/"
        },
        "id": "0loMoyKpxvs2",
        "outputId": "f649fe74-8e49-4ef0-b349-529af0565152"
      },
      "execution_count": 57,
      "outputs": [
        {
          "output_type": "stream",
          "name": "stdout",
          "text": [
            "5050\n"
          ]
        }
      ]
    },
    {
      "cell_type": "markdown",
      "source": [
        "# An Equivalent while Loop"
      ],
      "metadata": {
        "id": "wAyF9RMlyF8M"
      }
    },
    {
      "cell_type": "code",
      "source": [
        "print('My name is')\n",
        "i = 0\n",
        "while i < 5:\n",
        "  print('Jimmy Five Times (' + str(i) + ')')\n",
        "  i = i + 1"
      ],
      "metadata": {
        "colab": {
          "base_uri": "https://localhost:8080/"
        },
        "id": "V63HeUcHx7Oo",
        "outputId": "dd6b4a55-9bdc-4042-bec7-b7118f723888"
      },
      "execution_count": 58,
      "outputs": [
        {
          "output_type": "stream",
          "name": "stdout",
          "text": [
            "My name is\n",
            "Jimmy Five Times (0)\n",
            "Jimmy Five Times (1)\n",
            "Jimmy Five Times (2)\n",
            "Jimmy Five Times (3)\n",
            "Jimmy Five Times (4)\n"
          ]
        }
      ]
    },
    {
      "cell_type": "markdown",
      "source": [
        "# The Starting, Stopping, and Stepping Arguments to range()"
      ],
      "metadata": {
        "id": "tbOdCb5uzavA"
      }
    },
    {
      "cell_type": "code",
      "source": [
        "for i in range(12, 16):\n",
        "  print(i)"
      ],
      "metadata": {
        "colab": {
          "base_uri": "https://localhost:8080/"
        },
        "id": "mEzflqJozUbH",
        "outputId": "27c0fa1a-b973-43e9-e050-1b0173e9a959"
      },
      "execution_count": 59,
      "outputs": [
        {
          "output_type": "stream",
          "name": "stdout",
          "text": [
            "12\n",
            "13\n",
            "14\n",
            "15\n"
          ]
        }
      ]
    },
    {
      "cell_type": "code",
      "source": [
        "for i in range(0, 10, 2):\n",
        "  print(i)"
      ],
      "metadata": {
        "colab": {
          "base_uri": "https://localhost:8080/"
        },
        "id": "0PzY0h_czuuK",
        "outputId": "d5283188-4878-49a0-8cb9-9e2bac8db88c"
      },
      "execution_count": 60,
      "outputs": [
        {
          "output_type": "stream",
          "name": "stdout",
          "text": [
            "0\n",
            "2\n",
            "4\n",
            "6\n",
            "8\n"
          ]
        }
      ]
    },
    {
      "cell_type": "code",
      "source": [
        "for i in range(5, -1, -1):\n",
        "  print(i)"
      ],
      "metadata": {
        "colab": {
          "base_uri": "https://localhost:8080/"
        },
        "id": "5xlfkngdz3Wc",
        "outputId": "7015d54a-27d8-4a31-b4cc-f4ae8babd1af"
      },
      "execution_count": 61,
      "outputs": [
        {
          "output_type": "stream",
          "name": "stdout",
          "text": [
            "5\n",
            "4\n",
            "3\n",
            "2\n",
            "1\n",
            "0\n"
          ]
        }
      ]
    },
    {
      "cell_type": "markdown",
      "source": [
        "# Importing Modules"
      ],
      "metadata": {
        "id": "RxhDfoWd0IFZ"
      }
    },
    {
      "cell_type": "code",
      "source": [
        "import random\n",
        "for i in range(5):\n",
        "  print(random.randint(1, 10))"
      ],
      "metadata": {
        "colab": {
          "base_uri": "https://localhost:8080/"
        },
        "id": "PH-gZjEe0BuF",
        "outputId": "e73137d5-dc51-47f3-de30-b8e5f86129e1"
      },
      "execution_count": 62,
      "outputs": [
        {
          "output_type": "stream",
          "name": "stdout",
          "text": [
            "7\n",
            "7\n",
            "9\n",
            "2\n",
            "1\n"
          ]
        }
      ]
    },
    {
      "cell_type": "code",
      "source": [
        "import random, sys, os, math"
      ],
      "metadata": {
        "id": "1x65TFsF0-TM"
      },
      "execution_count": 63,
      "outputs": []
    },
    {
      "cell_type": "markdown",
      "source": [
        "## from import Statements"
      ],
      "metadata": {
        "id": "SjR_M9x_1VOt"
      }
    },
    {
      "cell_type": "markdown",
      "source": [
        "# Ending a Program Early with the sys.exit() Function"
      ],
      "metadata": {
        "id": "AZfq1s5I1jv3"
      }
    },
    {
      "cell_type": "code",
      "source": [
        "import sys\n",
        "while True:\n",
        "  print('Type exit to exit.')\n",
        "  response = input()\n",
        "  if response == 'exit':\n",
        "    sys.exit()\n",
        "  print('You typed ' + response + '.')"
      ],
      "metadata": {
        "colab": {
          "base_uri": "https://localhost:8080/",
          "height": 180
        },
        "id": "daYEfssH1J4m",
        "outputId": "f98da463-657c-4926-b7b2-bdf361fff9df"
      },
      "execution_count": 66,
      "outputs": [
        {
          "name": "stdout",
          "output_type": "stream",
          "text": [
            "Type exit to exit.\n",
            "t\n",
            "You typed t.\n",
            "Type exit to exit.\n",
            "exit\n"
          ]
        },
        {
          "output_type": "error",
          "ename": "SystemExit",
          "evalue": "",
          "traceback": [
            "An exception has occurred, use %tb to see the full traceback.\n",
            "\u001b[0;31mSystemExit\u001b[0m\n"
          ]
        }
      ]
    },
    {
      "cell_type": "markdown",
      "source": [
        "# A Short Program: Guess the Number"
      ],
      "metadata": {
        "id": "QtydHc8q3IRF"
      }
    },
    {
      "cell_type": "code",
      "source": [
        "# This is a guess the number game.\n",
        "import random\n",
        "secretNumber = random.randint(1, 20)\n",
        "print('I am thinking of a number between 1 and 20.')\n",
        "# Ask the player to guess 6 times.\n",
        "for guessesTaken in range (1, 7):\n",
        "  print('Take a guess.')\n",
        "  guess = int(input())\n",
        "  if guess < secretNumber:\n",
        "    print('Your guess is too low.')\n",
        "  elif guess > secretNumber:\n",
        "    print('Your guess is too high.')\n",
        "  else:\n",
        "    break # This condition is the correct guess!\n",
        "if guess == secretNumber:\n",
        "  print('Good job! You guessed my number in ' + str(guessesTaken) + ' guesses!')\n",
        "else:\n",
        "  print('Nope. The number I was thinking of was ' + str(secretNumber))"
      ],
      "metadata": {
        "colab": {
          "base_uri": "https://localhost:8080/"
        },
        "id": "48kDErCq2tmd",
        "outputId": "91c0d0c3-5c29-49e4-f1a4-e81464588327"
      },
      "execution_count": 74,
      "outputs": [
        {
          "output_type": "stream",
          "name": "stdout",
          "text": [
            "I am thinking of a number between 1 and 20.\n",
            "Take a guess.\n",
            "5\n",
            "Your guess is too low.\n",
            "Take a guess.\n",
            "10\n",
            "Your guess is too low.\n",
            "Take a guess.\n",
            "15\n",
            "Your guess is too high.\n",
            "Take a guess.\n",
            "14\n",
            "Your guess is too high.\n",
            "Take a guess.\n",
            "12\n",
            "Good job! You guessed my number in 5 guesses!\n"
          ]
        }
      ]
    },
    {
      "cell_type": "markdown",
      "source": [
        "# A Short Program: Rock, Paper, Scissors"
      ],
      "metadata": {
        "id": "sl4dSzQ_5l36"
      }
    },
    {
      "cell_type": "code",
      "source": [
        "import random, sys\n",
        "print('ROCK, PAPER, SCISSORS')\n",
        "\n",
        "# These variables keep track of the number of wins, losses, and ties.\n",
        "wins = 0\n",
        "losses = 0\n",
        "ties = 0\n",
        "\n",
        "while True: # Main game loop.\n",
        "  print('%s Wins, %s Losses, %s Ties' % (wins, losses, ties))\n",
        "\n",
        "  while True: # Player input loop.\n",
        "    print('Enter your move: (r)ock (p) paper (s)cissors or (q)uit')\n",
        "    playerMove = input()\n",
        "    if playerMove == 'q':\n",
        "      sys.exit() # Quit the program.\n",
        "    if playerMove == 'r' or playerMove == 'p' or playerMove == 's':\n",
        "      break # Valid input, break out of the loop.\n",
        "    print('Type one of r, p, s, or q.')\n",
        "\n",
        "  # Display what the player chose:\n",
        "  if playerMove == 'r':\n",
        "    print('ROCK versus...')\n",
        "  elif playerMove == 'p':\n",
        "    print('PAPER versus...')\n",
        "  elif playerMove == 's':\n",
        "    print('SCISSORS versus...')\n",
        "\n",
        "  # Display what the computer chose\n",
        "  randomNumber = random.randint(1, 3)\n",
        "  if randomNumber == 1:\n",
        "    computerMove = 'r'\n",
        "    print('ROCK')\n",
        "  elif randomNumber == 2:\n",
        "    computerMove = 'p'\n",
        "    print('PAPER')\n",
        "  elif randomNumber == 3:\n",
        "    computerMove = 's'\n",
        "    print('SCISSORS')\n",
        "\n",
        "  # Display and record the win/loss/tie:\n",
        "  if playerMove == computerMove:\n",
        "    print('It is a tie!')\n",
        "    ties += 1\n",
        "  elif playerMove == 'r' and computerMove == 's':\n",
        "    print('You win!')\n",
        "    wins += 1\n",
        "  elif playerMove == 'p' and computerMove == 'r':\n",
        "    print('You win!')\n",
        "    wins += 1\n",
        "  elif playerMove == 's' and computerMove == 'p':\n",
        "    print('You win!')\n",
        "    wins += 1\n",
        "  elif playerMove == 'r' and computerMove == 'p':\n",
        "    print('You lose!')\n",
        "    losses += 1\n",
        "  elif playerMove == 'p' and computerMove == 's':\n",
        "    print('You lose!')\n",
        "    losses += 1\n",
        "  elif playerMove == 's' and computerMove == 'r':\n",
        "    print('You lose!')\n",
        "    losses += 1\\"
      ],
      "metadata": {
        "colab": {
          "base_uri": "https://localhost:8080/",
          "height": 539
        },
        "id": "ucsDZ7l95Fta",
        "outputId": "c732e5f7-cfae-4130-e7ef-abbff00290e7"
      },
      "execution_count": 75,
      "outputs": [
        {
          "name": "stdout",
          "output_type": "stream",
          "text": [
            "ROCK, PAPER, SCISSORS\n",
            "0 Wins, 0 Losses, 0 Ties\n",
            "Enter your move: (r)ock (p) paper (s)cissors or (q)uit\n",
            "r\n",
            "ROCK versus...\n",
            "PAPER\n",
            "You lose!\n",
            "0 Wins, 1 Losses, 0 Ties\n",
            "Enter your move: (r)ock (p) paper (s)cissors or (q)uit\n",
            "p\n",
            "PAPER versus...\n",
            "SCISSORS\n",
            "You lose!\n",
            "0 Wins, 2 Losses, 0 Ties\n",
            "Enter your move: (r)ock (p) paper (s)cissors or (q)uit\n",
            "s\n",
            "SCISSORS versus...\n",
            "ROCK\n",
            "You lose!\n",
            "0 Wins, 3 Losses, 0 Ties\n",
            "Enter your move: (r)ock (p) paper (s)cissors or (q)uit\n",
            "q\n"
          ]
        },
        {
          "output_type": "error",
          "ename": "SystemExit",
          "evalue": "",
          "traceback": [
            "An exception has occurred, use %tb to see the full traceback.\n",
            "\u001b[0;31mSystemExit\u001b[0m\n"
          ]
        },
        {
          "output_type": "stream",
          "name": "stderr",
          "text": [
            "/usr/local/lib/python3.11/dist-packages/IPython/core/interactiveshell.py:3561: UserWarning: To exit: use 'exit', 'quit', or Ctrl-D.\n",
            "  warn(\"To exit: use 'exit', 'quit', or Ctrl-D.\", stacklevel=1)\n"
          ]
        }
      ]
    },
    {
      "cell_type": "markdown",
      "source": [
        "# Practice Questions"
      ],
      "metadata": {
        "id": "F9O0Llsu-Air"
      }
    },
    {
      "cell_type": "code",
      "source": [
        "(5 > 4) and (3 == 5)"
      ],
      "metadata": {
        "colab": {
          "base_uri": "https://localhost:8080/"
        },
        "id": "yoyhWEyB9ed-",
        "outputId": "f5448257-94ad-426b-8963-f53c025c8503"
      },
      "execution_count": 76,
      "outputs": [
        {
          "output_type": "execute_result",
          "data": {
            "text/plain": [
              "False"
            ]
          },
          "metadata": {},
          "execution_count": 76
        }
      ]
    },
    {
      "cell_type": "code",
      "source": [
        "not (5 > 4)"
      ],
      "metadata": {
        "colab": {
          "base_uri": "https://localhost:8080/"
        },
        "id": "ekJ2TLOF-HJb",
        "outputId": "74af5169-e5f1-406c-dc40-0cf0f3defc9e"
      },
      "execution_count": 77,
      "outputs": [
        {
          "output_type": "execute_result",
          "data": {
            "text/plain": [
              "False"
            ]
          },
          "metadata": {},
          "execution_count": 77
        }
      ]
    },
    {
      "cell_type": "code",
      "source": [
        "(5 > 4) or (3 == 5)"
      ],
      "metadata": {
        "colab": {
          "base_uri": "https://localhost:8080/"
        },
        "id": "udU6slxc-Qxa",
        "outputId": "6c7493de-2aba-4387-f31b-c7479c9f1ac4"
      },
      "execution_count": 78,
      "outputs": [
        {
          "output_type": "execute_result",
          "data": {
            "text/plain": [
              "True"
            ]
          },
          "metadata": {},
          "execution_count": 78
        }
      ]
    },
    {
      "cell_type": "code",
      "source": [
        "not ((5 > 4) or (3 == 5))"
      ],
      "metadata": {
        "colab": {
          "base_uri": "https://localhost:8080/"
        },
        "id": "6JMmWgf2-VGN",
        "outputId": "86bc35cd-45a2-42cf-e3b8-3b720df80e39"
      },
      "execution_count": 79,
      "outputs": [
        {
          "output_type": "execute_result",
          "data": {
            "text/plain": [
              "False"
            ]
          },
          "metadata": {},
          "execution_count": 79
        }
      ]
    },
    {
      "cell_type": "code",
      "source": [
        "(True and True) and (True == False)"
      ],
      "metadata": {
        "colab": {
          "base_uri": "https://localhost:8080/"
        },
        "id": "SqazEjC_-YWS",
        "outputId": "dd69447e-c341-4707-e865-ada61b1fad91"
      },
      "execution_count": 80,
      "outputs": [
        {
          "output_type": "execute_result",
          "data": {
            "text/plain": [
              "False"
            ]
          },
          "metadata": {},
          "execution_count": 80
        }
      ]
    },
    {
      "cell_type": "code",
      "source": [
        "(not False) or (not True)"
      ],
      "metadata": {
        "colab": {
          "base_uri": "https://localhost:8080/"
        },
        "id": "R9LjU456-cw9",
        "outputId": "574834c7-a739-4bdd-f020-56c82aae7637"
      },
      "execution_count": 81,
      "outputs": [
        {
          "output_type": "execute_result",
          "data": {
            "text/plain": [
              "True"
            ]
          },
          "metadata": {},
          "execution_count": 81
        }
      ]
    },
    {
      "cell_type": "code",
      "source": [
        "spam = 0\n",
        "if spam == 10:\n",
        "  print('eggs')\n",
        "  if spam > 5:\n",
        "    print('bacon')\n",
        "  else:\n",
        "    print('ham')\n",
        "  print('spam')\n",
        "print('spam')"
      ],
      "metadata": {
        "colab": {
          "base_uri": "https://localhost:8080/"
        },
        "id": "TJCPNSi--ftb",
        "outputId": "928556e6-f49c-4766-e769-522645e1ff39"
      },
      "execution_count": 82,
      "outputs": [
        {
          "output_type": "stream",
          "name": "stdout",
          "text": [
            "spam\n"
          ]
        }
      ]
    },
    {
      "cell_type": "code",
      "source": [],
      "metadata": {
        "id": "RAlozekV-wC9"
      },
      "execution_count": null,
      "outputs": []
    }
  ]
}